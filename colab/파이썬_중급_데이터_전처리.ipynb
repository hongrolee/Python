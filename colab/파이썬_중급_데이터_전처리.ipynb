{
  "nbformat": 4,
  "nbformat_minor": 0,
  "metadata": {
    "colab": {
      "provenance": [],
      "authorship_tag": "ABX9TyPnqTbx6HAW7uvsxMxmIXNi",
      "include_colab_link": true
    },
    "kernelspec": {
      "name": "python3",
      "display_name": "Python 3"
    },
    "language_info": {
      "name": "python"
    }
  },
  "cells": [
    {
      "cell_type": "markdown",
      "metadata": {
        "id": "view-in-github",
        "colab_type": "text"
      },
      "source": [
        "<a href=\"https://colab.research.google.com/github/hongrolee/Python/blob/main/colab/%ED%8C%8C%EC%9D%B4%EC%8D%AC_%EC%A4%91%EA%B8%89_%EB%8D%B0%EC%9D%B4%ED%84%B0_%EC%A0%84%EC%B2%98%EB%A6%AC.ipynb\" target=\"_parent\"><img src=\"https://colab.research.google.com/assets/colab-badge.svg\" alt=\"Open In Colab\"/></a>"
      ]
    },
    {
      "cell_type": "markdown",
      "source": [
        "# 1. 누락 데이터 처리"
      ],
      "metadata": {
        "id": "bAKGUqVJyjES"
      }
    },
    {
      "cell_type": "markdown",
      "source": [
        "## 1) 누락 데이터 확인"
      ],
      "metadata": {
        "id": "1Ut1x5Rmt-_r"
      }
    },
    {
      "cell_type": "markdown",
      "source": [
        "### 데이터 읽어오기"
      ],
      "metadata": {
        "id": "7i26-q5auNTj"
      }
    },
    {
      "cell_type": "markdown",
      "source": [
        "### 누락 확인하기\n",
        "\n",
        "*   isnull() : 널 확인\n",
        "*   notnull() : 널이 아닌 요소 확인\n",
        "\n"
      ],
      "metadata": {
        "id": "aORhAWSduVID"
      }
    },
    {
      "cell_type": "markdown",
      "source": [
        "## 2) 누락 데이터 개수 확인하기\n",
        "\n",
        "*   isnull().sum() : 누락값 개수 확인\n",
        "*   isnull().sum(1) : 행 단위 누락값 개수 확인\n",
        "*   notnull().sum(1) : 행 단위 실제값 개수 확인\n",
        "\n"
      ],
      "metadata": {
        "id": "mhADJPh8ujVr"
      }
    },
    {
      "cell_type": "markdown",
      "source": [
        "## 3) 누락 데이터 제거하기\n",
        "\n"
      ],
      "metadata": {
        "id": "yEzBNQZsvrwm"
      }
    },
    {
      "cell_type": "markdown",
      "source": [
        "### 행 제거\n",
        "\n",
        "* dropped_all_row = df.dropna(axis=0)\n",
        "\n"
      ],
      "metadata": {
        "id": "Kvm4H3oDvv6u"
      }
    },
    {
      "cell_type": "markdown",
      "source": [
        "### 열 제거\n",
        "\n",
        "*   dropped_all_column = df.dropna(axis=1)\n",
        "\n"
      ],
      "metadata": {
        "id": "2WPxF9AJxAW3"
      }
    },
    {
      "cell_type": "markdown",
      "source": [
        "### 특정 행 또는 열 제거\n",
        "\n",
        "*   df[행이름].dropna()\n",
        "\n"
      ],
      "metadata": {
        "id": "MwAKbAzZxZFa"
      }
    },
    {
      "cell_type": "markdown",
      "source": [
        "### 누락값이 들어있는 행 모두 삭제\n",
        "\n",
        "*   df[[열이름,열이름,...,열이름]].dropna(axis=0)\n",
        "\n"
      ],
      "metadata": {
        "id": "mKeo5F8qxxJP"
      }
    },
    {
      "cell_type": "markdown",
      "source": [
        "### 누락값이 들어있는 열 모두 삭제\n",
        "\n",
        "*   df[[열이름,열이름,...,열이름]].dropna(axis=1)\n",
        "\n"
      ],
      "metadata": {
        "id": "dyvtpLFx4KyS"
      }
    },
    {
      "cell_type": "markdown",
      "source": [
        "## 4) 누락 데이터 수정\n",
        "\n"
      ],
      "metadata": {
        "id": "kLs0xTON5JRA"
      }
    },
    {
      "cell_type": "markdown",
      "source": [
        "### 누락값을 특정값(0)로 대체\n",
        "\n",
        "*  fillna(0)\n",
        "\n"
      ],
      "metadata": {
        "id": "iFoY7CoC5fJd"
      }
    },
    {
      "cell_type": "markdown",
      "source": [
        "### 특정 열의 누락값을 특정값(0)로 대체"
      ],
      "metadata": {
        "id": "XrLn9Kmn6AM0"
      }
    },
    {
      "cell_type": "markdown",
      "source": [
        "# 2. 이상 데이터 처리\n",
        "\n",
        "*   이상 데이터 : 정상치에서 벗어난 데이터 (outlier), 자료에서 예상과는 다른 패턴을 보이는 개체 또는 자료\n",
        "\n"
      ],
      "metadata": {
        "id": "i3ki8ld5zKHP"
      }
    },
    {
      "cell_type": "markdown",
      "source": [
        "## 1) 이상 데이터 확인"
      ],
      "metadata": {
        "id": "R-Q5AzhAz3Q1"
      }
    },
    {
      "cell_type": "markdown",
      "source": [
        "### 파일 읽어오기\n",
        "\n"
      ],
      "metadata": {
        "id": "49PjlRDYz8Ih"
      }
    },
    {
      "cell_type": "markdown",
      "source": [
        "### 이상값 확인 후 제거"
      ],
      "metadata": {
        "id": "fgOSWg_w0hX1"
      }
    },
    {
      "cell_type": "markdown",
      "source": [
        "## 2) 이상 데이터 시각화"
      ],
      "metadata": {
        "id": "1wVpnUp40ov_"
      }
    },
    {
      "cell_type": "markdown",
      "source": [
        "### 이용시간 이상치 시각화"
      ],
      "metadata": {
        "id": "JlCG1pDo0ugN"
      }
    },
    {
      "cell_type": "markdown",
      "source": [
        "## 3) 이상 데이터 처리 방법\n",
        "\n",
        "*   drop\n",
        "*   update\n",
        "*   다른 변수로 변환\n",
        "*   resampling\n",
        "*   case 분리 분석\n",
        "\n"
      ],
      "metadata": {
        "id": "7NXNf8AcJPo8"
      }
    },
    {
      "cell_type": "markdown",
      "source": [
        "# 4. 중복 데이터"
      ],
      "metadata": {
        "id": "EezGEZSkJWSI"
      }
    },
    {
      "cell_type": "markdown",
      "source": [
        "## 1) 중복 데이터 확인"
      ],
      "metadata": {
        "id": "2QcabXHoJeE2"
      }
    },
    {
      "cell_type": "markdown",
      "source": [
        "### 데이터 읽기"
      ],
      "metadata": {
        "id": "JtJZxRLJJ_Ks"
      }
    },
    {
      "cell_type": "markdown",
      "source": [
        "### 중복 데이터 찾기\n",
        "\n",
        "*   duplicated()\n",
        "*   True, False의 boolean 형태의 Series 반환\n",
        "\n"
      ],
      "metadata": {
        "id": "sXybvBr0KD6D"
      }
    },
    {
      "cell_type": "markdown",
      "source": [
        "## 2) 중복 시작과 끝 확인\n",
        "*   duplicated() keep 옵션 : 중복값이 있으면 처음이나 끝에 무엇을 남길지 확인\n",
        "  *   keep = 'first' : 중복값이 있으면 False로\n",
        "  *   keep = 'last'  : 중복값이 있으면 True로\n",
        "  *   keep = False   : 중복이면 무조건 True\n",
        "\n"
      ],
      "metadata": {
        "id": "VBeUUl-wK24c"
      }
    },
    {
      "cell_type": "markdown",
      "source": [
        "## 3) 중복 데이터 제거"
      ],
      "metadata": {
        "id": "hxB6zPLZLARy"
      }
    },
    {
      "cell_type": "markdown",
      "source": [
        "### 유일한 1개의 키만 남기고 나머지 중복 제거"
      ],
      "metadata": {
        "id": "19DEfuIJNdLg"
      }
    }
  ]
}