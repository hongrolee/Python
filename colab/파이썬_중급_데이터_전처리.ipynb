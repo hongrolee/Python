{
  "nbformat": 4,
  "nbformat_minor": 0,
  "metadata": {
    "colab": {
      "provenance": [],
      "authorship_tag": "ABX9TyMs4C6JI20P5JzsbR/Enrvc",
      "include_colab_link": true
    },
    "kernelspec": {
      "name": "python3",
      "display_name": "Python 3"
    },
    "language_info": {
      "name": "python"
    }
  },
  "cells": [
    {
      "cell_type": "markdown",
      "metadata": {
        "id": "view-in-github",
        "colab_type": "text"
      },
      "source": [
        "<a href=\"https://colab.research.google.com/github/hongrolee/Python/blob/main/colab/05_%EB%8D%B0%EC%9D%B4%ED%84%B0_%EC%A0%84%EC%B2%98%EB%A6%AC.ipynb\" target=\"_parent\"><img src=\"https://colab.research.google.com/assets/colab-badge.svg\" alt=\"Open In Colab\"/></a>"
      ]
    },
    {
      "cell_type": "markdown",
      "source": [
        "# 1. 누락 데이터 처리"
      ],
      "metadata": {
        "id": "bAKGUqVJyjES"
      }
    },
    {
      "cell_type": "markdown",
      "source": [
        "## 1) 누락 데이터 확인"
      ],
      "metadata": {
        "id": "1Ut1x5Rmt-_r"
      }
    },
    {
      "cell_type": "markdown",
      "source": [
        "### 데이터 읽어오기"
      ],
      "metadata": {
        "id": "7i26-q5auNTj"
      }
    },
    {
      "cell_type": "code",
      "source": [
        "import pandas as pd\n",
        "\n",
        "file_path = '/content/drive/MyDrive/Colab Notebooks/data_preprocessing.csv'\n",
        "df = pd.read_csv(file_path, engine='python')"
      ],
      "metadata": {
        "id": "spG7YSx62IWJ"
      },
      "execution_count": null,
      "outputs": []
    },
    {
      "cell_type": "markdown",
      "source": [
        "### 누락 확인하기\n",
        "\n",
        "*   isnull() : 널 확인\n",
        "*   notnull() : 널이 아닌 요소 확인\n",
        "\n"
      ],
      "metadata": {
        "id": "aORhAWSduVID"
      }
    },
    {
      "cell_type": "code",
      "source": [
        "df.isnull()\n",
        "df.notnull()"
      ],
      "metadata": {
        "id": "pOmIMvOF2s93"
      },
      "execution_count": null,
      "outputs": []
    },
    {
      "cell_type": "markdown",
      "source": [
        "## 2) 누락 데이터 개수 확인하기\n",
        "\n",
        "*   isnull().sum() : 누락값 개수 확인\n",
        "*   isnull().sum(1) : 행 단위 누락값 개수 확인\n",
        "*   notnull().sum(1) : 행 단위 실제값 개수 확인\n",
        "\n"
      ],
      "metadata": {
        "id": "mhADJPh8ujVr"
      }
    },
    {
      "cell_type": "code",
      "source": [
        "df.isnull().sum()\n",
        "df.isnull().sum(1)\n",
        "df.notnull().sum(1)"
      ],
      "metadata": {
        "id": "2eqf9rOm2ynG"
      },
      "execution_count": null,
      "outputs": []
    },
    {
      "cell_type": "markdown",
      "source": [
        "## 3) 누락 데이터 제거하기\n",
        "\n"
      ],
      "metadata": {
        "id": "yEzBNQZsvrwm"
      }
    },
    {
      "cell_type": "markdown",
      "source": [
        "### 행 제거\n",
        "\n",
        "* dropped_all_row = df.dropna(axis=0)\n",
        "\n"
      ],
      "metadata": {
        "id": "Kvm4H3oDvv6u"
      }
    },
    {
      "cell_type": "code",
      "source": [
        "dropped_all_row = df.dropna(axis=0)"
      ],
      "metadata": {
        "id": "OscWIMIK3LhE"
      },
      "execution_count": null,
      "outputs": []
    },
    {
      "cell_type": "markdown",
      "source": [
        "### 열 제거\n",
        "\n",
        "*   dropped_all_column = df.dropna(axis=1)\n",
        "\n"
      ],
      "metadata": {
        "id": "2WPxF9AJxAW3"
      }
    },
    {
      "cell_type": "code",
      "source": [
        "dropped_all_column = df.dropna(axis=1)"
      ],
      "metadata": {
        "id": "H_3ClGiO3WJh"
      },
      "execution_count": null,
      "outputs": []
    },
    {
      "cell_type": "markdown",
      "source": [
        "### 특정 행 또는 열 제거\n",
        "\n",
        "*   df[행이름].dropna()\n",
        "\n"
      ],
      "metadata": {
        "id": "MwAKbAzZxZFa"
      }
    },
    {
      "cell_type": "markdown",
      "source": [],
      "metadata": {
        "id": "StHnrRjS4JRY"
      }
    },
    {
      "cell_type": "code",
      "source": [
        "df['대여소번호'].dropna()\n",
        "df['대여소 번호', '대여거치대', '이용시간']"
      ],
      "metadata": {
        "id": "M3AgQiH-3b4w"
      },
      "execution_count": null,
      "outputs": []
    },
    {
      "cell_type": "markdown",
      "source": [
        "### 누락값이 들어있는 행 모두 삭제\n",
        "\n",
        "*   df[[열이름,열이름,...,열이름]].dropna(axis=0)\n",
        "\n"
      ],
      "metadata": {
        "id": "mKeo5F8qxxJP"
      }
    },
    {
      "cell_type": "code",
      "source": [
        "df[['대여소번호','대여소거치대','이용시간']].dropna(axis=0)"
      ],
      "metadata": {
        "id": "Qw1uP6c-3xnW"
      },
      "execution_count": null,
      "outputs": []
    },
    {
      "cell_type": "markdown",
      "source": [
        "### 누락값이 들어있는 열 모두 삭제\n",
        "\n",
        "*   df[[열이름,열이름,...,열이름]].dropna(axis=1)\n",
        "\n"
      ],
      "metadata": {
        "id": "dyvtpLFx4KyS"
      }
    },
    {
      "cell_type": "code",
      "source": [
        "df[['대여소번호', '대여거치대','이용시간']].dropna(axis=1)"
      ],
      "metadata": {
        "id": "u5biPs9h4lkF"
      },
      "execution_count": null,
      "outputs": []
    },
    {
      "cell_type": "markdown",
      "source": [
        "## 4) 누락 데이터 수정\n",
        "\n"
      ],
      "metadata": {
        "id": "kLs0xTON5JRA"
      }
    },
    {
      "cell_type": "markdown",
      "source": [
        "### 누락값을 특정값(0)로 대체\n",
        "\n",
        "*  fillna(0)\n",
        "\n"
      ],
      "metadata": {
        "id": "iFoY7CoC5fJd"
      }
    },
    {
      "cell_type": "code",
      "source": [
        "df_1 = df.fillna(0)"
      ],
      "metadata": {
        "id": "WT09-Qlg56s_"
      },
      "execution_count": null,
      "outputs": []
    },
    {
      "cell_type": "markdown",
      "source": [
        "### 특정 열의 누락값을 특정값(0)로 대체"
      ],
      "metadata": {
        "id": "XrLn9Kmn6AM0"
      }
    },
    {
      "cell_type": "markdown",
      "source": [
        "# 2. 이상 데이터 처리\n",
        "\n",
        "*   이상 데이터 : 정상치에서 벗어난 데이터 (outlier), 자료에서 예상과는 다른 패턴을 보이는 개체 또는 자료\n",
        "\n"
      ],
      "metadata": {
        "id": "i3ki8ld5zKHP"
      }
    },
    {
      "cell_type": "markdown",
      "source": [
        "## 1) 이상 데이터 확인"
      ],
      "metadata": {
        "id": "R-Q5AzhAz3Q1"
      }
    },
    {
      "cell_type": "markdown",
      "source": [
        "### 파일 읽어오기\n",
        "* bicycle_out.csv\n",
        "\n"
      ],
      "metadata": {
        "id": "49PjlRDYz8Ih"
      }
    },
    {
      "cell_type": "code",
      "source": [
        "import pandas as pd\n",
        "\n",
        "file_path = '/content/drive/MyDrive/Colab Notebooks/data_preprocessing.csv'\n",
        "df = pd.read_csv(file_path, engine='python')"
      ],
      "metadata": {
        "id": "ER_QtTu05AQp"
      },
      "execution_count": null,
      "outputs": []
    },
    {
      "cell_type": "markdown",
      "source": [
        "### 이상값 확인 후 제거"
      ],
      "metadata": {
        "id": "fgOSWg_w0hX1"
      }
    },
    {
      "cell_type": "markdown",
      "source": [
        "## 2) 이상 데이터 시각화"
      ],
      "metadata": {
        "id": "1wVpnUp40ov_"
      }
    },
    {
      "cell_type": "markdown",
      "source": [
        "### 이용시간 이상치 시각화"
      ],
      "metadata": {
        "id": "JlCG1pDo0ugN"
      }
    },
    {
      "cell_type": "code",
      "source": [
        "import matplotlib.pylab as plt\n",
        "plt.boxplot(df['나이'])\n",
        "plt.show()"
      ],
      "metadata": {
        "colab": {
          "base_uri": "https://localhost:8080/",
          "height": 207
        },
        "id": "EPsUDFCB0-Ap",
        "outputId": "8f6a77e8-4397-42fa-9663-b56f6638b9d2"
      },
      "execution_count": 1,
      "outputs": [
        {
          "output_type": "error",
          "ename": "NameError",
          "evalue": "ignored",
          "traceback": [
            "\u001b[0;31m---------------------------------------------------------------------------\u001b[0m",
            "\u001b[0;31mNameError\u001b[0m                                 Traceback (most recent call last)",
            "\u001b[0;32m<ipython-input-1-030b34759ced>\u001b[0m in \u001b[0;36m<cell line: 2>\u001b[0;34m()\u001b[0m\n\u001b[1;32m      1\u001b[0m \u001b[0;32mimport\u001b[0m \u001b[0mmatplotlib\u001b[0m\u001b[0;34m.\u001b[0m\u001b[0mpylab\u001b[0m \u001b[0;32mas\u001b[0m \u001b[0mplt\u001b[0m\u001b[0;34m\u001b[0m\u001b[0;34m\u001b[0m\u001b[0m\n\u001b[0;32m----> 2\u001b[0;31m \u001b[0mplt\u001b[0m\u001b[0;34m.\u001b[0m\u001b[0mboxplot\u001b[0m\u001b[0;34m(\u001b[0m\u001b[0mdf\u001b[0m\u001b[0;34m[\u001b[0m\u001b[0;34m'나이'\u001b[0m\u001b[0;34m]\u001b[0m\u001b[0;34m)\u001b[0m\u001b[0;34m\u001b[0m\u001b[0;34m\u001b[0m\u001b[0m\n\u001b[0m\u001b[1;32m      3\u001b[0m \u001b[0mplt\u001b[0m\u001b[0;34m.\u001b[0m\u001b[0mshow\u001b[0m\u001b[0;34m(\u001b[0m\u001b[0;34m)\u001b[0m\u001b[0;34m\u001b[0m\u001b[0;34m\u001b[0m\u001b[0m\n",
            "\u001b[0;31mNameError\u001b[0m: name 'df' is not defined"
          ]
        }
      ]
    }
  ]
}
