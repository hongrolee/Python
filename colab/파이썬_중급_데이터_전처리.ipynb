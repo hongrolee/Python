{
  "nbformat": 4,
  "nbformat_minor": 0,
  "metadata": {
    "colab": {
      "provenance": [],
      "authorship_tag": "ABX9TyPtCJTzYA0wQPLkl/PZ+8D+",
      "include_colab_link": true
    },
    "kernelspec": {
      "name": "python3",
      "display_name": "Python 3"
    },
    "language_info": {
      "name": "python"
    }
  },
  "cells": [
    {
      "cell_type": "markdown",
      "metadata": {
        "id": "view-in-github",
        "colab_type": "text"
      },
      "source": [
        "<a href=\"https://colab.research.google.com/github/hongrolee/Python/blob/main/colab/%ED%8C%8C%EC%9D%B4%EC%8D%AC_%EC%A4%91%EA%B8%89_%EB%8D%B0%EC%9D%B4%ED%84%B0_%EC%A0%84%EC%B2%98%EB%A6%AC.ipynb\" target=\"_parent\"><img src=\"https://colab.research.google.com/assets/colab-badge.svg\" alt=\"Open In Colab\"/></a>"
      ]
    },
    {
      "cell_type": "markdown",
      "source": [
        "# 1. 누락 데이터 처리"
      ],
      "metadata": {
        "id": "bAKGUqVJyjES"
      }
    },
    {
      "cell_type": "markdown",
      "source": [
        "## 1) 누락 데이터 확인"
      ],
      "metadata": {
        "id": "1Ut1x5Rmt-_r"
      }
    },
    {
      "cell_type": "markdown",
      "source": [
        "### 데이터 읽어오기"
      ],
      "metadata": {
        "id": "7i26-q5auNTj"
      }
    },
    {
      "cell_type": "code",
      "source": [
        "import pandas as pd\n",
        "\n",
        "file_path = '/content/drive/MyDrive/Colab Notebooks/csv/data_preprocessing1.csv'\n",
        "df = pd.read_csv(file_path, encoding='cp949')"
      ],
      "metadata": {
        "id": "spG7YSx62IWJ"
      },
      "execution_count": 6,
      "outputs": []
    },
    {
      "cell_type": "markdown",
      "source": [
        "### 누락 확인하기\n",
        "\n",
        "*   isnull() : 널 확인\n",
        "*   notnull() : 널이 아닌 요소 확인\n",
        "\n"
      ],
      "metadata": {
        "id": "aORhAWSduVID"
      }
    },
    {
      "cell_type": "code",
      "source": [
        "df.isnull()\n",
        "df.notnull()"
      ],
      "metadata": {
        "id": "dL--D4XxQ_go"
      },
      "execution_count": null,
      "outputs": []
    },
    {
      "cell_type": "markdown",
      "source": [
        "## 2) 누락 데이터 개수 확인하기\n",
        "\n",
        "*   isnull().sum() : 누락값 개수 확인\n",
        "*   isnull().sum(1) : 행 단위 누락값 개수 확인\n",
        "*   notnull().sum(1) : 행 단위 실제값 개수 확인\n",
        "\n"
      ],
      "metadata": {
        "id": "mhADJPh8ujVr"
      }
    },
    {
      "cell_type": "code",
      "source": [
        "df.isnull().sum()\n",
        "df.notnull().sum(1)"
      ],
      "metadata": {
        "id": "2eqf9rOm2ynG",
        "colab": {
          "base_uri": "https://localhost:8080/"
        },
        "outputId": "5d776c08-b9e9-4afb-8744-57cac3a72a65"
      },
      "execution_count": 36,
      "outputs": [
        {
          "output_type": "execute_result",
          "data": {
            "text/plain": [
              "0      12\n",
              "1      12\n",
              "2      11\n",
              "3      11\n",
              "4      12\n",
              "       ..\n",
              "415    12\n",
              "416    10\n",
              "417    12\n",
              "418    12\n",
              "419    12\n",
              "Length: 420, dtype: int64"
            ]
          },
          "metadata": {},
          "execution_count": 36
        }
      ]
    },
    {
      "cell_type": "markdown",
      "source": [
        "## 3) 누락 데이터 제거하기\n",
        "\n"
      ],
      "metadata": {
        "id": "yEzBNQZsvrwm"
      }
    },
    {
      "cell_type": "markdown",
      "source": [
        "### 행 제거\n",
        "\n",
        "* dropped_all_row = df.dropna(axis=0)\n",
        "\n"
      ],
      "metadata": {
        "id": "Kvm4H3oDvv6u"
      }
    },
    {
      "cell_type": "code",
      "source": [
        "dropped_all_row = df.dropna(axis=0)"
      ],
      "metadata": {
        "id": "OscWIMIK3LhE"
      },
      "execution_count": 24,
      "outputs": []
    },
    {
      "cell_type": "markdown",
      "source": [
        "### 열 제거\n",
        "\n",
        "*   dropped_all_column = df.dropna(axis=1)\n",
        "\n"
      ],
      "metadata": {
        "id": "2WPxF9AJxAW3"
      }
    },
    {
      "cell_type": "code",
      "source": [
        "dropped_all_column = df.dropna(axis=1)"
      ],
      "metadata": {
        "id": "H_3ClGiO3WJh"
      },
      "execution_count": 25,
      "outputs": []
    },
    {
      "cell_type": "markdown",
      "source": [
        "### 특정 행 또는 열 제거\n",
        "\n",
        "*   df[행이름].dropna()\n",
        "\n"
      ],
      "metadata": {
        "id": "MwAKbAzZxZFa"
      }
    },
    {
      "cell_type": "code",
      "source": [
        "df['대여소번호'].dropna()\n",
        "df['대여소 번호', '대여거치대', '이용시간']"
      ],
      "metadata": {
        "id": "M3AgQiH-3b4w"
      },
      "execution_count": null,
      "outputs": []
    },
    {
      "cell_type": "markdown",
      "source": [
        "### 누락값이 들어있는 행 모두 삭제\n",
        "\n",
        "*   df[[열이름,열이름,...,열이름]].dropna(axis=0)\n",
        "\n"
      ],
      "metadata": {
        "id": "mKeo5F8qxxJP"
      }
    },
    {
      "cell_type": "code",
      "source": [
        "df[['대여소번호','대여소거치대','이용시간']].dropna(axis=0)"
      ],
      "metadata": {
        "id": "Qw1uP6c-3xnW"
      },
      "execution_count": null,
      "outputs": []
    },
    {
      "cell_type": "markdown",
      "source": [
        "### 누락값이 들어있는 열 모두 삭제\n",
        "\n",
        "*   df[[열이름,열이름,...,열이름]].dropna(axis=1)\n",
        "\n"
      ],
      "metadata": {
        "id": "dyvtpLFx4KyS"
      }
    },
    {
      "cell_type": "code",
      "source": [
        "df[['대여소번호', '대여거치대','이용시간']].dropna(axis=1)"
      ],
      "metadata": {
        "id": "u5biPs9h4lkF"
      },
      "execution_count": null,
      "outputs": []
    },
    {
      "cell_type": "markdown",
      "source": [
        "## 4) 누락 데이터 수정\n",
        "\n"
      ],
      "metadata": {
        "id": "kLs0xTON5JRA"
      }
    },
    {
      "cell_type": "markdown",
      "source": [
        "### 누락값을 특정값(0)로 대체\n",
        "\n",
        "*  fillna(0)\n",
        "\n"
      ],
      "metadata": {
        "id": "iFoY7CoC5fJd"
      }
    },
    {
      "cell_type": "code",
      "source": [
        "df_1 = df.fillna(0)"
      ],
      "metadata": {
        "id": "WT09-Qlg56s_"
      },
      "execution_count": null,
      "outputs": []
    },
    {
      "cell_type": "markdown",
      "source": [
        "### 특정 열의 누락값을 특정값(0)로 대체"
      ],
      "metadata": {
        "id": "XrLn9Kmn6AM0"
      }
    },
    {
      "cell_type": "markdown",
      "source": [
        "# 2. 이상 데이터 처리\n",
        "\n",
        "*   이상 데이터 : 정상치에서 벗어난 데이터 (outlier), 자료에서 예상과는 다른 패턴을 보이는 개체 또는 자료\n",
        "\n"
      ],
      "metadata": {
        "id": "i3ki8ld5zKHP"
      }
    },
    {
      "cell_type": "markdown",
      "source": [
        "## 1) 이상 데이터 확인"
      ],
      "metadata": {
        "id": "R-Q5AzhAz3Q1"
      }
    },
    {
      "cell_type": "markdown",
      "source": [
        "### 파일 읽어오기\n",
        "* bicycle_out.csv\n",
        "\n"
      ],
      "metadata": {
        "id": "49PjlRDYz8Ih"
      }
    },
    {
      "cell_type": "code",
      "source": [
        "import pandas as pd\n",
        "\n",
        "file_path = '/content/drive/MyDrive/Colab Notebooks/data_preprocessing2.csv'\n",
        "df = pd.read_csv(file_path, encoding='cp949')"
      ],
      "metadata": {
        "id": "ER_QtTu05AQp"
      },
      "execution_count": null,
      "outputs": []
    },
    {
      "cell_type": "markdown",
      "source": [
        "### 이상값 확인 후 제거"
      ],
      "metadata": {
        "id": "fgOSWg_w0hX1"
      }
    },
    {
      "cell_type": "code",
      "source": [
        "df1 = df.drop(4,0)"
      ],
      "metadata": {
        "id": "k8uk2a-PPfCY"
      },
      "execution_count": null,
      "outputs": []
    },
    {
      "cell_type": "markdown",
      "source": [
        "## 2) 이상 데이터 시각화"
      ],
      "metadata": {
        "id": "1wVpnUp40ov_"
      }
    },
    {
      "cell_type": "markdown",
      "source": [
        "### 이용시간 이상치 시각화"
      ],
      "metadata": {
        "id": "JlCG1pDo0ugN"
      }
    },
    {
      "cell_type": "code",
      "source": [
        "import matplotlib.pylab as plt\n",
        "plt.boxplot(df['나이'])\n",
        "plt.show()"
      ],
      "metadata": {
        "colab": {
          "base_uri": "https://localhost:8080/",
          "height": 430
        },
        "id": "EPsUDFCB0-Ap",
        "outputId": "dd386746-0957-4dc5-9414-c94621d4e06a"
      },
      "execution_count": 21,
      "outputs": [
        {
          "output_type": "display_data",
          "data": {
            "text/plain": [
              "<Figure size 640x480 with 1 Axes>"
            ],
            "image/png": "[encoded data removed]"
          },
          "metadata": {}
        }
      ]
    },
    {
      "cell_type": "markdown",
      "source": [
        "## 3) 이상 데이터 처리 방법\n",
        "\n",
        "*   drop\n",
        "*   update\n",
        "*   다른 변수로 변환\n",
        "*   resampling\n",
        "*   case 분리 분석\n",
        "\n"
      ],
      "metadata": {
        "id": "7NXNf8AcJPo8"
      }
    },
    {
      "cell_type": "code",
      "source": [
        "df[df['나이']>500]"
      ],
      "metadata": {
        "colab": {
          "base_uri": "https://localhost:8080/",
          "height": 80
        },
        "id": "CuffPvXuOEHH",
        "outputId": "1e5b0781-2875-483b-8f8a-718d0d7214ea"
      },
      "execution_count": 22,
      "outputs": [
        {
          "output_type": "execute_result",
          "data": {
            "text/plain": [
              "        자전거번호             대여일시  대여소번호    대여소명  대여거치대             반납일시  \\\n",
              "30  SPB-20840  2019-11-28 8:32    419  홈플러스 앞    1.0  2019-11-28 8:35   \n",
              "\n",
              "    반납대여소번호    반납대여소명  반납거치대  이용시간   이용거리   나이  \n",
              "30        5  상암센터 정비실    5.0   3.0  280.0  533  "
            ],
            "text/html": [
              "\n",
              "  <div id=\"df-0a37089b-6d6a-4adf-a093-71c961052e5e\">\n",
              "    <div class=\"colab-df-container\">\n",
              "      <div>\n",
              "<style scoped>\n",
              "    .dataframe tbody tr th:only-of-type {\n",
              "        vertical-align: middle;\n",
              "    }\n",
              "\n",
              "    .dataframe tbody tr th {\n",
              "        vertical-align: top;\n",
              "    }\n",
              "\n",
              "    .dataframe thead th {\n",
              "        text-align: right;\n",
              "    }\n",
              "</style>\n",
              "<table border=\"1\" class=\"dataframe\">\n",
              "  <thead>\n",
              "    <tr style=\"text-align: right;\">\n",
              "      <th></th>\n",
              "      <th>자전거번호</th>\n",
              "      <th>대여일시</th>\n",
              "      <th>대여소번호</th>\n",
              "      <th>대여소명</th>\n",
              "      <th>대여거치대</th>\n",
              "      <th>반납일시</th>\n",
              "      <th>반납대여소번호</th>\n",
              "      <th>반납대여소명</th>\n",
              "      <th>반납거치대</th>\n",
              "      <th>이용시간</th>\n",
              "      <th>이용거리</th>\n",
              "      <th>나이</th>\n",
              "    </tr>\n",
              "  </thead>\n",
              "  <tbody>\n",
              "    <tr>\n",
              "      <th>30</th>\n",
              "      <td>SPB-20840</td>\n",
              "      <td>2019-11-28 8:32</td>\n",
              "      <td>419</td>\n",
              "      <td>홈플러스 앞</td>\n",
              "      <td>1.0</td>\n",
              "      <td>2019-11-28 8:35</td>\n",
              "      <td>5</td>\n",
              "      <td>상암센터 정비실</td>\n",
              "      <td>5.0</td>\n",
              "      <td>3.0</td>\n",
              "      <td>280.0</td>\n",
              "      <td>533</td>\n",
              "    </tr>\n",
              "  </tbody>\n",
              "</table>\n",
              "</div>\n",
              "      <button class=\"colab-df-convert\" onclick=\"convertToInteractive('df-0a37089b-6d6a-4adf-a093-71c961052e5e')\"\n",
              "              title=\"Convert this dataframe to an interactive table.\"\n",
              "              style=\"display:none;\">\n",
              "        \n",
              "  <svg xmlns=\"http://www.w3.org/2000/svg\" height=\"24px\"viewBox=\"0 0 24 24\"\n",
              "       width=\"24px\">\n",
              "    <path d=\"M0 0h24v24H0V0z\" fill=\"none\"/>\n",
              "    <path d=\"M18.56 5.44l.94 2.06.94-2.06 2.06-.94-2.06-.94-.94-2.06-.94 2.06-2.06.94zm-11 1L8.5 8.5l.94-2.06 2.06-.94-2.06-.94L8.5 2.5l-.94 2.06-2.06.94zm10 10l.94 2.06.94-2.06 2.06-.94-2.06-.94-.94-2.06-.94 2.06-2.06.94z\"/><path d=\"M17.41 7.96l-1.37-1.37c-.4-.4-.92-.59-1.43-.59-.52 0-1.04.2-1.43.59L10.3 9.45l-7.72 7.72c-.78.78-.78 2.05 0 2.83L4 21.41c.39.39.9.59 1.41.59.51 0 1.02-.2 1.41-.59l7.78-7.78 2.81-2.81c.8-.78.8-2.07 0-2.86zM5.41 20L4 18.59l7.72-7.72 1.47 1.35L5.41 20z\"/>\n",
              "  </svg>\n",
              "      </button>\n",
              "      \n",
              "  <style>\n",
              "    .colab-df-container {\n",
              "      display:flex;\n",
              "      flex-wrap:wrap;\n",
              "      gap: 12px;\n",
              "    }\n",
              "\n",
              "    .colab-df-convert {\n",
              "      background-color: #E8F0FE;\n",
              "      border: none;\n",
              "      border-radius: 50%;\n",
              "      cursor: pointer;\n",
              "      display: none;\n",
              "      fill: #1967D2;\n",
              "      height: 32px;\n",
              "      padding: 0 0 0 0;\n",
              "      width: 32px;\n",
              "    }\n",
              "\n",
              "    .colab-df-convert:hover {\n",
              "      background-color: #E2EBFA;\n",
              "      box-shadow: 0px 1px 2px rgba(60, 64, 67, 0.3), 0px 1px 3px 1px rgba(60, 64, 67, 0.15);\n",
              "      fill: #174EA6;\n",
              "    }\n",
              "\n",
              "    [theme=dark] .colab-df-convert {\n",
              "      background-color: #3B4455;\n",
              "      fill: #D2E3FC;\n",
              "    }\n",
              "\n",
              "    [theme=dark] .colab-df-convert:hover {\n",
              "      background-color: #434B5C;\n",
              "      box-shadow: 0px 1px 3px 1px rgba(0, 0, 0, 0.15);\n",
              "      filter: drop-shadow(0px 1px 2px rgba(0, 0, 0, 0.3));\n",
              "      fill: #FFFFFF;\n",
              "    }\n",
              "  </style>\n",
              "\n",
              "      <script>\n",
              "        const buttonEl =\n",
              "          document.querySelector('#df-0a37089b-6d6a-4adf-a093-71c961052e5e button.colab-df-convert');\n",
              "        buttonEl.style.display =\n",
              "          google.colab.kernel.accessAllowed ? 'block' : 'none';\n",
              "\n",
              "        async function convertToInteractive(key) {\n",
              "          const element = document.querySelector('#df-0a37089b-6d6a-4adf-a093-71c961052e5e');\n",
              "          const dataTable =\n",
              "            await google.colab.kernel.invokeFunction('convertToInteractive',\n",
              "                                                     [key], {});\n",
              "          if (!dataTable) return;\n",
              "\n",
              "          const docLinkHtml = 'Like what you see? Visit the ' +\n",
              "            '<a target=\"_blank\" href=https://colab.research.google.com/notebooks/data_table.ipynb>data table notebook</a>'\n",
              "            + ' to learn more about interactive tables.';\n",
              "          element.innerHTML = '';\n",
              "          dataTable['output_type'] = 'display_data';\n",
              "          await google.colab.output.renderOutput(dataTable, element);\n",
              "          const docLink = document.createElement('div');\n",
              "          docLink.innerHTML = docLinkHtml;\n",
              "          element.appendChild(docLink);\n",
              "        }\n",
              "      </script>\n",
              "    </div>\n",
              "  </div>\n",
              "  "
            ]
          },
          "metadata": {},
          "execution_count": 22
        }
      ]
    },
    {
      "cell_type": "markdown",
      "source": [
        "# 4. 중복 데이터"
      ],
      "metadata": {
        "id": "EezGEZSkJWSI"
      }
    },
    {
      "cell_type": "markdown",
      "source": [
        "## 1) 중복 데이터 확인"
      ],
      "metadata": {
        "id": "2QcabXHoJeE2"
      }
    },
    {
      "cell_type": "markdown",
      "source": [
        "### 데이터 읽기"
      ],
      "metadata": {
        "id": "JtJZxRLJJ_Ks"
      }
    },
    {
      "cell_type": "code",
      "source": [
        "file_path = '/content/drive/MyDrive/Colab Notebooks/csv/data_preprocessing3.csv'\n",
        "df = pd.read_csv(file_path, encoding='cp949')"
      ],
      "metadata": {
        "id": "JAZdbmPKJjoO"
      },
      "execution_count": 15,
      "outputs": []
    },
    {
      "cell_type": "markdown",
      "source": [
        "### 중복 데이터 찾기\n",
        "\n",
        "*   duplicated()\n",
        "*   True, False의 boolean 형태의 Series 반환\n",
        "\n"
      ],
      "metadata": {
        "id": "sXybvBr0KD6D"
      }
    },
    {
      "cell_type": "code",
      "source": [
        "df.duplicated(['이용거리','나이'])"
      ],
      "metadata": {
        "colab": {
          "base_uri": "https://localhost:8080/"
        },
        "id": "jfFiTt49KUMh",
        "outputId": "a1a189f4-0a45-49e5-aa79-849360cb015e"
      },
      "execution_count": 18,
      "outputs": [
        {
          "output_type": "execute_result",
          "data": {
            "text/plain": [
              "0      False\n",
              "1       True\n",
              "2      False\n",
              "3      False\n",
              "4      False\n",
              "       ...  \n",
              "415     True\n",
              "416     True\n",
              "417     True\n",
              "418     True\n",
              "419     True\n",
              "Length: 420, dtype: bool"
            ]
          },
          "metadata": {},
          "execution_count": 18
        }
      ]
    },
    {
      "cell_type": "markdown",
      "source": [
        "## 2) 중복 시작과 끝 확인\n",
        "*   duplicated() keep 옵션 : 중복값이 있으면 처음이나 끝에 무엇을 남길지 확인\n",
        "  *   keep = 'first' : 중복값이 있으면 False로\n",
        "  *   keep = 'last'  : 중복값이 있으면 True로\n",
        "  *   keep = False   : 중복이면 무조건 True\n",
        "\n"
      ],
      "metadata": {
        "id": "VBeUUl-wK24c"
      }
    },
    {
      "cell_type": "code",
      "source": [
        "df.duplicated(['이용거리'],keep='first')"
      ],
      "metadata": {
        "colab": {
          "base_uri": "https://localhost:8080/"
        },
        "id": "4mc8UfDyMGUy",
        "outputId": "bbc3cc2e-7624-4467-bbc5-363b67713673"
      },
      "execution_count": 19,
      "outputs": [
        {
          "output_type": "execute_result",
          "data": {
            "text/plain": [
              "0      False\n",
              "1       True\n",
              "2      False\n",
              "3      False\n",
              "4      False\n",
              "       ...  \n",
              "415    False\n",
              "416     True\n",
              "417     True\n",
              "418     True\n",
              "419    False\n",
              "Length: 420, dtype: bool"
            ]
          },
          "metadata": {},
          "execution_count": 19
        }
      ]
    },
    {
      "cell_type": "markdown",
      "source": [
        "## 3) 중복 데이터 제거"
      ],
      "metadata": {
        "id": "hxB6zPLZLARy"
      }
    },
    {
      "cell_type": "markdown",
      "source": [
        "### 유일한 1개의 키만 남기고 나머지 중복 제거"
      ],
      "metadata": {
        "id": "19DEfuIJNdLg"
      }
    },
    {
      "cell_type": "code",
      "source": [
        "df.drop_duplicates(['이용거리'],keep='first')"
      ],
      "metadata": {
        "colab": {
          "base_uri": "https://localhost:8080/",
          "height": 423
        },
        "id": "hh8v2hD6LeCk",
        "outputId": "c60b4561-fb46-4353-f3de-e1ea22456096"
      },
      "execution_count": 20,
      "outputs": [
        {
          "output_type": "execute_result",
          "data": {
            "text/plain": [
              "         자전거번호              대여일시  대여소번호               대여소명  대여거치대  \\\n",
              "0    SPB-23220   2019-11-01 8:48    646  장한평역 1번출구 (국민은행앞)    3.0   \n",
              "2    SPB-21097   2019-11-04 8:46    646  장한평역 1번출구 (국민은행앞)    1.0   \n",
              "3    SPB-22292   2019-11-05 8:34    646  장한평역 1번출구 (국민은행앞)    1.0   \n",
              "4    SPB-07935  2019-11-05 12:29    512        뚝섬역 1번 출구 옆   11.0   \n",
              "5    SPB-18401   2019-11-06 8:52    646  장한평역 1번출구 (국민은행앞)    1.0   \n",
              "..         ...               ...    ...                ...    ...   \n",
              "410  SPB-18614  2019-11-14 23:07    391              정동길입구    5.0   \n",
              "413  SPB-25161   2019-11-15 3:13    106         합정역 7번출구 앞    6.0   \n",
              "414  SPB-24515   2019-11-15 3:58    112            극동방송국 앞    1.0   \n",
              "415  SPB-12116   2019-11-15 4:22    112            극동방송국 앞    5.0   \n",
              "419  SPB-17570  2019-11-15 22:16    391              정동길입구    7.0   \n",
              "\n",
              "                 반납일시  반납대여소번호       반납대여소명  반납거치대  이용시간    이용거리   나이  \n",
              "0     2019-11-01 9:01        3         중랑센터    7.0  12.0  1100.0   50  \n",
              "2     2019-11-04 8:57        3         중랑센터    7.0  10.0     NaN   32  \n",
              "3     2019-11-05 8:45        3         중랑센터    NaN  10.0  1380.0   21  \n",
              "4    2019-11-05 12:39        3         중랑센터    7.0  10.0  1650.0  120  \n",
              "5     2019-11-06 9:09        3         중랑센터    7.0  11.0  1350.0   30  \n",
              "..                ...      ...          ...    ...   ...     ...  ...  \n",
              "410  2019-11-14 23:49      101  (구)합정동 주민센터    3.0  40.0  7510.0   28  \n",
              "413   2019-11-15 3:18      101  (구)합정동 주민센터    1.0   3.0   640.0   21  \n",
              "414   2019-11-15 4:08      101  (구)합정동 주민센터    1.0   9.0  1620.0   21  \n",
              "415   2019-11-15 4:33      101  (구)합정동 주민센터    1.0  11.0  2200.0   22  \n",
              "419  2019-11-15 23:04      101  (구)합정동 주민센터    5.0  48.0  8100.0   28  \n",
              "\n",
              "[257 rows x 12 columns]"
            ],
            "text/html": [
              "\n",
              "  <div id=\"df-ae6bef91-0fa8-419a-9869-72af9c7381cb\">\n",
              "    <div class=\"colab-df-container\">\n",
              "      <div>\n",
              "<style scoped>\n",
              "    .dataframe tbody tr th:only-of-type {\n",
              "        vertical-align: middle;\n",
              "    }\n",
              "\n",
              "    .dataframe tbody tr th {\n",
              "        vertical-align: top;\n",
              "    }\n",
              "\n",
              "    .dataframe thead th {\n",
              "        text-align: right;\n",
              "    }\n",
              "</style>\n",
              "<table border=\"1\" class=\"dataframe\">\n",
              "  <thead>\n",
              "    <tr style=\"text-align: right;\">\n",
              "      <th></th>\n",
              "      <th>자전거번호</th>\n",
              "      <th>대여일시</th>\n",
              "      <th>대여소번호</th>\n",
              "      <th>대여소명</th>\n",
              "      <th>대여거치대</th>\n",
              "      <th>반납일시</th>\n",
              "      <th>반납대여소번호</th>\n",
              "      <th>반납대여소명</th>\n",
              "      <th>반납거치대</th>\n",
              "      <th>이용시간</th>\n",
              "      <th>이용거리</th>\n",
              "      <th>나이</th>\n",
              "    </tr>\n",
              "  </thead>\n",
              "  <tbody>\n",
              "    <tr>\n",
              "      <th>0</th>\n",
              "      <td>SPB-23220</td>\n",
              "      <td>2019-11-01 8:48</td>\n",
              "      <td>646</td>\n",
              "      <td>장한평역 1번출구 (국민은행앞)</td>\n",
              "      <td>3.0</td>\n",
              "      <td>2019-11-01 9:01</td>\n",
              "      <td>3</td>\n",
              "      <td>중랑센터</td>\n",
              "      <td>7.0</td>\n",
              "      <td>12.0</td>\n",
              "      <td>1100.0</td>\n",
              "      <td>50</td>\n",
              "    </tr>\n",
              "    <tr>\n",
              "      <th>2</th>\n",
              "      <td>SPB-21097</td>\n",
              "      <td>2019-11-04 8:46</td>\n",
              "      <td>646</td>\n",
              "      <td>장한평역 1번출구 (국민은행앞)</td>\n",
              "      <td>1.0</td>\n",
              "      <td>2019-11-04 8:57</td>\n",
              "      <td>3</td>\n",
              "      <td>중랑센터</td>\n",
              "      <td>7.0</td>\n",
              "      <td>10.0</td>\n",
              "      <td>NaN</td>\n",
              "      <td>32</td>\n",
              "    </tr>\n",
              "    <tr>\n",
              "      <th>3</th>\n",
              "      <td>SPB-22292</td>\n",
              "      <td>2019-11-05 8:34</td>\n",
              "      <td>646</td>\n",
              "      <td>장한평역 1번출구 (국민은행앞)</td>\n",
              "      <td>1.0</td>\n",
              "      <td>2019-11-05 8:45</td>\n",
              "      <td>3</td>\n",
              "      <td>중랑센터</td>\n",
              "      <td>NaN</td>\n",
              "      <td>10.0</td>\n",
              "      <td>1380.0</td>\n",
              "      <td>21</td>\n",
              "    </tr>\n",
              "    <tr>\n",
              "      <th>4</th>\n",
              "      <td>SPB-07935</td>\n",
              "      <td>2019-11-05 12:29</td>\n",
              "      <td>512</td>\n",
              "      <td>뚝섬역 1번 출구 옆</td>\n",
              "      <td>11.0</td>\n",
              "      <td>2019-11-05 12:39</td>\n",
              "      <td>3</td>\n",
              "      <td>중랑센터</td>\n",
              "      <td>7.0</td>\n",
              "      <td>10.0</td>\n",
              "      <td>1650.0</td>\n",
              "      <td>120</td>\n",
              "    </tr>\n",
              "    <tr>\n",
              "      <th>5</th>\n",
              "      <td>SPB-18401</td>\n",
              "      <td>2019-11-06 8:52</td>\n",
              "      <td>646</td>\n",
              "      <td>장한평역 1번출구 (국민은행앞)</td>\n",
              "      <td>1.0</td>\n",
              "      <td>2019-11-06 9:09</td>\n",
              "      <td>3</td>\n",
              "      <td>중랑센터</td>\n",
              "      <td>7.0</td>\n",
              "      <td>11.0</td>\n",
              "      <td>1350.0</td>\n",
              "      <td>30</td>\n",
              "    </tr>\n",
              "    <tr>\n",
              "      <th>...</th>\n",
              "      <td>...</td>\n",
              "      <td>...</td>\n",
              "      <td>...</td>\n",
              "      <td>...</td>\n",
              "      <td>...</td>\n",
              "      <td>...</td>\n",
              "      <td>...</td>\n",
              "      <td>...</td>\n",
              "      <td>...</td>\n",
              "      <td>...</td>\n",
              "      <td>...</td>\n",
              "      <td>...</td>\n",
              "    </tr>\n",
              "    <tr>\n",
              "      <th>410</th>\n",
              "      <td>SPB-18614</td>\n",
              "      <td>2019-11-14 23:07</td>\n",
              "      <td>391</td>\n",
              "      <td>정동길입구</td>\n",
              "      <td>5.0</td>\n",
              "      <td>2019-11-14 23:49</td>\n",
              "      <td>101</td>\n",
              "      <td>(구)합정동 주민센터</td>\n",
              "      <td>3.0</td>\n",
              "      <td>40.0</td>\n",
              "      <td>7510.0</td>\n",
              "      <td>28</td>\n",
              "    </tr>\n",
              "    <tr>\n",
              "      <th>413</th>\n",
              "      <td>SPB-25161</td>\n",
              "      <td>2019-11-15 3:13</td>\n",
              "      <td>106</td>\n",
              "      <td>합정역 7번출구 앞</td>\n",
              "      <td>6.0</td>\n",
              "      <td>2019-11-15 3:18</td>\n",
              "      <td>101</td>\n",
              "      <td>(구)합정동 주민센터</td>\n",
              "      <td>1.0</td>\n",
              "      <td>3.0</td>\n",
              "      <td>640.0</td>\n",
              "      <td>21</td>\n",
              "    </tr>\n",
              "    <tr>\n",
              "      <th>414</th>\n",
              "      <td>SPB-24515</td>\n",
              "      <td>2019-11-15 3:58</td>\n",
              "      <td>112</td>\n",
              "      <td>극동방송국 앞</td>\n",
              "      <td>1.0</td>\n",
              "      <td>2019-11-15 4:08</td>\n",
              "      <td>101</td>\n",
              "      <td>(구)합정동 주민센터</td>\n",
              "      <td>1.0</td>\n",
              "      <td>9.0</td>\n",
              "      <td>1620.0</td>\n",
              "      <td>21</td>\n",
              "    </tr>\n",
              "    <tr>\n",
              "      <th>415</th>\n",
              "      <td>SPB-12116</td>\n",
              "      <td>2019-11-15 4:22</td>\n",
              "      <td>112</td>\n",
              "      <td>극동방송국 앞</td>\n",
              "      <td>5.0</td>\n",
              "      <td>2019-11-15 4:33</td>\n",
              "      <td>101</td>\n",
              "      <td>(구)합정동 주민센터</td>\n",
              "      <td>1.0</td>\n",
              "      <td>11.0</td>\n",
              "      <td>2200.0</td>\n",
              "      <td>22</td>\n",
              "    </tr>\n",
              "    <tr>\n",
              "      <th>419</th>\n",
              "      <td>SPB-17570</td>\n",
              "      <td>2019-11-15 22:16</td>\n",
              "      <td>391</td>\n",
              "      <td>정동길입구</td>\n",
              "      <td>7.0</td>\n",
              "      <td>2019-11-15 23:04</td>\n",
              "      <td>101</td>\n",
              "      <td>(구)합정동 주민센터</td>\n",
              "      <td>5.0</td>\n",
              "      <td>48.0</td>\n",
              "      <td>8100.0</td>\n",
              "      <td>28</td>\n",
              "    </tr>\n",
              "  </tbody>\n",
              "</table>\n",
              "<p>257 rows × 12 columns</p>\n",
              "</div>\n",
              "      <button class=\"colab-df-convert\" onclick=\"convertToInteractive('df-ae6bef91-0fa8-419a-9869-72af9c7381cb')\"\n",
              "              title=\"Convert this dataframe to an interactive table.\"\n",
              "              style=\"display:none;\">\n",
              "        \n",
              "  <svg xmlns=\"http://www.w3.org/2000/svg\" height=\"24px\"viewBox=\"0 0 24 24\"\n",
              "       width=\"24px\">\n",
              "    <path d=\"M0 0h24v24H0V0z\" fill=\"none\"/>\n",
              "    <path d=\"M18.56 5.44l.94 2.06.94-2.06 2.06-.94-2.06-.94-.94-2.06-.94 2.06-2.06.94zm-11 1L8.5 8.5l.94-2.06 2.06-.94-2.06-.94L8.5 2.5l-.94 2.06-2.06.94zm10 10l.94 2.06.94-2.06 2.06-.94-2.06-.94-.94-2.06-.94 2.06-2.06.94z\"/><path d=\"M17.41 7.96l-1.37-1.37c-.4-.4-.92-.59-1.43-.59-.52 0-1.04.2-1.43.59L10.3 9.45l-7.72 7.72c-.78.78-.78 2.05 0 2.83L4 21.41c.39.39.9.59 1.41.59.51 0 1.02-.2 1.41-.59l7.78-7.78 2.81-2.81c.8-.78.8-2.07 0-2.86zM5.41 20L4 18.59l7.72-7.72 1.47 1.35L5.41 20z\"/>\n",
              "  </svg>\n",
              "      </button>\n",
              "      \n",
              "  <style>\n",
              "    .colab-df-container {\n",
              "      display:flex;\n",
              "      flex-wrap:wrap;\n",
              "      gap: 12px;\n",
              "    }\n",
              "\n",
              "    .colab-df-convert {\n",
              "      background-color: #E8F0FE;\n",
              "      border: none;\n",
              "      border-radius: 50%;\n",
              "      cursor: pointer;\n",
              "      display: none;\n",
              "      fill: #1967D2;\n",
              "      height: 32px;\n",
              "      padding: 0 0 0 0;\n",
              "      width: 32px;\n",
              "    }\n",
              "\n",
              "    .colab-df-convert:hover {\n",
              "      background-color: #E2EBFA;\n",
              "      box-shadow: 0px 1px 2px rgba(60, 64, 67, 0.3), 0px 1px 3px 1px rgba(60, 64, 67, 0.15);\n",
              "      fill: #174EA6;\n",
              "    }\n",
              "\n",
              "    [theme=dark] .colab-df-convert {\n",
              "      background-color: #3B4455;\n",
              "      fill: #D2E3FC;\n",
              "    }\n",
              "\n",
              "    [theme=dark] .colab-df-convert:hover {\n",
              "      background-color: #434B5C;\n",
              "      box-shadow: 0px 1px 3px 1px rgba(0, 0, 0, 0.15);\n",
              "      filter: drop-shadow(0px 1px 2px rgba(0, 0, 0, 0.3));\n",
              "      fill: #FFFFFF;\n",
              "    }\n",
              "  </style>\n",
              "\n",
              "      <script>\n",
              "        const buttonEl =\n",
              "          document.querySelector('#df-ae6bef91-0fa8-419a-9869-72af9c7381cb button.colab-df-convert');\n",
              "        buttonEl.style.display =\n",
              "          google.colab.kernel.accessAllowed ? 'block' : 'none';\n",
              "\n",
              "        async function convertToInteractive(key) {\n",
              "          const element = document.querySelector('#df-ae6bef91-0fa8-419a-9869-72af9c7381cb');\n",
              "          const dataTable =\n",
              "            await google.colab.kernel.invokeFunction('convertToInteractive',\n",
              "                                                     [key], {});\n",
              "          if (!dataTable) return;\n",
              "\n",
              "          const docLinkHtml = 'Like what you see? Visit the ' +\n",
              "            '<a target=\"_blank\" href=https://colab.research.google.com/notebooks/data_table.ipynb>data table notebook</a>'\n",
              "            + ' to learn more about interactive tables.';\n",
              "          element.innerHTML = '';\n",
              "          dataTable['output_type'] = 'display_data';\n",
              "          await google.colab.output.renderOutput(dataTable, element);\n",
              "          const docLink = document.createElement('div');\n",
              "          docLink.innerHTML = docLinkHtml;\n",
              "          element.appendChild(docLink);\n",
              "        }\n",
              "      </script>\n",
              "    </div>\n",
              "  </div>\n",
              "  "
            ]
          },
          "metadata": {},
          "execution_count": 20
        }
      ]
    }
  ]
}