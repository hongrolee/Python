{
  "nbformat": 4,
  "nbformat_minor": 0,
  "metadata": {
    "colab": {
      "provenance": [],
      "authorship_tag": "ABX9TyNZMR+GCVXZjYrv6ecQPmn0",
      "include_colab_link": true
    },
    "kernelspec": {
      "name": "python3",
      "display_name": "Python 3"
    },
    "language_info": {
      "name": "python"
    }
  },
  "cells": [
    {
      "cell_type": "markdown",
      "metadata": {
        "id": "view-in-github",
        "colab_type": "text"
      },
      "source": [
        "<a href=\"https://colab.research.google.com/github/hongrolee/Python/blob/main/colab/%ED%8C%8C%EC%9D%B4%EC%8D%AC_%EC%A4%91%EA%B8%89_%EB%8D%B0%EC%9D%B4%ED%84%B0_%EC%A0%84%EC%B2%98%EB%A6%AC.ipynb\" target=\"_parent\"><img src=\"https://colab.research.google.com/assets/colab-badge.svg\" alt=\"Open In Colab\"/></a>"
      ]
    },
    {
      "cell_type": "markdown",
      "source": [
        "# 1. 누락 데이터 처리"
      ],
      "metadata": {
        "id": "bAKGUqVJyjES"
      }
    },
    {
      "cell_type": "markdown",
      "source": [
        "## 1) 누락 데이터 확인"
      ],
      "metadata": {
        "id": "1Ut1x5Rmt-_r"
      }
    },
    {
      "cell_type": "markdown",
      "source": [
        "### 데이터 읽어오기"
      ],
      "metadata": {
        "id": "7i26-q5auNTj"
      }
    },
    {
      "cell_type": "markdown",
      "source": [
        "### 누락 확인하기\n",
        "\n",
        "*   isnull() : 널 확인\n",
        "*   notnull() : 널이 아닌 요소 확인\n",
        "\n"
      ],
      "metadata": {
        "id": "aORhAWSduVID"
      }
    },
    {
      "cell_type": "markdown",
      "source": [
        "## 2) 누락 데이터 개수 확인하기\n",
        "\n",
        "*   isnull().sum() : 누락값 개수 확인\n",
        "*   isnull().sum(1) : 행 단위 누락값 개수 확인\n",
        "*   notnull().sum(1) : 행 단위 실제값 개수 확인\n",
        "\n"
      ],
      "metadata": {
        "id": "mhADJPh8ujVr"
      }
    },
    {
      "cell_type": "markdown",
      "source": [
        "## 3) 누락 데이터 제거하기\n",
        "\n"
      ],
      "metadata": {
        "id": "yEzBNQZsvrwm"
      }
    },
    {
      "cell_type": "markdown",
      "source": [
        "### 행 제거\n",
        "\n",
        "* dropped_all_row = df.dropna(axis=0)\n",
        "\n"
      ],
      "metadata": {
        "id": "Kvm4H3oDvv6u"
      }
    },
    {
      "cell_type": "markdown",
      "source": [
        "### 열 제거\n",
        "\n",
        "*   dropped_all_column = df.dropna(axis=1)\n",
        "\n"
      ],
      "metadata": {
        "id": "2WPxF9AJxAW3"
      }
    },
    {
      "cell_type": "markdown",
      "source": [
        "### 특정 행 또는 열 제거\n",
        "\n",
        "*   df[열이름].dropna()\n",
        "\n"
      ],
      "metadata": {
        "id": "MwAKbAzZxZFa"
      }
    },
    {
      "cell_type": "markdown",
      "source": [
        "### 누락값이 들어있는 행 모두 삭제\n",
        "\n",
        "*   df[[열이름,...,열이름]].dropna(axis=0)\n",
        "\n"
      ],
      "metadata": {
        "id": "mKeo5F8qxxJP"
      }
    },
    {
      "cell_type": "markdown",
      "source": [
        "### 누락값이 들어있는 열 모두 삭제\n",
        "\n",
        "*   df[[열이름, ..., 열이름]].dropna(axis=1)\n",
        "\n"
      ],
      "metadata": {
        "id": "dyvtpLFx4KyS"
      }
    },
    {
      "cell_type": "markdown",
      "source": [
        "## 4) 누락 데이터 수정\n",
        "\n"
      ],
      "metadata": {
        "id": "kLs0xTON5JRA"
      }
    },
    {
      "cell_type": "markdown",
      "source": [
        "### 전체 누락값을 특정값(0)로 대체\n",
        "\n",
        "*  fillna(0)\n",
        "\n"
      ],
      "metadata": {
        "id": "iFoY7CoC5fJd"
      }
    },
    {
      "cell_type": "markdown",
      "source": [
        "### 특정 열의 누락값을 특정값(0)로 대체"
      ],
      "metadata": {
        "id": "XrLn9Kmn6AM0"
      }
    },
    {
      "cell_type": "markdown",
      "source": [
        "### 누락값을 문자열로 대체"
      ],
      "metadata": {
        "id": "dX8rwWC_GJvX"
      }
    },
    {
      "cell_type": "markdown",
      "source": [
        "### 열의 평균값으로 대체"
      ],
      "metadata": {
        "id": "dGSY_CijGjMP"
      }
    },
    {
      "cell_type": "markdown",
      "source": [
        "### 특정 항목 평균으로 대체"
      ],
      "metadata": {
        "id": "z8UWlIN4Ioyc"
      }
    },
    {
      "cell_type": "markdown",
      "source": [
        "### 특정 열에 대해서만 특정 열의 평균으로 대체"
      ],
      "metadata": {
        "id": "WFIL4zbxJJmo"
      }
    },
    {
      "cell_type": "markdown",
      "source": [
        "# 2. 이상 데이터 처리\n",
        "\n",
        "*   이상 데이터 : 정상치에서 벗어난 데이터 (outlier), 자료에서 예상과는 다른 패턴을 보이는 개체 또는 자료\n",
        "\n"
      ],
      "metadata": {
        "id": "i3ki8ld5zKHP"
      }
    },
    {
      "cell_type": "markdown",
      "source": [
        "## 1) 이상 데이터 확인"
      ],
      "metadata": {
        "id": "R-Q5AzhAz3Q1"
      }
    },
    {
      "cell_type": "markdown",
      "source": [
        "### 파일 읽어오기\n",
        "\n"
      ],
      "metadata": {
        "id": "49PjlRDYz8Ih"
      }
    },
    {
      "cell_type": "markdown",
      "source": [
        "### 이상 데이터 확인"
      ],
      "metadata": {
        "id": "fgOSWg_w0hX1"
      }
    },
    {
      "cell_type": "markdown",
      "source": [
        "## 2) 이상 데이터 시각화"
      ],
      "metadata": {
        "id": "1wVpnUp40ov_"
      }
    },
    {
      "cell_type": "markdown",
      "source": [
        "### 박스플롯을 이용한 시각화\n",
        "![image.png](data:image/png;base64,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)"
      ],
      "metadata": {
        "id": "JlCG1pDo0ugN"
      }
    },
    {
      "cell_type": "markdown",
      "source": [
        "## 3) 이상 데이터 처리 방법\n",
        "\n",
        "*   drop\n",
        "*   update\n",
        "*   다른 변수로 변환\n",
        "*   resampling\n",
        "*   case 분리 분석\n",
        "\n"
      ],
      "metadata": {
        "id": "7NXNf8AcJPo8"
      }
    },
    {
      "cell_type": "markdown",
      "source": [
        "# 4. 중복 데이터"
      ],
      "metadata": {
        "id": "EezGEZSkJWSI"
      }
    },
    {
      "cell_type": "markdown",
      "source": [
        "## 1) 중복 데이터 확인"
      ],
      "metadata": {
        "id": "2QcabXHoJeE2"
      }
    },
    {
      "cell_type": "markdown",
      "source": [
        "### 데이터 읽기"
      ],
      "metadata": {
        "id": "JtJZxRLJJ_Ks"
      }
    },
    {
      "cell_type": "markdown",
      "source": [
        "### 중복 데이터 찾기\n",
        "\n",
        "*   duplicated()\n",
        "*   True, False의 boolean 형태의 Series 반환\n",
        "\n"
      ],
      "metadata": {
        "id": "sXybvBr0KD6D"
      }
    },
    {
      "cell_type": "markdown",
      "source": [
        "## 2) 중복 시작과 끝 확인\n",
        "*   duplicated() keep 옵션 : 중복값이 있으면 처음이나 끝에 무엇을 남길지 확인\n",
        "  *   keep = 'first' : 첫번째 중복값을 False로 표시하고, 나머지를 True로 표시\n",
        "  *   keep = 'last'  : 마지막 중복값을 False로 표시하고, 나머지를 True로 표시\n",
        "  *   keep = False   : 중복이면 무조건 모두다 True로 표시\n",
        "\n"
      ],
      "metadata": {
        "id": "VBeUUl-wK24c"
      }
    },
    {
      "cell_type": "markdown",
      "source": [
        "## 3) 중복 데이터 제거"
      ],
      "metadata": {
        "id": "hxB6zPLZLARy"
      }
    },
    {
      "cell_type": "markdown",
      "source": [
        "### 유일한 1개의 키만 남기고 나머지 중복 제거"
      ],
      "metadata": {
        "id": "19DEfuIJNdLg"
      }
    }
  ]
}