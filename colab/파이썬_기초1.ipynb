{
  "nbformat": 4,
  "nbformat_minor": 0,
  "metadata": {
    "colab": {
      "provenance": [],
      "toc_visible": true,
      "mount_file_id": "1oyDbLlF73m6hV-TaVDLE4xYsDtm45CQz",
      "authorship_tag": "ABX9TyMMv4hsnnQZdybXFen2tjZs",
      "include_colab_link": true
    },
    "kernelspec": {
      "name": "python3",
      "display_name": "Python 3"
    },
    "language_info": {
      "name": "python"
    }
  },
  "cells": [
    {
      "cell_type": "markdown",
      "metadata": {
        "id": "view-in-github",
        "colab_type": "text"
      },
      "source": [
        "<a href=\"https://colab.research.google.com/github/hongrolee/Python/blob/main/colab/%ED%8C%8C%EC%9D%B4%EC%8D%AC_%EA%B8%B0%EC%B4%881.ipynb\" target=\"_parent\"><img src=\"https://colab.research.google.com/assets/colab-badge.svg\" alt=\"Open In Colab\"/></a>"
      ]
    },
    {
      "cell_type": "markdown",
      "source": [
        "# **파이썬 기초 I (기본문법)**"
      ],
      "metadata": {
        "id": "gGReaEsd9Jp4"
      }
    },
    {
      "cell_type": "markdown",
      "source": [
        "## **1. 파이썬 개요**"
      ],
      "metadata": {
        "id": "JwanIx1z9YfA"
      }
    },
    {
      "cell_type": "markdown",
      "source": [
        "### 파이썬의 장점\n",
        "\n",
        "\n",
        "*   비전공자도 쉽게 배울 수 있음\n",
        "*   다양한 분야에서 활용 가능\n",
        "*   대분의 운영체제에서 호환\n",
        "*   다양한 라이브러리 활용 가능 (데이터분석, 머신러닝, 인공지능 등)"
      ],
      "metadata": {
        "id": "e83MqHmu9gNO"
      }
    },
    {
      "cell_type": "markdown",
      "source": [
        "### 파이썬의 단점\n",
        "\n",
        "\n",
        "*   C언에 비해 느림 (10배~350배)\n",
        "\n"
      ],
      "metadata": {
        "id": "lJlhVXZI9744"
      }
    },
    {
      "cell_type": "markdown",
      "source": [
        "## **2. 기본 문법**"
      ],
      "metadata": {
        "id": "3nH9xhoA_GBJ"
      }
    },
    {
      "cell_type": "markdown",
      "source": [
        "### 주석 (#)"
      ],
      "metadata": {
        "id": "-pKCMZdbARHY"
      }
    },
    {
      "cell_type": "markdown",
      "source": [
        "### 기본 자료형\n",
        "\n",
        "*   int : 정수형\n",
        "*   float : 실수형\n",
        "*   str : 문자열\n",
        "*   bool : True 또는 False\n",
        "*   type()"
      ],
      "metadata": {
        "id": "PIFuB_KgBmfg"
      }
    },
    {
      "cell_type": "markdown",
      "source": [
        "### 출력\n",
        "*   print(값)\n",
        "*   print(\"OOO{},{}OOO\".format(값))\n",
        "\n"
      ],
      "metadata": {
        "id": "kAds-3ah6f7m"
      }
    },
    {
      "cell_type": "markdown",
      "source": [
        "### 연산자\n",
        "\n",
        "*   사칙연산 : +, -, *, /\n",
        "*   나머지 연산자 : %\n",
        "*   제곱 연산자 : **\n",
        "*   복합 대입 연산자 : +=, -=, * =, /=, %=, **=\n",
        "*   우선순위 : 곱셈, 나눗셈 > 덧셈, 뺄셈 ( ( )가 있으면 최우선)\n",
        "*   비교 연산자 : ==, !=, <, >, <=, >=\n",
        "*   논리 연산자 : and, or, not\n",
        "*   <실습> 복리 계산 프로그램 (init_money*(1+ratio)**years)"
      ],
      "metadata": {
        "id": "X7v63X1rAmSQ"
      }
    },
    {
      "cell_type": "markdown",
      "source": [
        "### 문자열\n",
        "\n",
        "*   형식 : \"2023년 AI중급과정\", '2023년 AI중급과정'\n",
        "*   이스케이프 문자 : \\\\\", \\\\', \\\\n, \\\\t, \\\\\\\n",
        "*   문자열 연산자 : +, *, in\n",
        "*   인덱싱 및 슬라이싱 : [ ], [:], [-]\n",
        "*   \"\"\" 문자열 \"\"\" : 여러줄의 문자열\n",
        "*   print(문자열, 변수, 문자열, 변수)\n",
        "*   <실습> BMI 계산기 (weight/(height**2))\n"
      ],
      "metadata": {
        "id": "TYkiqTcxDHhb"
      }
    },
    {
      "cell_type": "markdown",
      "source": [
        "### 문자열 함수\n",
        "\n",
        "*   len() : 문자열 길이 측정\n",
        "*   format(), upper(), lower(), strip() : 문자 형태 변경\n",
        "*   isalnum() : 알파벳 또는 숫자 포함 여부\n",
        "*   isalpha() : 알파벳 포함 여부\n",
        "*   isidentifier() : 식별자 사용가능 여부\n",
        "*   isdecimal() : 정수 여부\n",
        "*   isdigit() : 숫자 인식 여부(2²)\n",
        "*   isspace() : 공백으로만 구성 여부\n",
        "*   islower() : 소문자만으로 구성 여부\n",
        "*   isupper() : 대문자만으로 구성 여부\n",
        "*   find()    : 특정 문자열의 왼쪽 부터의 인덱스\n",
        "*   rfind()   : 특정 문자열의 오른쪽 부터의 인덱스\n",
        "*   split()   : 특정 문자로 자름"
      ],
      "metadata": {
        "id": "mE2fx4mdMPpF"
      }
    },
    {
      "cell_type": "markdown",
      "source": [
        "### 사용자 입력\n",
        "\n",
        "*   변수 = input(문자열)\n",
        "*    <실습1> 자동 기사 쓰기 (stadium, winner, loser, vip, score)\n",
        "*    <실습2> 구의 부피 구하기(3/4*PI*r**3)\n",
        "*    <실습3> 화씨를 섭씨로 바꾸기(f-32.0)*5/9\n",
        "*    <실습4> 두 점 사이의 거리\n",
        "$$d = \\sqrt{\\left( {x_1 - x_2 } \\right)^2 + \\left( {y_1 - y_2 } \\right)^2 }$$\n",
        "       "
      ],
      "metadata": {
        "id": "JVikariOHb5j"
      }
    },
    {
      "cell_type": "markdown",
      "source": [
        "### 형 변환 (cast)과 반올림\n",
        "\n",
        "*   int()\n",
        "*   float()\n",
        "*   str()\n",
        "*   round(value)\n",
        "\n"
      ],
      "metadata": {
        "id": "tMmhWY7LIa1f"
      }
    },
    {
      "cell_type": "markdown",
      "source": [
        "### 날짜 및 시간\n",
        "- import datetime\n",
        "*   datetime.datetime.now()\n",
        "*   year, month, day, hour, minute, second\n",
        "\n"
      ],
      "metadata": {
        "id": "NzqkGm_fSEGM"
      }
    },
    {
      "cell_type": "markdown",
      "source": [
        "## **3. 조건문**"
      ],
      "metadata": {
        "id": "3Vc6GYa1Raeu"
      }
    },
    {
      "cell_type": "markdown",
      "source": [
        "### if, if-else, if-elif-else"
      ],
      "metadata": {
        "id": "6WRooyj9R7MG"
      }
    },
    {
      "cell_type": "markdown",
      "source": [
        "### if-in"
      ],
      "metadata": {
        "id": "2IAIsFmWS9yI"
      }
    },
    {
      "cell_type": "markdown",
      "source": [
        "### pass"
      ],
      "metadata": {
        "id": "xC13BiszSBYQ"
      }
    },
    {
      "cell_type": "markdown",
      "source": [
        "### <실습>\n",
        "#### <실습1> 물의 온도를 입력받아 물의 상태 표시(어는점 : 0도, 끓는점 : 100)\n",
        "\n",
        "#### <실습2> 점수를 입력받아 합격/불합격 판정\n",
        "\n",
        "![image.png](data:image/png;base64,iVBORw0KGgoAAAANSUhEUgAABRoAAAEaCAYAAAEJbduuAAAAAXNSR0IArs4c6QAAAARnQU1BAACxjwv8YQUAAAAJcEhZcwAAFxEAABcRAcom8z8AADVGSURBVHhe7d1/sGR1fSd8BpAf8dfsWmExa0WsSkoqmz+wUilMPVUZLjDGZ9Qsq2R3sjxVUj6VlOvW1twhIsgTxRgijz4hbta4LDMDEwcQ0ChKkZ0YEwibCOqGxY0BomMSxAgFSgiogEjZz/n0Pd+Z7z332327b/ft7tP9elW9q7vPOX1u3+7Tpz/9OT/6KGbf0u59nVlO/TBZFDv33f9js5z6YbIoSgvBLKV+mCyK0kIwS6kfJouitBDMUuqHyaIoLQSzlPphsihKC8FGcvyLXnJFc9ixJ77gpuawYVM/TBZFaSEYJkc/7/g7t/74T59XWiCr2Xeaw4bNyqNkYZQWgmESC2I1m05aIF/8sle+ZcuWLU+k4c3ph033QbI4SgvBMKlm0V3oXnjSy5fzYSlp2EZTzYNFUloIhkk1i54LnxqSoZUWgllK/TBZFKWFYJZSP0wWRWkhmKXUD5NFUVoIZin1w2QR3HPooe4uXqUFoZSzLjzQed17bx35m/MwqR8q866TOWP3vmdKC0OeN33wc53z9t57OKVpNiP1wx1G+tZf9J4qh9sCMjvJ1TvC9k2+MEZK08xgaIvdH/7DenHsDPTCbdu1/5S0MJ6xvPeZevAssiACTNRyfcnmOqPKzVWe7t7q761V4uOwO+3S7r2Px+Umu7LKq6tc3r01BfEEBXXAbJn26zHVv7+1vmRzpRc51nSDvOAxzV1VBlmbjipWTLFmjL+ZHtup9SX0NqGPboA5kTfQN5p6VrAx+alPSgvYsOnOFMahtIANm3pWMLp8wTr/mvs63/v+c93roXR559ee6F7mqWcFo2suXEm6no879MhTq26n1LOC0ZUWsMj7D369e3nZrQ+sGv6Jux9ddTtSzwpG11y4NpJ6VjC60gI2bOpZAQCzf37xSP1QmXelA6pmKRbGBVJaAGYpFsYFUloAZikWxgVSWgBmKRbGBVJaAGYpFsYFUloAhk01m+7ZKtJladxGY2FcIKUFYNhUs1mzMMb1lDRsI7EwLpDSAjBMqll0F7b8fOH5Zbq+0VgYF0hpAdhoqtkdXvDieko+zbCxMC6Q0gIwbKrZ9FzwSsOGiYVxgZQWgFmKhXGBlBaAWYqFcYGUFoBZioVxgZQWgFmKhXFBxAv96c/dN/AXjNdc8vG3nPu7X+ic9Y5rHymN34xYGBdAvMi50oLQTH54wLl7Pv+K0jTjzgYXxrhPOgveKjFCZix//lcP1IvhitI0zeQL4+lvvqw4zYwlzk1PG9TL4cB7U//yf/urwwtjPWhWWQgXhVPmwRTcX+WElatsspPry/XEx/Kg045D/L1TVq52nVZfznp5wAhur5Je4Ivry17iBPZ/v3K1e7/N/riOhTGdkD793fPry4mJJ8c7YLZMukaMtszOlauHWS6AFlla3vtwfRVmT94g30jq2cDG5M3z0gI2TOrZwOhKC9gwqWcDo8sXrEeffLZ7GeLc30kMz+X3qWcDo8sXrLdd95VVC1rk4JcfO7yQllLPBkaXL1jpHN6XfPJvDw+LLN/41VW389SzgdGVFrBhUs8GRldawIZJPRsAgFlWOjZIBo+D+mBOld7wMnisHGFOld7wMnisHGFOld7wMnisHGFOld7wMnisHGFOld7wMnisHGFOld7wk8oLT3r5cvUQYuWyKvkvAUV+9Cde9abmNDH82BNfcFM+3TRi5QhzqvSGn2Sqh9B56Wlnbk/Xj3v+1j1p5RhpTpsPs3IENk3pDT/pxMrw6Ocdf2e6HZViDMunKeXFL3vlWwaZbjNj5QhzqvSGn3Sqh9GJlWPKlmOOORTDStPmUTkCm6b0hpfBY+UIc6r0hpfBY+UIc6r0hpfBY+UIc6r0hpfBY+UIc6r0hpfBY+UIc+TQP3y7Pkf/Eb/y2zePbavv9os+eqB0RtezLjww1S3Lm5EJrRzjb8RvEg4lfkU97igiA+SeQw/Vq8O14o1+4taTRk5pxZhyxq6rivdpa+qV4zQy9MoS6CPezL0sLe+7q55sJDsu/VRxxRipJ2E4+UoxCkJgs8RKMss99eCxinmffeFHun9j2669Kh2AkqXdex+vrzInbq6SSlpou/wr2g0xoHJOlbj96u6tjftglZhX7vb6sqvlK8h4jk5Zudp1f5X0XCbp9sHurTkWT8QJK1e78icB2iwty/lX6ljWN7qCTPPbWSXm0+yNvbW+bLu0cjy/vkziQyBfP8zL/9tX/k/O/acBCyF/E+crx5Or5JXRMPJ5Pl1l/8rVw9asLFpaRabnJz5E8ufq4ir5c7CqYgZm39b6smnUraBRLcZKMb5aJ7ECyVcYaywt7324vgoAAANa72t2tuvR1FI/FIDJ6vc1u7RT+aRTPxSA2VFaWU069UMBmB2lldWkUz8UgNlRWllFbvziI53lG796+HbIx+e3H/j2093LR5989vCwW770rcPX73vou4evl1I/FIDZUVpZRa696+Hu5Z1fe6J7+U9P/aDzKx/5m+71WGnGCjHdTivKfOUYueMrj6+63Sv1QwGYHaWV1aRTPxSA2VFaWU069UMBAACA0hEgMlzqpxKYF/HGLv1glAye+qkE5oUV4+ipn0pgXlgxjp76qQTmhRXj6KmfSmBeWDGOnvqpBOaFFePoqZ9KYF5YMY6e+qkE5oUV4+ipn0pgXlgxjp76qQTmhRXj6KmfSmBeWDGOnvqpBObFrKwYq4ey6nE0b/fKoNNtZuJ5BObItFeM1UOIkzCsyvEveskVcdlvunx4Pt00Uj0GYJ7MQsX4k2fsPL16KJ2jn3f8nWlY3M6nSfmRf37ypTEuT2m6SaZ6DMA8mfaK8aWnnbm9ehjdx7D91w68Il2Py8ixJ77gpjTtz7z5t05N41Oat6eR6jEA82TaK8ZULcb1F5708uV0PV2mxO18WLrdnG4aqR4DME9mZeNLfI2O3mK6nV+PHHvcCbflt1Oa000j9VMJzItZWDHGSnHL0cc8mA+rHtqaxxXDSmlON+lUjwGYJ7OyYjxqy5Zn4jKlemgDPa5Bp9vMdJ9IYH7MzIoxqwBTStM2M+h0m5nqMQDzZFZ6jG1O/VQC88KKcfTUTyUwL6wYR0/9VALzwopx9NRPJTAvrBhHT/1UAvPCinH01E8lMC+sGEdP/VQC88KKcfTUTyUwL6wYR0/9VAJtt7S87/53XfPZzj2HHuq84ZIDnTPf/vuXlt70o+SsCw90zvnAbZ1zf/cLnbhemmYeUj+lQJtFlViydMHVd5fe+BvJ9ouv75y3995V+eWrvtw5d8/nX1Gavs2pn9bNFodJApulXg+ucegfvj2Wqu7sd1x3d3OlmDKPlWP9tG62/DjygeR3EJE+edUvXVivBstO3HrSyImVX2mlGImqsXSfNqf0PE8ofZXuICKF/Ksdv1qvAstK9xk28VW9tFKM7Pyv/6t4H9lQgHGp14Fr7L31f47lzbZ0wb4PllaKkVhp1pMxHCtE2ExLy3sfrteFq2zbtfeMepKRlarGN1z2372pN85zB5tt2wVXnRorrzdf/gebVsUt7d57c8w7pR4MQLJt177z66sABCtGgAJfqedLvJiR07q3oL3SspySPF1nFK+usn/l6mEXV3nPytUVLa4cT6iSP2chPY9bu7eOOurUKs3ndi7l/+Dc/7MslLQ8j2MZz1d+fefb4hVjrPx6PVd9/+d5tDD/KAsnrczGsYzHyu61K1cPz6PnfFv8lbrX/5Su315fhrb+jwPp9URAm/VarkdZxm+oMvB8W1o5rvf/5a2ENf/zPOn1RECb5f3EcSzjpfn1ne+crhj7/s/z5PIqN1c5p8qozWmYBc03bH77/vpyWKUVQmnYKi37Sh1HBsXjTUcI3VUl1g9vra+HNP7xKrGxBmiJ0qF/Ub2dsnJ1w6K/ds/K1cPidhQWPdm/EaBh2+59O+urACR2/AYo8JUaoGG9r9RRVc5C6ocDMBn9VjwxrnmOx0nHihGYil5fqa0YgYUVX6ljBZRSD7ZiBGiyYgRosGIEaLBiBGjot2IMt3zpW537Hvru4dsPfPvp7mW6/b3vP9e9TPd59MlnD9/+xN2PrrrdK1aMwExZb8WY3z745cdW3f6T+/7x8PU0bbrsd70ZK0ZgpvRbMUb+6akfHK4Yf+ePH1w1Lr+dVnzpsnm9X6wYgZmy3ooxklZw6TK+Xue3L/303x1eSaZhzevLN3718PVmrBiBmdJvxRgrs/cf/PqqYdE3zG9fdcc3V92OlWR++7JbH+gmH9aMFSMwUwapGDc7VozATLFiBGiwYgRosGIEAAAAAACAORcb5Hbuu//HRKYVG4UBoAUUjTLtKBoBoAUUjTLtKBoBoAUUjTLtKBoBoAUUjTLtKBoBoAUUjTLtKBoBoAUUjTLtKBoBoAUUjTLtKBoBoAUUjTLtKBoBoAUUjTLtKBoBoAUUjTLtKBoBoAUUjTLtKBoBoAUWuWj8qR1vO+1Hf+JVb8pTPSVRwHSaw3/yjJ2nH/+il1yRxpfml9+/V/Lpjz3xBTeVhi9aFI0A0AKLXDS+9LQzt0chOEiiIIzL6ikbushL9zn2uBNuS9ebKd1vUaJoBIAWWOSiMWXLMcccqp6KNYVcSpouLxpToluYzytPdCcPT1cVjM3xOo0rUTQCQAssetF43PO37qmehmLhduxxJx6M4Vu2bHkibg/aaVxVXG7Z8kxxeCP5/RctikYAaAGdxigcX3SgeirWFHKRLUcf82Cabr2iMb/fj7zkX15UmiaPTuNKFI0A0AKKxpUc/bzj76yejlVFYjMvPOnlyzFNpDQ+T5pu0JTmsShRNAJACygaV5KKxkFTmsew0WlciaIRAFpA0biScXcaB4micSWKRgBoAUXjSnQapxdFIwC0gKJRph1FIwC0gKJRph1FIwC0gKJRph1FIwC0gKJRph1FIwC0gKJRph1FIwC0gKJRph1FIwC0gKJRph1FIwC0gKJRph1FIwDMsG279p1ffVjfHh/YZ114YM+O37j19NIH+ixnxwc+c9r2d974obPfce2d3Vz80UtL08lsR9EIADNk2679W+PD+fo/+VKnnzdccqCzdMHVh0of7rOQsy+6/raqQOz8+z1f7py3995izv3Pd0Uh3Nnxvs+0rhBexMxR0XhGfQkA7bS0vO/+9YrFpvgg33HZZ04rfchPI+fu+fwrohAsFYm98ksf+mIUj8+U5iezkzkqGuP/yKOIBKA9ti3veetvHritLgWHEx/mpQ/5aWTYgjHlX/+/n+1sv/j6m0rzlNnIHBeNzYyliHxPldLMRURERsr/8atXdB5+7Dt1GTicN737+m7hKLLZKS27C5CtVQBgNmzbvefVv/ybN9Vl4HDqD/OZEI+l1ElcLzsu/WQnuq31bGAzNYvCZqJJCACza+mCfR8ctnCcpYIxicf0y//tr4rFYSmv/fWPVf/H3pvru8NmUyQCMB/igJgovB578qm6NFzt9//o7m6xuG3X3pndgX/bBVedGo/x9e+9tVgoxlHVZ/3a/h9WxeLj9V1gUhSJAMyvKMLqq621bdf+U+qr9fknFYwAAAxgFjevAwAwg6LjGJ3H+iYAAJTZXA2zJ51rcmf31oqnq9g8ADBd6UjOUvJi6oYqaVis0+Mybufr9UlJj+/vq6THEcnFfoxpeJ7D+zfmbK6eqMurxPN9e31Zek3SuJO7t4466oQqcbv5OsXtWA6SNO/l7i1aKV7Ac1aurtJ8sQGYvoer5B/O8QGc306iYIzh8YE+KfdXKT2WGBYFQ4iTIsft07q3joijvmN48aTJNldPRbwezaLx1VV6vU4xfP/K1e71SFOcRqk0nBaIYrHXi9frBQdgOu6q0lwv91tXx/BJF1r3VIm/G481FQivrZL0Kxpi+JUrV9eyuXri4vVoFo0frNLv9UvNprieCshcLI+97s+MS5sISt9EY3hspgZg+np9WPfbnSiG5wXbJMTfjEQnKjUm8seXNm2WxPCeRWNic/XExPPcLBr7FX0xPJ2QPa7Ha93UqzNOS8SL1ywOY7NBDJ/kZg0AylLxVTovY9ovvbm+7tcR2izx90rdpdR9DKnoSPvDJUN97thcPRHxepT2aYzhzYKwWQz2+nIQw/zST8ulnVNT4g0OwPRFoRjr5X4HD8TvM+fr8JRJS/tRRqJjGAVkup3vAxfj0vBUXESGOln5tt37dtpcPXbptSgld7BKPq5UCMYXg3yaSPPLAgDAZNhcDQDAQJaW9z5sczUAAOuyuRoAgIHZXA0AwEBG2VwdRed5e+9d+Ci+AYCFsNHN1YrGlSgaAYCFMmzxo2hciaIRAKAPReNKFI0AAH0oGleiaAQA6EPRuBJFIwBAH6MUjZ+4+9HOfQ99t3PLl75VHH/NXzzUHX/n157onH/NfWvG/95t3+iO/8sHnuxeL42PecT1mCamzce/7bqvHH4MpfsPE0UjAEAfGyka7/jK451QGhf5p6d+sGb8JZ/828PXH/j202vGR1EZojhMwx598tnusJg+nzYSfuePH1wzLL//MFE0AgD0sdFO4/e+/1y3SAuXfvrvVo0L7z/49VXD8vQaH13DkG6nojGfJpKKzl6a0w8SRSMAQB8bLRrzNDuPITZJ59PkCaWOYLND2atobBaX44iiEQCgj40Ujc8+98Nu0Za76o5vHh6fNjU35fs1luYRxWcaH+lVNEauvevh7rimfsVqvygaAQD6GEencR6iaAQA6EPRuBJFIwBAH4rGlSgaAQD6UDSuRNEIANBHFEuykvopAQAAAAAAAAAAgL5K+6CJTDr14ggAzKr4wN657/4fE5lWFI0A0AKKRpl2FI0A0AKKRpl2FI0A0AKKRpl2FI0A0AKKRpl2FI0A0AKKRpl2FI0A0AKKRpl2FI0A0AKKRpl2FI0A0AKKRpl2FI0A0AKKRpl2FI0A0AKKRpl2FI0A0AKKRpl2FI0A0AKKRpl2FI0A0AKKRpl2FI0A0AKKRpl2FI0A0AKKRpl2FI0A0AKKRpl2FI0A0AKKRpl2FI0A0AKKRpl2FI0A0AKKRpl2FI0A0AKKRpl2FI0A0AKKRpl2FI0A0AKKRpl2FI0A0AKKxiM5+nnH31k9JZ0tRx/zYGl8jIv85Bk7Ty+NHzZpfqVxixRFIwC0wCIXjT/6E696U56jjzn2r6unpCoaj36kOS6mj3GRXkVjGt8rxx53wm2l6fNhixhFIwC0wCIXjdW/v6qo65d8+o0WjS886eXLpenzYYsYRSMAtMAiF43Hv+glVwyamL56urpF3jCbp1/8sle+Jd0v5pOu5yndb5GiaASAFljkojHPcc/fuif2Zayeks5RW7Y8c+xxJx5sTtMdV2WYojHdJzZ9KxrLUTQCQAssetH4M2/+rVOrp2FNIZey9cd/+rw0bWl8Pq9mDhehPaYbZB6LEEUjALTAoheN1VPQLdyaR0wfe+ILbkrjmtPmye+TJx1UE4lN1KVp1pvHokTRCAAtoGhcKdyi49hrXPP2epun03SR9TqVkfy+ixhFIwC0gKKxLt62bHnmlJ/9xZ+PYVFAbjnmmENpXHPaXkVjOs9jyr849eden4/Px+XJp1nEKBoBoAUWvWiMVE/DmkIu5ad2vO205nSlojFOp5PGx3kem+NLSdOXxi1SFI0A0AKKxpXECbzj6OboFsaR1M1zKkbS6XdKm7LT+NStHCRpfqVxixRFIwC0gKJxJdVTsW7XL02z3j6N+VHTg6Q0j0WKohEAWkDRuJLqqVi3gEvTKBrHG0UjALSAonEl1VOxppjrlfWKxkGT5lcat0hRNAJACygaV1I9Fd0CLvZp7JU0jaJxvFE0AkALKBpXUj0V6xZwaRpF43ijaASAFlA0rqR6KroF3CBRNI43ikYAaAFF40qqp2JVYdgvisbxRtEIAC2gaJRpR9EIAC2gaJRpR9EIAC2gaJRpR9EIAC2gaJRpR9EIAC2gaJRpR9EIAC2gaJRpR9EIAC2gaJRpR9EIAC2gaJRpR9EIAC2gaJRpR9EIAC2gaJRpR9EIAC2gaJRpR9EIAC2gaJRpR9EIAC2gaJRpR9EIAC2gaJRpR9EIAC2gaJRpR9EIAC2gaJRpR9EIAC2gaJRpR9EIADNq29v3n3zm7n2XVx/Wt8cH9plv//1LSx/ms57XXPKx5bPfce2dke0X37Bnx/s+c3ppOpntKBoBYMZs27XvnPiAjnz8z77cuefQQ9385oHbusOqPFL6UJ+1nHXhdYfOuvBA53XvvaVz7u9+oZt/89t/1tl+8fWdGH72xR9tZRG8qFE0AsAMWVred/AXLtzf+f4Pnuv08oX7v9EtHnf8xq0z2bF7429/7tQoCv/1+/+0c97ee3tmpXi87lBpHjJ7mZOi8T31JQC019Luq698wyUH6tKwv+889f1u4Xjuf/n8K0of8NNMFIz/9vf+Z7FQbOa17/qDztnvuO7u0nxktjInRePtVeL/iEsAaJ9tl+4/IT6Uh3HvA49E4fhM6QN+WonO4XodxmaiyNzxgc+cVpqfzE7mrGhMUTwC0C5Ly/vu+vO/eqAuBwc3a93GKABLhWG/RFeyut9MFb+yNnNaNKYoHgFoh2G7jMnv/9HdnTPfvv+m0of8pHP2JTdd9Lr33losDNdLFJulecrsZM6LxpSxFY+lmYuIiIycjRaNsW/jz//HD3VO3HrS1POz/9el3SOkS0XheomisTRPmZ3UReOiZOTisTRTERGRkbPRojHEfUUmkdKyO+e5ucqGlGYmIiIycuIDeSMefuw7ndPffFlxnpPOv9rxq503XvHnxU7ielnQgkRmN49X2VoFAGbLRovGd13z2c625T1vrWczVdt273n12e+4rlgUrpe6aITNtt4+jYpFAGbb0gX7Phi/+DKsWSu24vGUisJ++cXfOtiJo8frWcBm6lU0KhYBaI8ouOLAlkHt/vAfVkXj3g3vc7UZovgdttuoy8gENYtGxSIA7bNt1/5TBi0cP/ypz0ex9Ux915mytLz34df++seKBWIz8f9u27X3jPqusNlS0ahYBKDdtl1w1alRSH3w45+ry8PV4jepX//Oj/xwaffe+NCbWUvL++6P/2PnlV8qFou/+L4/UjAyDdGZVywCMD9is3MUVZE3vfv67mVKWwqtVACnbL8o+z8uuPqxejIAAMYhNlvXV1stisj6anf/zW1v339yfRMAANaKgjEKx/omAACULS3vOxipbwIAQJnN1AAArMtmagAABmIzNQAAA7GZGmZPnNAy/XROyv1VAJienVWa6+Y8TTdUSeP2x4ApurhK/MrGe6qcEAMK4pRBV1aJEysXzzFpM/XUXF6l13IW4jRJaXxKqSsctURzOifRbrn0QiavrRK3Z+q3SwEWzDBFYxoWheMHs9uTdk6V9Lfz3/M9v0ru76ukcSkxbA2bqSeq1EQqab5eqchc7t5akV7/1CmOLw/95kkLpAKxKX6KygsLMHuerpKvn6Ogaq6vo4sXw/IP8UmIvxnFQu7hKvnjS587eXfx1VViWLO47LKZemLitYsvHSFej/x1S1KB2NScPq5HJzmXXufTurdonebKJ4kVTWk4ANOTujV5cRW371m5ukoMj3X8JDUfW0idz6TX507Px2sz9VTE893rdSoNj62TaXgqDkubomP4tHefYIN6vfjpWyoAsyPtI5aL26UOXa/1+2Yq/c24ne8nH7dLuz+V/rfDbKaeuNJrGWJYs5sc3lolTR/LY6/Xstf9aYF48WLTQUmM00IGmB2xXm52aWJY6UCStN/gJOX7xKX9G5vdwxgWB8g0xf/V9/HaTD1R6XVsimGlTmFeKDa7y7kYXtx/ldnX68VLm0Dm4gfxAeZAvvkvSVuFSuvqdCDCpOUHPJQeWwwrdUajkOz7eG2mnqj0+jXFsPWKxl77PYYYrmhsqXjxSi9sdBh7veAATF6sk0tbhmJ4aavQNDqNcaqd+JtRNIT0GPIiI26XisZ1O43BZuqJidei9HrEsNLm5fxYiPU2Tzs7S0v1Okp63W98AExM+kDudWBB6SjpGD7J9XhsNo6/F0dH51IxmB57XC91qu6qMtDjtZl6IuK1KL0evYbnne10IEypAx7D48sFLZSKw+bJV2PYpI+6A6As1smRkl7r6xieTp8yCXF6lX6PMRW2cb00XQwb6HPHZuqJ6PU69drtIYblHcS43exIOjPLHIgXMBLfDuObWzqCLc74DsB0pa5Ns4OXxOl2muvs9Oswk5Q2STY7gOnxp+Fp38y8WZH2zSz+MkzJ0vLeG2ymHrvoBsdrEInXI70mzdclHxfLXdpqmb+mqXOcdlVIR1fHcFqsudNyJN7kAExfWi/3k6+/U0qbrDdb+tvRYYotWamgbR74kKaLJkUqLqLwGIrN1GOXusWl5F9K4jlvji+9DunE8yn2ZQSATRTdnEEKo/hQj0Kt2RWatChW0ybMuOx16rZUoERhGT+ZODSbqQEAGIjN1AAADMRmagAA1mUzNQAAA7GZGgCAgdhMDQDAumymBgBgIDZTAwAwkFE2U8d95UjqpwUAYP6Mspk67nfe3nuliqIRAJh7G91MrWg8EkUjALAQougZdjO1ovFIFI0AwELYyGZqReORKBoBgIUx7GZqReORKBoBgIUSxU8p9ehVYnipgFrE9HqOAAAWnqLxSBSNAAA9KBqPRNEIANCDovFIFI0AAD0oGo9E0QgA0IOi8UgUjQAAPSgaj0TRCADQwyhF4+/88YOd+x76bjcXfvxra8a/7bqvdA5++bHu+Kvu+Oaa8b/ykb/p3PGVx7vjP3H3o93bzWlieFxedusDxfnEY/jf3/hO55YvfauzfONXV40bNopGAIAeNlo0fvPxZzrhzq890S3mQj7+Lx94sjssPPrks93LZ5/74eHxUeQl6f4hhufzCVEYJjGvfFyIx3Dokae616NIze8/TBSNAAA9bLRoDO8/+PXiuPOvua87/tq7Hl41PLqK6XpoFnil4jNpdiEf+PbT3eH5sPh7zWHDRNEIANDDKEVjFG6lcanLWBoXiWKx1/jwe7d9Y9Xta/7ioVXTpOE3fvGR4vBLP/13a4YPEkUjAEAPGy0a803GsXk4H/e97z/XHZ4Py5M2bZfGhT+57x9X3Y79GfNp0vBeSvtPDhJFIwBADxstGlOi25ekYWkfxny6PP3Gh3TwS7rdq2iMwrU5fJQoGgEAehi1aEwJaR/F2HcxNKdJiU5iaXzaFzIvEpu38+F5R3IcUTQCAPSw0aKxeWBKSJuFU/EXp8JJ49OwfPrmPpGlzdqhVDSmo6Vjvvnw0ml7Bo2iEQCgh40UjXH+xZJ8mtRtzOVFYr5ZO1cqRktFYyRO4VNSmnaQKBoBAHrYaKcxEkc1x/6H/Y5Wjv0O830Um4mCMArIXh3CXgVjnjjaOuZROsH4MFE0AgD0MErROG9RNAIA9KBoPBJFIwBAD4rGI1E0AgD0oGg8EkUjAEAPisYjUTQCAPSgaDwSRSMAQA+KxiNRNAIA9KBoPBJFIwBAD1EoyZHUTwsAAAAAAAAAAAAAAAAAAAAAAAAAAAA9lM7tKiKyiKlXiwAAAMBGpC/YO/fd/2MiIosYjUYAAAAYA41GEVn0aDQCAADAGGg0isiiR6MRAAAAxkCjUUQWPRqNAAAAMAYajSKy6NFoBAAAgDHQaBSRRY9GIwAAAIyBRqOILHo0GgEAAGAMNBpFZNGj0QgAAABjoNEoIosejUYAAAAYA41GEVn0aDQCAADAGGg0isiiR6MRAAAAxkCjUUQWPRqNAAAAMAYajSKy6NFoBAAAgDHQaBSRRY9GIwAAAIyBRqOILHo0GgEAAGAMNBpFZNGj0QgAAABjoNEoIosejUYAAAAYA41GEVn0aDQCAADAGGg0isiiR6MRAAAAxkCjUUQWPRqNAAAAMAYajSKy6NFoBAAAgDHQaBSRRY9GIwAAAIyBRqP0ynHP37rn6Ocdf2fKsSc8/1Ol6Ur5yTN2nv6jP/GqN+XZ/msHXlGadho55Wd/8eebj680nSxGNBoBAABgDDQapVeiuVgtItF86WbL0cc8WJqulONf9JIr8vtGovlYmraUl5525va8ybmR9GuMHnviC25qPr7SdLIY0WgEAACAMdBoXMy88KSXL1cv/6pG2zgSDcaY/6iNxtjDsHn/YRN7ZJbmHdFolDwajQAAADAGGo2LmVlvNP7Mm3/r1Oahzf2y5eijH1n197ZseeZH/vnJl5b2dIysmb5K6XHIYkSjEQAAAMZAo1E2I6M2GgdNnPex1DR88cte+ZbSY+iX0vxlMaLRCAAAAGOg0SiRaALGOQ2rRWJNA65XthxzzKFo6JXmV2ryxaHMMTxPr/sPkvhBly1btjzR/DuDzNOh05JHoxEAAADGQKNRjj7m2L+uFoVVTbdIDI/DjKMhGE3IuB6HJK+Zthr2L079udfn84z7rJmukGj45fcbJHFYdTQ5m/OKPRt/asfbTivdpxmNRsmj0QgAAABjoNG42InzGFaLwaqGW5zzsDRtnmajL5qS+fhSo/FFJ7/iPzTPrRh7Jeb365doZpYOk45GZ5xzMp82bufnZGzGORolj0YjAAAAjIFG42Inmn/VYrCq4dZs2jXT3aOwccjyscedeDCfptRo3Mg5Gl962pnbozHYnFc3W7Y8s/XHf/q80v0G3aMyT2k+shjRaAQAAIAx0GiUjTTl8sTejNF8XG+egzQau03Mo495sHnfPPH3ogFZuv+gcei05NFoBAAAgDHQaJSU+BGVnnsPNhKHHsdh180GY8qoezT+yEv+5UX5fY974T/7UK+/tZFoNEoejUYAAAAYA41GEVn0aDQCAADAGGg0Sp7mHo1xGHNpuvUS53nM5xPZyDka86x3SPWoKf1NWYxoNAIAAMAYaDRKnkEPnd5IRm00HnvC8z8Vj28c8avTkkejEQAAAMZAo1HyRBOuWixWNeDGlVEbjeOMczRKHo1GAAAAGAONRsnTbDTO0qHT44xGo+TRaAQAAIAx0GiUPGv2aNyy5Zl0uPEw2XLMMYdWzaeKRqPMajQaAQAAYAw0GiVPNAmrxWJVA25c0WiUWY1GIwAAAIyBRqMsYl78sle+5fgXveSKPKXpZDGi0QgAAABjoNEoIosejUYAAAAYA41GEVn0aDQCAADAGGg0isiiR6MRAAAAxkCjUUQWPRqNAAAAMAYajSKy6NFoBAAAgDHQaBSRRY9GIwAAAIyBRqOILHo0GgEAAGAMNBpFZNGj0QgAAABjoNEoIosejUYAAAAYA41GEVn0aDQCAADAGGg0isiiR6MRAAAAxkCjUUQWPRqNAAAAMAYajSKy6NFoBAAAgDHQaBSRRY9GIwAAAIyBRqOILHo0GgEAAGAMNBpFZNGj0QgAAABjoNEoIosejUYAAAAY0LZd+86vvkTfnr5Mr5sLrj505ts/8r7X//bnTi19KZeN5zWXfGz57Hdce+dZFx7oDJbrDp39zhve90avhcimJa376lUmAAAAkFvaffWV6cvzm959fefgF77a+f4PnusM4p5DD3V2f/gPs8bjNXdqOm482y/66IHUOHzNO2/ovPGK/9H593u+3Dlv773r5tzf/UJnx6U3H248RpNS01FkvEnrunr1CQAAAISl5X0H4wvzGy450G0YjurrjzzeefPlf1A3Ha9+cMdlnzmt9EVd1ubsi66/LZqD2y++vtswLDUSh8m/+693d37h//nYStPxHdc+uOMDXguRcUSjcabcXiVei7g8IwYAAAAwYdt27Tsnvij/woX7x9JgbHr4se9094yMv3HWhQf2lL6sy0pec8nH31LvfTiWBmMzO6+8p7tn5EoT8wavhciI0WicKanR2IzGIwAAwCRs27VnOb4kRyNw0MOjN+pd13xWs7FPzr74o5dGAzAagYMeHr3RvO69t2g2iowhGo0zpVejsRmNRwAAgHHbtmv/KfEFOfZk3OwmY/If//MtK83Gi288r/SlfVGz432fOX1lT8brNr3JmPJ/vvuT3Wbja979Ca+FyAaj0ThTBm00NqPxCAAAMKql3Vfvjy/I8WMvkxLnbYy/eeYFV/916Uv7omb7xdffFE2/+LGXUlNwMxLnbew2Ny+61mshssFoNM6UjTYam5mJxuN7qpQenIiIiIiIyEzm5/7v93e/IMc5FCcp9qBMX85FROYhpXWszE2m0njUaBQRERERkVblZ3Ze0v2CfO8Dj9QtwM0Xh2jH39z2n64sPqZFTXotfum/fL649+FmJA7R9lqIiKybx6tE329rFQAAAErO3L3v8mg0ffhTn6/bgJsvDtOOv7m0e+/N9cOgkl6LN1z234tNwc3Iv/n//sxrAcyTcR06rbEIAACwEUvLex+OZlOcO3Gzxd6M6bDpbW/ff3L9EKil1+Lfffgvi43BcSb2Zjzzgqu9FsA82WijUWMRAABgHKLJtLS89+loOB36h2/XLcHxe+zJp440GXftOa3+82Ty1+LffuiLxQbhOLLzyi8daTJ6LYD5MWijUWMRAABgs2zbtX/r0u5990TjafeH/7C75+E4xaHZMe/YY6/6W6fUf5aC/LV47a9/rLvnYalZuNHEodleC2BO9Wo0aiwCAABMWuzdtrR77+PRiHrz5X8w0uHUsQdjNC27Ta0q23btO7/+Mwwgfy22X3T9SIdTxx6M0bT0WgBzLjUaNRYBAABmxcpedVfvT42pyLuu+Wzn05+7r+fejn/6v/628/4b/kfnDZccOHyfpeV9B+01N5rSa7Hj0k92zvnAn/bc2/GNV9zRed1v3NI56+0rh6p7LQAAAACYCXHuwNgLLn6dOP1gyersfXylkbVnWTNrcw3+Wux9Z3X9iRhmD0YAAAAAYCTRdOw2IKvLehAAAAAAwPBW9oBc2dsx9oisBwMAAAAADCcajN3Dqh1KDQAAAACMyqHUAAAAAMBYOJQaAAAAABgLh1IDwHDOqXJDlU4j91R5a5UTqgAAAJsr6u4z6ktmjEOpWUCnVrm5ytNV/r7KsHv1bq0SPYX7qzT7DTHf6EUMapzzAjZBFC+3V8nfnLHyiDfo/irRZMzHPVzFoQIAACyiqI/z2njYlEQ9Psh8o0ZfrrIoXl3lriql5yIlGh47q6wnGhPRFCzNIyXmdUqVgTiUmgUQ78FSMy8y6HslposeQn7f6D98sEr0HOJ9l4/r17wf57yATZS/Ud8TA3qILQb5mza2aAAAAL3lDcQ4cqgp9rzJa+yLqzRFEytvuEX9Ps97OkYz4fEq6f+NBkKzkXdalXxniWjClhof8TzlO07EcxfN2vy7THzPyb8TRbMiGpPrcig1cypfb8V7IzXz07DIII3GeJ/l94nGZS/xPk/Txd9sGue8gE2Ur0BiK8B68unjzQsAAJRFfZ1q52h2NUXzLBpkaZr1mlv5KY6iyTav8ibBentwrvd9Jn/OLo8BfVxZJU071J5QDqVmzry2SmnHovT+iAzSaMz3MBzkcOZ8+uZ7f5zzAjZJbN1Lb7zIICuK2GqQpo+tjAAAwFrxxTbVzbFHTWkPxPxQ3kE2+sdefGn6yCD1exvljcZoJPaT763YPIQ6PyJr0O8uafrS/PpyKDULIH9/rLf+iWZlmjb2yB5EbAxI98n3AB/nvIBNlDcNI4OID8z8PvNa3AAAwEblh0PHHou9mk75HjfxRXoQ+SG+g96njfJDxeM5jKZhLg5TTnuDxmX8cE7TsEdvhbzJ2e+0UkUOpWbOpfdGZL1eQJwGIk076J6+8Z5J98n3Ah/nvIBNlL/xosgZVLpPpPSBDgAAi6q512HcLonDpPPpBt2AnzfgSudznCfxHOXNwmbi8PF+543Pz+E46KGT+eHTG94LyqHUzKn03oist87K37vr7Zmc9OpRjHNewCbKi6BBT5AaK5N0n8hAJ0kGAIAF0Dz6Z73ziOXTDtpozA8Vji/S8yyev3wPzjj8ufkLuLE3Y6+G60aeq9iLMd1npMMtHUrNHErvjch666yNvJfy5mB+HtpxzgvYZOmNF+m3NTDJDwOxVQAAAFbEORjTobyRQfagyw+dHuTHDUL+N/r96mqbNc+tWDpEPJ7v5t6OzYZjNCTSuEEPg97IfXpyKDVzJr03Ius1GuMcp2naQXsH+Q9o5XsujnNewCbLT0A9yK9I54dqDHVyZAAAmFPR9Mr3vBv0fIDD1uL5DyIMekRS2+Q/ojPIjz40f+Ayb9jme0ENeo62aGyW5jUSh1IzJ9J7I7Jeo3HYjS/NPcLzvYDHOS9gk8UbLn/DxgdfvImbYljeZLRFAAAAVuSH6A7SMEzifOfpfpF+P+4SdXvezOx17se2y/dCGvS5zJ+XvDnYPA/mensU5r9SO/bvOw6lZg7k76dBTveQHxEZ6dUgjHnlfYlSk3+c8wI2WbOJ2C/xhvVGBQCAFfmvFG/kl02bzcY4LDD2xIvhkTiKqFmrz/OvTTebBPG/92poxPOTH35eOg9bszkRr1ezyRdN2/zcj4Memjm07qHUy3sfdig1My7/UaRhUtoAEu/ffE/hfomNBr3e72Gc8wImJLb6xQdeFDcpca6TQc7fCAAAiyTfAy6+1JaODBpUNM2aP3SSJxpu83pOxpI4T2O+p2K/RPOw3/eVeF3yPSV7JRrFE/nes7S89waHUjPDohmfNnYMmkHWT9H4i/5C3m+I9/pG9vAd57wAAAAA2mvb7n07HUoNAAAAAIzModQAAAAAwNg4lBoAAAAAGAuHUgMAAAAAY+FQagAAAABgbBxKDQAAAACMhUOpAQAAAICxcCg1AAAAADA20zqUemWPSpG1qRcRAAAAANpmGodSp6bSeXvvFelGoxEAAABgDkz6UGqNRmlGoxEAAABgjkzqUGqNRmlGoxEAAABgzkziUGqNRmlGoxEAAABgDuWHUi/tvvrKpd173zNI6ruvS6NRmtFoBAAAAJhj25b3vLXUUOyV+m7r0miUZjQaAQAAABiaRqM0o9EIAAAAwNA0GqUZjUYAAAAAhqbRKM1oNAIAAAAwNI1GaUajEQAAAIChaTRKMxqNAAAAAAxNo1Ga0WgEAAAAYGiTbjRe+PGvdQ498lSnn0/c/WjxvilX3fHNzve+/1w99Vr/9NQPOpfd+kDxvpFLP/13nW8+/kw9dVnM4/0Hv168f8qjTz7bnTYu43Y8rqY0rpmYd/yNXp597ofd+ZXuu9nRaAQAAABgaJNsNF7zFw/VbbRO539/4ztrxp9/zX2da+96uHPLl761Zlzk9277Rn3vFTd+8ZHufdL4X/nI33SblNGkC2+77iur7v87f/xgd3hy59eeWDPNJZ/8284D3366nmJFDMunSUmNxmh6psZnNFFTgzIu43/O7xNNziQeZ/xP+fhIDEv/Q+j19zcrGo0AAAAADG2Sjca/fODJunXWGXpvvbxJGXsC5g3GQZI3GaOJF03J0nQpeUMwxJ6YzWlSozHEPJdv/OqaafJE4zGJZmZpmpT4//K9Ntd7vOOMRiMAAAAAQ5tkozH2HsybZ3E99kBs7lVYSt7U28ghxXmTs7mXYa/c8ZXH63us7D3ZHJ8/pn6HaqfEHpRJzC/u0y/3PfTdeupOcc/HzYpGIwAAAABDm2SjMSX2/MubeLkYXtp7Lxd7GzbHr5dcNPFK0zQTTdAkHldz/LCNxnz6YcT5JAdpxo4rGo0AAAAADG0ajcZm4jDhg19+rG6rrYhDnfNp8r37Bt0jMU+cEzIZdI/I9Q71HmWPxo38D5OKRiMAAAAAQ5uFRmNK/BBM8if3/eOqcfk5GuN8iOvt4dc8p2Lzh2DWu3/+WGKPwtI5IYdtNObnaBzkf5hWNBoBAAAAGNqkGo1xuHSI8zLGr0rnv6Qc46KxmPT6YZW8+RfiB1ViWDT5InGoc/xQTNKcR7PZGI3CuE/cN5p+MT72rIy/n8SvSOfzyDNsozES/3cu/odoQOaHg8f12IMy9oCMxxJ7Vubz2OxoNAIAAAAwtEk1GiPRyIu9A3uJplvzkOlSogmXNwNz6Qdm+v0qdeztGH+rl2ggDnJ4df6/DNpoTInHkB/OXRJN02jATnrPR41GAAAAAIY2yUajtCMajQAAAAAMTaNRmtFoBAAAAGBoGo3SjEYjAAAAAEPTaJRmNBoBAAAAGJpGozSj0QgAAADA0DQapRmNRgAAAACGptEozWg0AgAAADA0jUZpRqMRAAAAgKGlppJIM/UiAgAAAAAAAAAAAAAAAAAAAAAAAAAAAAAAAAAAAAAAAAAAAAAAAAAAAAAwY4466v8HTMUoGO54GF8AAAAASUVORK5CYII=)\n",
        "\n",
        "![image.png](data:image/png;base64,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)\n",
        "\n",
        "![image.png](data:image/png;base64,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)\n",
        "\n",
        "#### <실습3> 다음 함수의 값을 계산하는 프로그램 작성\n",
        "$$f(x) = \\left\\{\n",
        "  \\begin{array}{lr}\n",
        "    x^2-9x+2 & : x <= 0\\\\\n",
        "    7x+2 & : x > 0\\\\\n",
        "  \\end{array}\n",
        "\\right.$$"
      ],
      "metadata": {
        "id": "aqDtnhKNWoS_"
      }
    },
    {
      "cell_type": "markdown",
      "source": [
        "## **4. 반복문**"
      ],
      "metadata": {
        "id": "b_7NgSJ9Ha5V"
      }
    },
    {
      "cell_type": "markdown",
      "source": [
        "### range\n",
        "\n",
        "*   range(A)\n",
        "*   range(A,B)\n",
        "*   range(A,B,C)\n",
        "\n"
      ],
      "metadata": {
        "id": "ko6Ps05IuGV_"
      }
    },
    {
      "cell_type": "markdown",
      "source": [
        "### for 반복문\n",
        "\n",
        "*   for i in 리스트\n",
        "*   for i in range(횟수)\n",
        "\n"
      ],
      "metadata": {
        "id": "hRHdKwSeFOHm"
      }
    },
    {
      "cell_type": "markdown",
      "source": [
        "### while 반복문\n",
        "*   while <조건식> : 문장\n",
        "*   while value in <리스트>: 문장\n",
        "\n"
      ],
      "metadata": {
        "id": "KZpmVHDO3wCi"
      }
    },
    {
      "cell_type": "markdown",
      "source": [
        "### break 및 continue\n",
        " - break : 반복문을 벗어날 때 사용하는 키워드\n",
        " - continue : 반복을 skip\n",
        "\n"
      ],
      "metadata": {
        "id": "jFf15Dq27HeH"
      }
    },
    {
      "cell_type": "markdown",
      "source": [
        "### <실습>\n",
        "\n",
        "#### <실습1> 구구단 프로그램\n",
        "\n",
        "#### <실습2> 투자한 금액의 10배가 되는데 걸리는 기간(년) 구하기\n",
        "투자금 : 1000만원, 목표금액 : 1억, 연이율 : 3.5%\n",
        "\n",
        "#### <실습3> 로그인 프로그램\n"
      ],
      "metadata": {
        "id": "vwoJTB0ijhBh"
      }
    },
    {
      "cell_type": "markdown",
      "source": [
        "## **5. 함수**\n",
        "\n",
        "*   특정한 기능을 수행하는 코드의 묶음\n",
        "*   input과 output 존재\n",
        "*   output은 0개 또는 n개 가능\n",
        "*   장점 :\n",
        "     <br>(1) 코드의 중복성 제거\n",
        "     <br>(2) 코드의 재사용 가능\n",
        "     <br>(3) 복잡한 문제를 단순하게 분해 가능\n",
        "\n",
        "*   형식 : <br>**def 함수명(input) :\n",
        "       <br>&nbsp;&nbsp;&nbsp;&nbsp;&nbsp;&nbsp;&nbsp;&nbsp;&nbsp;&nbsp;....**\n",
        "       <br>**return output**\n",
        "\n",
        "\n"
      ],
      "metadata": {
        "id": "_EjyAN0-9g77"
      }
    },
    {
      "cell_type": "markdown",
      "source": [
        "### 디폴트 인수\n",
        "*   함수의 매개변수가 기본값을 가질 수 있음\n",
        "*   **순서가 정확해야 함**\n",
        "*   예> 함수명(10, 20, 30)\n",
        "\n"
      ],
      "metadata": {
        "id": "8sT_y_wMoRpv"
      }
    },
    {
      "cell_type": "markdown",
      "source": [
        "### 키워드 인수\n",
        "*  변수의 이름에 값을 직접 대입하여 전달\n",
        "*  **순서가 바뀌어도 무관**\n",
        "*  예> 함수명(x=10, y=20, z=30)"
      ],
      "metadata": {
        "id": "-hxHdJOmpDL1"
      }
    },
    {
      "cell_type": "markdown",
      "source": [
        "### 가변 인수\n",
        "*  전달하는 input의 개수를 명시하지 않는 경우(* 사용)\n",
        "*  **개수가 가변적이어도 상관없음**\n",
        "*  딕셔너리 형태로 전달도 가능 (**사용)\n",
        "*  예> 함수명(10), 함수명(10,20), 함수명(10,20,30)"
      ],
      "metadata": {
        "id": "9-s4OhNQq4l-"
      }
    },
    {
      "cell_type": "markdown",
      "source": [
        "### 지역변수, 전역변수\n",
        "* 전역변수 : 함수 외에 선언된 변수\n",
        "* 지역변수 : 함수 내에 선언된 변수\n",
        "* 함수 내 전역변수 접근 : global 변수명"
      ],
      "metadata": {
        "id": "HZ18MxBaT4SS"
      }
    },
    {
      "cell_type": "markdown",
      "source": [
        "### <실습>\n",
        "* 섭씨, 화씨 변환 프로그램을 함수를 활용하여 작성해 보세요.\n"
      ],
      "metadata": {
        "id": "lhUt4HGPSlxo"
      }
    }
  ]
}