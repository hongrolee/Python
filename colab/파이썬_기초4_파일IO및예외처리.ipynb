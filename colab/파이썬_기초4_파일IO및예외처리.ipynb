{
  "nbformat": 4,
  "nbformat_minor": 0,
  "metadata": {
    "colab": {
      "provenance": [],
      "toc_visible": true,
      "mount_file_id": "1oyDbLlF73m6hV-TaVDLE4xYsDtm45CQz",
      "authorship_tag": "ABX9TyN8Nes+jb1YVivCkiikS7wp",
      "include_colab_link": true
    },
    "kernelspec": {
      "name": "python3",
      "display_name": "Python 3"
    },
    "language_info": {
      "name": "python"
    }
  },
  "cells": [
    {
      "cell_type": "markdown",
      "metadata": {
        "id": "view-in-github",
        "colab_type": "text"
      },
      "source": [
        "<a href=\"https://colab.research.google.com/github/hongrolee/Python/blob/main/colab/%ED%8C%8C%EC%9D%B4%EC%8D%AC_%EA%B8%B0%EC%B4%884.ipynb\" target=\"_parent\"><img src=\"https://colab.research.google.com/assets/colab-badge.svg\" alt=\"Open In Colab\"/></a>"
      ]
    },
    {
      "cell_type": "markdown",
      "source": [
        "# **파일 I/O 및 예외처리**"
      ],
      "metadata": {
        "id": "S9B1KESwRx0C"
      }
    },
    {
      "cell_type": "markdown",
      "source": [
        "##**1. 파일 Input/Output**"
      ],
      "metadata": {
        "id": "ie1vnniwSGSO"
      }
    },
    {
      "cell_type": "markdown",
      "source": [
        "###(1) 파일의 개념"
      ],
      "metadata": {
        "id": "AB9DeVMVScFO"
      }
    },
    {
      "cell_type": "markdown",
      "source": [
        "###(2) 파일 모드"
      ],
      "metadata": {
        "id": "VkXt6mIlSoQU"
      }
    },
    {
      "cell_type": "markdown",
      "source": [
        "###(3) 파일 읽기"
      ],
      "metadata": {
        "id": "KHcRG4yJSyJA"
      }
    },
    {
      "cell_type": "markdown",
      "source": [
        "###(4) 파일에 쓰기"
      ],
      "metadata": {
        "id": "xtdMCv3SS5PN"
      }
    },
    {
      "cell_type": "markdown",
      "source": [
        "### (5) 파일 닫기"
      ],
      "metadata": {
        "id": "wRjRfhk3S97R"
      }
    },
    {
      "cell_type": "markdown",
      "source": [
        "###(6) CSV 파일처리"
      ],
      "metadata": {
        "id": "n5mV0Bd9TM-n"
      }
    },
    {
      "cell_type": "markdown",
      "source": [
        "###(7) 객체 처리"
      ],
      "metadata": {
        "id": "E_5ntwxuTnRJ"
      }
    },
    {
      "cell_type": "markdown",
      "source": [
        "###(8) 파일 암호화"
      ],
      "metadata": {
        "id": "21EQxwvFVKuH"
      }
    },
    {
      "cell_type": "markdown",
      "source": [
        "##**2. 예외처리**"
      ],
      "metadata": {
        "id": "CrS5h2-rVPv6"
      }
    },
    {
      "cell_type": "markdown",
      "source": [
        "###(1) 예외처리 개요"
      ],
      "metadata": {
        "id": "xiLzxSURVbrw"
      }
    },
    {
      "cell_type": "markdown",
      "source": [
        "###(2) try/except"
      ],
      "metadata": {
        "id": "2Aku0pp5VsCm"
      }
    },
    {
      "cell_type": "markdown",
      "source": [
        "###(3) try/finally"
      ],
      "metadata": {
        "id": "HVIfrnVGVxqu"
      }
    }
  ]
}
