{
  "nbformat": 4,
  "nbformat_minor": 0,
  "metadata": {
    "colab": {
      "provenance": [],
      "toc_visible": true,
      "mount_file_id": "1DvpzQXsQ8ISyiGf6h_AZdYlW8Yx09EmA",
      "authorship_tag": "ABX9TyOi2IDPHH3bgmd8LUnAsRu8",
      "include_colab_link": true
    },
    "kernelspec": {
      "name": "python3",
      "display_name": "Python 3"
    },
    "language_info": {
      "name": "python"
    }
  },
  "cells": [
    {
      "cell_type": "markdown",
      "metadata": {
        "id": "view-in-github",
        "colab_type": "text"
      },
      "source": [
        "<a href=\"https://colab.research.google.com/github/hongrolee/Python/blob/main/colab/%EB%A8%B8%EC%8B%A0%EB%9F%AC%EB%8B%9D_%EC%84%A0%ED%98%95_%EB%B0%8F_%EB%8B%A4%EC%A4%91_%ED%9A%8C%EA%B7%80_%EB%AA%A8%EB%8D%B8_%EC%8B%A4%EC%8A%B5%EC%9A%A9.ipynb\" target=\"_parent\"><img src=\"https://colab.research.google.com/assets/colab-badge.svg\" alt=\"Open In Colab\"/></a>"
      ]
    },
    {
      "cell_type": "markdown",
      "metadata": {
        "id": "cyh-cnd1WSVN"
      },
      "source": [
        "## SetUp"
      ]
    },
    {
      "cell_type": "code",
      "execution_count": null,
      "metadata": {
        "id": "Peu4chdMWSVN",
        "colab": {
          "base_uri": "https://localhost:8080/"
        },
        "outputId": "24257f91-a37d-462d-8371-f174f204bb0f"
      },
      "outputs": [
        {
          "output_type": "stream",
          "name": "stdout",
          "text": [
            "Drive already mounted at /content/drive; to attempt to forcibly remount, call drive.mount(\"/content/drive\", force_remount=True).\n"
          ]
        }
      ],
      "source": [
        "import os\n",
        "import numpy as np\n",
        "import matplotlib\n",
        "import matplotlib.pyplot as plt\n",
        "\n",
        "# 일관된 출력을 위해 유사난수 초기화\n",
        "np.random.seed(42)\n",
        "\n",
        "plt.rcParams['axes.labelsize'] = 14\n",
        "plt.rcParams['xtick.labelsize'] = 12\n",
        "plt.rcParams['ytick.labelsize'] = 12\n",
        "# sn.set()\n",
        "\n",
        "# 폰트출력\n",
        "plt.rcParams['font.family'] = 'serif'\n",
        "plt.rcParams['font.serif'] = ['Times New Roman'] + plt.rcParams['font.serif']\n",
        "\n",
        "# 구글 드라이브 연결\n",
        "from google.colab import drive\n",
        "drive.mount('/content/drive')\n",
        "\n",
        "import warnings\n",
        "warnings.filterwarnings(action='ignore')"
      ]
    },
    {
      "cell_type": "markdown",
      "metadata": {
        "id": "QNE96Hx6WSVN"
      },
      "source": []
    },
    {
      "cell_type": "markdown",
      "metadata": {
        "id": "qDypHFcKWSVJ"
      },
      "source": [
        "# 모델 훈련"
      ]
    },
    {
      "cell_type": "markdown",
      "metadata": {
        "id": "T8swLQLeWSVL"
      },
      "source": [
        "머신러닝 알고리즘이 어떻게 작동하는지 알고 있으면, 데이터 분석 목적에 맞는 적절한 모델 그리고 하이퍼파라미터를 빠르게 찾을 수 있음.\n",
        "\n",
        "가장 간단한 모델인 선형 회귀(Linear Regression)에 대해 다음과 같이 두 가지 방법을 통해 알아본다.\n",
        "\n",
        "> - 직접 계산할 수 있는 공식을 사용하여 Train Set에 가장 잘 맞는 파라미터를 구하는 방법\n",
        "- 경사하강법(Gradient Descent)를 이용하여 반복적인 최적화 방식을 사용해 파라미터를 조금씩 수정하면서 비용함수(cost function)를 Train Set에 대해 최소화시키는 파라미터를 구하는 방법"
      ]
    },
    {
      "cell_type": "markdown",
      "metadata": {
        "id": "P-zsLoctWSVN"
      },
      "source": [
        "## **1.선형 회귀(Linear Regression)**\n"
      ]
    },
    {
      "cell_type": "markdown",
      "metadata": {
        "id": "b729KUAlWSVN"
      },
      "source": [
        "선형회귀(linear regression)은 데이터 집합 $\\{ y_{i}, x_{i1}, \\dots , x_{ip} \\}_{i=1}^{n} $ 에 대해, 종속변수(label) $y_i$와 $p$개의 설명변수(feature) $x_i$ 사이의 선형 관계를 모델링한다(출처: wikipedia).\n",
        "\n",
        "$$\n",
        "y_i = w_1 x_{i1} + \\cdots + w_{p} x_{ip} + b_i = \\mathbf{x}_{i}^{T} \\mathbf{W} + b_i, \\quad i = 1, \\dots , n\n",
        "$$\n",
        "\n",
        "- $y_i$는 예측값\n",
        "- $p$는 특성(feature)의 개수\n",
        "- $x_ip$는 $p$번째 특성값\n",
        "- $w_i$는 $i$번째 파라미터"
      ]
    },
    {
      "cell_type": "markdown",
      "metadata": {
        "id": "JGyJvIwOWSVN"
      },
      "source": [
        "위의 식을 Matrix형태로 나타내면 다음과 같다.\n",
        "\n",
        "$$\n",
        "y = \\mathbf{X} \\mathbf{W}\n",
        "$$"
      ]
    },
    {
      "cell_type": "markdown",
      "metadata": {
        "id": "hZvN5eGuWSVO"
      },
      "source": [
        "MSE (Mean Squared Error)가 최소가 되는 파라미터를 찾는 것이다.\n",
        "\n",
        "위의 선형 회귀 모델을 학습시켜 Train Set에 잘 맞는 파라미터를 찾아야 한다. 이러한 파라미터를 찾은 뒤 잘 맞는지 성능을 측정하는 지표로는 평균 제곱근 오차(RMSE, Root Mean Squared Error)가 있다. RMSE는 MSE식에 루트를 씌운것이므로, 결국 MSE를 최소화하는 파라미터 $\\mathbf{W}$를 찾아야 한다. MSE 식은 다음과 같다.\n",
        "\n",
        "$$\n",
        "MSE = \\frac{1}{n} \\sum_{i=1}^{n}{\\left( \\mathbf{W}^{T} \\cdot \\mathbf{x}_{i} - y_{i}\\right)}^{2}\n",
        "$$"
      ]
    },
    {
      "cell_type": "markdown",
      "source": [
        "#### 1) 선형 회귀 모델을 이용한 예측"
      ],
      "metadata": {
        "id": "YjZGv3Nb0uq9"
      }
    },
    {
      "cell_type": "code",
      "execution_count": null,
      "metadata": {
        "id": "HhWInkOKqg6s"
      },
      "outputs": [],
      "source": [
        "import numpy as np\n",
        "\n",
        "fish_length = np.array(\n",
        "    [8.4, 13.7, 15.0, 16.2, 17.4, 18.0, 18.7, 19.0, 19.6, 20.0,\n",
        "     21.0, 21.0, 21.0, 21.3, 22.0, 22.0, 22.0, 22.0, 22.0, 22.5,\n",
        "     22.5, 22.7, 23.0, 23.5, 24.0, 24.0, 24.6, 25.0, 25.6, 26.5,\n",
        "     27.3, 27.5, 27.5, 27.5, 28.0, 28.7, 30.0, 32.8, 34.5, 35.0,\n",
        "     36.5, 36.0, 37.0, 37.0, 39.0, 39.0, 39.0, 40.0, 40.0, 40.0,\n",
        "     40.0, 42.0, 43.0, 43.0, 43.5, 44.0]\n",
        "     )\n",
        "fish_weight = np.array(\n",
        "    [5.9, 32.0, 40.0, 51.5, 70.0, 100.0, 78.0, 80.0, 85.0, 85.0,\n",
        "     110.0, 115.0, 125.0, 130.0, 120.0, 120.0, 130.0, 135.0, 110.0,\n",
        "     130.0, 150.0, 145.0, 150.0, 170.0, 225.0, 145.0, 188.0, 180.0,\n",
        "     197.0, 218.0, 300.0, 260.0, 265.0, 250.0, 250.0, 300.0, 320.0,\n",
        "     514.0, 556.0, 840.0, 685.0, 700.0, 700.0, 690.0, 900.0, 650.0,\n",
        "     820.0, 850.0, 900.0, 1015.0, 820.0, 1100.0, 1000.0, 1100.0,\n",
        "     1000.0, 1000.0]\n",
        "     )"
      ]
    },
    {
      "cell_type": "code",
      "execution_count": null,
      "metadata": {
        "id": "7UVMy686qhP9"
      },
      "outputs": [],
      "source": [
        "from sklearn.model_selection import train_test_split\n",
        "\n",
        "# 훈련 세트와 테스트 세트로 나눕니다\n",
        "\n"
      ]
    },
    {
      "cell_type": "code",
      "source": [],
      "metadata": {
        "id": "QeGKuUxStcb7"
      },
      "execution_count": null,
      "outputs": []
    },
    {
      "cell_type": "code",
      "source": [
        "# 훈련 세트와 테스트 세트를 2차원 배열로 바꿉니다(reshape(-1,1) 이용)\n"
      ],
      "metadata": {
        "id": "HYK9VAc_sGEY"
      },
      "execution_count": null,
      "outputs": []
    },
    {
      "cell_type": "code",
      "execution_count": null,
      "metadata": {
        "id": "Ypqgx5RRuOWg"
      },
      "outputs": [],
      "source": [
        "# 선형 회귀 모델을 생성하여 학습을 시킵니다.\n"
      ]
    },
    {
      "cell_type": "code",
      "execution_count": null,
      "metadata": {
        "id": "_Dh2FgXouRLU"
      },
      "outputs": [],
      "source": [
        "# 50cm 생선에 대한 예측\n"
      ]
    },
    {
      "cell_type": "code",
      "execution_count": null,
      "metadata": {
        "id": "Gy_CKIiIMxDu"
      },
      "outputs": [],
      "source": [
        "# coef_, intercept 확인\n"
      ]
    },
    {
      "cell_type": "code",
      "execution_count": null,
      "metadata": {
        "colab": {
          "base_uri": "https://localhost:8080/",
          "height": 433
        },
        "id": "VumOdzlFuV_5",
        "outputId": "7fdea401-01de-4bee-ec2c-21069091b752"
      },
      "outputs": [
        {
          "output_type": "display_data",
          "data": {
            "text/plain": [
              "<Figure size 640x480 with 1 Axes>"
            ],
            "image/png": "[encoded data removed]"
          },
          "metadata": {}
        }
      ],
      "source": [
        "# 훈련 세트의 산점도\n",
        "\n",
        "\n",
        "# 찾은 1차 선형 방정식 그래프 출력(lr.coef_*x + lr.intercept_)\n"
      ]
    },
    {
      "cell_type": "code",
      "execution_count": null,
      "metadata": {
        "id": "myWLMckTQZzr"
      },
      "outputs": [],
      "source": [
        "# 훈련데이터 및 테스트 데이터를 적용하여 2개의 성능 측정(score())\n"
      ]
    },
    {
      "cell_type": "code",
      "execution_count": null,
      "metadata": {
        "id": "HBNLWb5D2Xh8"
      },
      "outputs": [],
      "source": []
    },
    {
      "cell_type": "code",
      "execution_count": null,
      "metadata": {
        "id": "_9nDwIZg2XiF"
      },
      "outputs": [],
      "source": [
        "# MSE 출력 (mean_squared_error)\n",
        "\n",
        "\n",
        "\n"
      ]
    },
    {
      "cell_type": "markdown",
      "source": [],
      "metadata": {
        "id": "P0TfMT8ufbng"
      }
    },
    {
      "cell_type": "markdown",
      "metadata": {
        "id": "hWo_YatHWSVO"
      },
      "source": [
        "#### <실습> 아래와 같은 데이터가 있을 때 이에 대한 선형 회귀 모델을 출력해 보시오.\n",
        "* Scikit-Learn의 LinearRegression()이용\n",
        "* coef_, intercept_ 속성 이용"
      ]
    },
    {
      "cell_type": "code",
      "execution_count": null,
      "metadata": {
        "id": "l4pQQqirWSVO"
      },
      "outputs": [],
      "source": [
        "X = 2 * np.random.rand(100, 1)\n",
        "y = 4 + 3 * X + np.random.randn(100, 1)"
      ]
    },
    {
      "cell_type": "code",
      "execution_count": null,
      "metadata": {
        "id": "xiVrNcRSWSVO",
        "outputId": "adc53821-5f75-41d5-cde4-eeb5d82280cd",
        "colab": {
          "base_uri": "https://localhost:8080/",
          "height": 461
        }
      },
      "outputs": [
        {
          "output_type": "display_data",
          "data": {
            "text/plain": [
              "<Figure size 640x480 with 1 Axes>"
            ],
            "image/png": "[encoded data removed]"
          },
          "metadata": {}
        }
      ],
      "source": [
        "plt.plot(X, y, \"b.\")\n",
        "plt.xlabel(\"$x_1$\", fontsize=18)\n",
        "plt.ylabel(\"$y$\", rotation=0, fontsize=18)\n",
        "plt.axis([0, 2, 0, 15])\n",
        "plt.show()"
      ]
    },
    {
      "cell_type": "markdown",
      "metadata": {
        "id": "KGyy--xeWSVS"
      },
      "source": [
        "## **2.다항 회귀 (Polynomial Regression)**\n",
        "\n",
        "**다항 회귀**(polynomial regression)는 각 특성(feature)의 제곱을 새로운 특성으로 추가하여 선형 모델을 학습시키는 방법을 말한다. 다항 회귀의 식은 다음과 같다.\n",
        "\n",
        "$$\n",
        "y = w_0 + w_1 x_1 + w_2 x_2^{2} + \\cdots w_n x_n^{m}\n",
        "$$"
      ]
    },
    {
      "cell_type": "markdown",
      "source": [
        "#### 1)  다항 회귀 모델을 이용한 예측"
      ],
      "metadata": {
        "id": "2AUSSaWO1HQN"
      }
    },
    {
      "cell_type": "code",
      "execution_count": null,
      "metadata": {
        "id": "mImVWO1uBTbK"
      },
      "outputs": [],
      "source": [
        "import numpy as np\n",
        "\n",
        "fish_length = np.array(\n",
        "    [8.4, 13.7, 15.0, 16.2, 17.4, 18.0, 18.7, 19.0, 19.6, 20.0,\n",
        "     21.0, 21.0, 21.0, 21.3, 22.0, 22.0, 22.0, 22.0, 22.0, 22.5,\n",
        "     22.5, 22.7, 23.0, 23.5, 24.0, 24.0, 24.6, 25.0, 25.6, 26.5,\n",
        "     27.3, 27.5, 27.5, 27.5, 28.0, 28.7, 30.0, 32.8, 34.5, 35.0,\n",
        "     36.5, 36.0, 37.0, 37.0, 39.0, 39.0, 39.0, 40.0, 40.0, 40.0,\n",
        "     40.0, 42.0, 43.0, 43.0, 43.5, 44.0]\n",
        "     )\n",
        "fish_weight = np.array(\n",
        "    [5.9, 32.0, 40.0, 51.5, 70.0, 100.0, 78.0, 80.0, 85.0, 85.0,\n",
        "     110.0, 115.0, 125.0, 130.0, 120.0, 120.0, 130.0, 135.0, 110.0,\n",
        "     130.0, 150.0, 145.0, 150.0, 170.0, 225.0, 145.0, 188.0, 180.0,\n",
        "     197.0, 218.0, 300.0, 260.0, 265.0, 250.0, 250.0, 300.0, 320.0,\n",
        "     514.0, 556.0, 840.0, 685.0, 700.0, 700.0, 690.0, 900.0, 650.0,\n",
        "     820.0, 850.0, 900.0, 1015.0, 820.0, 1100.0, 1000.0, 1100.0,\n",
        "     1000.0, 1000.0]\n",
        "     )"
      ]
    },
    {
      "cell_type": "code",
      "execution_count": null,
      "metadata": {
        "id": "FYmo8sn3Bd1E"
      },
      "outputs": [],
      "source": [
        "from sklearn.model_selection import train_test_split\n",
        "\n",
        "# 훈련 세트와 테스트 세트로 나눕니다\n",
        "\n",
        "\n"
      ]
    },
    {
      "cell_type": "code",
      "execution_count": null,
      "metadata": {
        "id": "wcdsYFxB2q82"
      },
      "outputs": [],
      "source": [
        "# 방법 1) numpy의 column_stack을 이용하는 방법\n",
        "\n"
      ]
    },
    {
      "cell_type": "code",
      "execution_count": null,
      "metadata": {
        "id": "CgRNw39cF_66"
      },
      "outputs": [],
      "source": [
        "# 방법 2) scikit-learn의 PolynomialFeature를 이용하는 방법\n",
        "\n",
        "\n",
        "\n",
        "\n"
      ]
    },
    {
      "cell_type": "code",
      "execution_count": null,
      "metadata": {
        "id": "JJ6tf1F96EzF"
      },
      "outputs": [],
      "source": [
        "# train_poly와 test_poly 데이터의 shape 확인\n"
      ]
    },
    {
      "cell_type": "code",
      "source": [
        "# 제곱이 되었는지 값도 확인\n"
      ],
      "metadata": {
        "id": "YosjviteCJsc"
      },
      "execution_count": null,
      "outputs": []
    },
    {
      "cell_type": "code",
      "execution_count": null,
      "metadata": {
        "id": "LTlN32tML4Kf"
      },
      "outputs": [],
      "source": [
        "# LinearRegression를 이용하여 훈련\n",
        "from sklearn.linear_model import LinearRegression\n",
        "\n",
        "\n"
      ]
    },
    {
      "cell_type": "code",
      "source": [
        "# 훈련데이터의 범위를 벗어나는 [[50, 50**2]]을 넣어 무게 예측(predict() 이용)\n"
      ],
      "metadata": {
        "id": "OYJQQ46uiTHj"
      },
      "execution_count": null,
      "outputs": []
    },
    {
      "cell_type": "code",
      "execution_count": null,
      "metadata": {
        "id": "k_fGreBgNCAc"
      },
      "outputs": [],
      "source": [
        "# lr.coef_, lr.intercept_ 를 이용하여 모델의 파라미터 확인\n"
      ]
    },
    {
      "cell_type": "code",
      "execution_count": null,
      "metadata": {
        "colab": {
          "base_uri": "https://localhost:8080/",
          "height": 430
        },
        "id": "c91qVYoPLz1H",
        "outputId": "8137485b-de8a-4069-c4ab-372ef148290d"
      },
      "outputs": [
        {
          "output_type": "display_data",
          "data": {
            "text/plain": [
              "<Figure size 640x480 with 1 Axes>"
            ],
            "image/png": "[encoded data removed]"
          },
          "metadata": {}
        }
      ],
      "source": [
        "# 그래프 출력\n",
        "import matplotlib.pyplot as plt\n",
        "\n",
        "# 구간별 직선을 그리기 위해 15에서 50까지 정수 배열을 만듭니다\n",
        "\n",
        "\n",
        "# 훈련 세트의 산점도를 그립니다\n",
        "\n",
        "\n",
        "# 15에서 49까지 2차 방정식 그래프를 그립니다\n",
        "\n",
        "\n",
        "# 50cm 생선 데이터도 마커로 출력\n",
        "\n"
      ]
    },
    {
      "cell_type": "code",
      "execution_count": null,
      "metadata": {
        "id": "oCGTrZezL3E4"
      },
      "outputs": [],
      "source": [
        "# score를 활용하여 train set과 test set의 성능 각각 평가\n"
      ]
    },
    {
      "cell_type": "markdown",
      "metadata": {
        "id": "0vb4TumkWSVS"
      },
      "source": []
    },
    {
      "cell_type": "markdown",
      "source": [
        "#### <실습> 다음 데이터를 이용하여 다항 회귀 모델을 생성해 보세요."
      ],
      "metadata": {
        "id": "TtC4neQoj4hB"
      }
    },
    {
      "cell_type": "markdown",
      "metadata": {
        "id": "F28NKXflWSVS"
      },
      "source": [
        "$$\n",
        "y = 0.5 x^2 + x + 2 + \\epsilon\n",
        "$$"
      ]
    },
    {
      "cell_type": "code",
      "execution_count": 1,
      "metadata": {
        "id": "-5617VqLWSVS"
      },
      "outputs": [],
      "source": [
        "import numpy as np\n",
        "m = 100\n",
        "np.random.seed(42)\n",
        "X = 6 * np.random.rand(m, 1) - 3\n",
        "y = 0.5 * X**2 + X + 2 + np.random.randn(m, 1)"
      ]
    },
    {
      "cell_type": "code",
      "execution_count": 4,
      "metadata": {
        "id": "2k5Qrl46WSVT",
        "outputId": "b7f389e0-1d86-4ef9-f5d3-badd03c859f4",
        "colab": {
          "base_uri": "https://localhost:8080/",
          "height": 465
        }
      },
      "outputs": [
        {
          "output_type": "display_data",
          "data": {
            "text/plain": [
              "<Figure size 640x480 with 1 Axes>"
            ],
            "image/png": "[encoded data removed]"
          },
          "metadata": {}
        }
      ],
      "source": [
        "import matplotlib.pyplot as plt\n",
        "\n",
        "plt.plot(X, y, \"b.\")\n",
        "plt.xlabel(\"$x_1$\", fontsize=18)\n",
        "plt.ylabel(\"$y$\", rotation=0, fontsize=18)\n",
        "plt.axis([-3, 3, 0, 10])\n",
        "plt.show()"
      ]
    },
    {
      "cell_type": "code",
      "execution_count": 5,
      "metadata": {
        "id": "3I0b1roPWSVT",
        "outputId": "b9e56164-1dc3-4541-cee8-0181682bf3d1",
        "colab": {
          "base_uri": "https://localhost:8080/"
        }
      },
      "outputs": [
        {
          "output_type": "stream",
          "name": "stdout",
          "text": [
            "X[0] : [-0.75275929]\n",
            "X_poly[0] : [-0.75275929  0.56664654 -0.42654845]\n"
          ]
        }
      ],
      "source": [
        "# Scikit-Learn의 PolynomialFeatures를 이용해 데이터의 특성(feature, 여기서  X )을 제곱\n",
        "\n",
        "\n",
        "\n"
      ]
    },
    {
      "cell_type": "code",
      "execution_count": 6,
      "metadata": {
        "id": "reDmXxvYWSVT",
        "outputId": "8c925474-e67b-44bc-8fe4-01d84a378ad1",
        "colab": {
          "base_uri": "https://localhost:8080/",
          "height": 74
        }
      },
      "outputs": [
        {
          "output_type": "execute_result",
          "data": {
            "text/plain": [
              "LinearRegression()"
            ],
            "text/html": [
              "<style>#sk-container-id-1 {color: black;background-color: white;}#sk-container-id-1 pre{padding: 0;}#sk-container-id-1 div.sk-toggleable {background-color: white;}#sk-container-id-1 label.sk-toggleable__label {cursor: pointer;display: block;width: 100%;margin-bottom: 0;padding: 0.3em;box-sizing: border-box;text-align: center;}#sk-container-id-1 label.sk-toggleable__label-arrow:before {content: \"▸\";float: left;margin-right: 0.25em;color: #696969;}#sk-container-id-1 label.sk-toggleable__label-arrow:hover:before {color: black;}#sk-container-id-1 div.sk-estimator:hover label.sk-toggleable__label-arrow:before {color: black;}#sk-container-id-1 div.sk-toggleable__content {max-height: 0;max-width: 0;overflow: hidden;text-align: left;background-color: #f0f8ff;}#sk-container-id-1 div.sk-toggleable__content pre {margin: 0.2em;color: black;border-radius: 0.25em;background-color: #f0f8ff;}#sk-container-id-1 input.sk-toggleable__control:checked~div.sk-toggleable__content {max-height: 200px;max-width: 100%;overflow: auto;}#sk-container-id-1 input.sk-toggleable__control:checked~label.sk-toggleable__label-arrow:before {content: \"▾\";}#sk-container-id-1 div.sk-estimator input.sk-toggleable__control:checked~label.sk-toggleable__label {background-color: #d4ebff;}#sk-container-id-1 div.sk-label input.sk-toggleable__control:checked~label.sk-toggleable__label {background-color: #d4ebff;}#sk-container-id-1 input.sk-hidden--visually {border: 0;clip: rect(1px 1px 1px 1px);clip: rect(1px, 1px, 1px, 1px);height: 1px;margin: -1px;overflow: hidden;padding: 0;position: absolute;width: 1px;}#sk-container-id-1 div.sk-estimator {font-family: monospace;background-color: #f0f8ff;border: 1px dotted black;border-radius: 0.25em;box-sizing: border-box;margin-bottom: 0.5em;}#sk-container-id-1 div.sk-estimator:hover {background-color: #d4ebff;}#sk-container-id-1 div.sk-parallel-item::after {content: \"\";width: 100%;border-bottom: 1px solid gray;flex-grow: 1;}#sk-container-id-1 div.sk-label:hover label.sk-toggleable__label {background-color: #d4ebff;}#sk-container-id-1 div.sk-serial::before {content: \"\";position: absolute;border-left: 1px solid gray;box-sizing: border-box;top: 0;bottom: 0;left: 50%;z-index: 0;}#sk-container-id-1 div.sk-serial {display: flex;flex-direction: column;align-items: center;background-color: white;padding-right: 0.2em;padding-left: 0.2em;position: relative;}#sk-container-id-1 div.sk-item {position: relative;z-index: 1;}#sk-container-id-1 div.sk-parallel {display: flex;align-items: stretch;justify-content: center;background-color: white;position: relative;}#sk-container-id-1 div.sk-item::before, #sk-container-id-1 div.sk-parallel-item::before {content: \"\";position: absolute;border-left: 1px solid gray;box-sizing: border-box;top: 0;bottom: 0;left: 50%;z-index: -1;}#sk-container-id-1 div.sk-parallel-item {display: flex;flex-direction: column;z-index: 1;position: relative;background-color: white;}#sk-container-id-1 div.sk-parallel-item:first-child::after {align-self: flex-end;width: 50%;}#sk-container-id-1 div.sk-parallel-item:last-child::after {align-self: flex-start;width: 50%;}#sk-container-id-1 div.sk-parallel-item:only-child::after {width: 0;}#sk-container-id-1 div.sk-dashed-wrapped {border: 1px dashed gray;margin: 0 0.4em 0.5em 0.4em;box-sizing: border-box;padding-bottom: 0.4em;background-color: white;}#sk-container-id-1 div.sk-label label {font-family: monospace;font-weight: bold;display: inline-block;line-height: 1.2em;}#sk-container-id-1 div.sk-label-container {text-align: center;}#sk-container-id-1 div.sk-container {/* jupyter's `normalize.less` sets `[hidden] { display: none; }` but bootstrap.min.css set `[hidden] { display: none !important; }` so we also need the `!important` here to be able to override the default hidden behavior on the sphinx rendered scikit-learn.org. See: https://github.com/scikit-learn/scikit-learn/issues/21755 */display: inline-block !important;position: relative;}#sk-container-id-1 div.sk-text-repr-fallback {display: none;}</style><div id=\"sk-container-id-1\" class=\"sk-top-container\"><div class=\"sk-text-repr-fallback\"><pre>LinearRegression()</pre><b>In a Jupyter environment, please rerun this cell to show the HTML representation or trust the notebook. <br />On GitHub, the HTML representation is unable to render, please try loading this page with nbviewer.org.</b></div><div class=\"sk-container\" hidden><div class=\"sk-item\"><div class=\"sk-estimator sk-toggleable\"><input class=\"sk-toggleable__control sk-hidden--visually\" id=\"sk-estimator-id-1\" type=\"checkbox\" checked><label for=\"sk-estimator-id-1\" class=\"sk-toggleable__label sk-toggleable__label-arrow\">LinearRegression</label><div class=\"sk-toggleable__content\"><pre>LinearRegression()</pre></div></div></div></div></div>"
            ]
          },
          "metadata": {},
          "execution_count": 6
        }
      ],
      "source": [
        "# 위에서 추가한 특성을 이용해 LinearRegression을 이용해 모델을 적합\n",
        "\n",
        "\n",
        "\n"
      ]
    },
    {
      "cell_type": "code",
      "execution_count": 7,
      "metadata": {
        "id": "bbWjVhJvWSVT",
        "outputId": "1fad2745-30e9-4899-ff9b-86177d4c71b0",
        "colab": {
          "base_uri": "https://localhost:8080/"
        }
      },
      "outputs": [
        {
          "output_type": "execute_result",
          "data": {
            "text/plain": [
              "(array([[ 1.02570217,  0.56304305, -0.01702965]]), array([1.78437842]))"
            ]
          },
          "metadata": {},
          "execution_count": 7
        }
      ],
      "source": [
        "# coef_, intercept_ 를 이용하여 파라미터 확인\n"
      ]
    },
    {
      "cell_type": "markdown",
      "metadata": {
        "id": "XnCy7tmvWSVT"
      },
      "source": [
        "예측된 모델은 다음과 같다.\n",
        "\n",
        "$$\n",
        "y = 0.56 x^2 + 0.93 x + 1.781\n",
        "$$"
      ]
    },
    {
      "cell_type": "code",
      "execution_count": null,
      "metadata": {
        "id": "kHHIRYrMWSVT",
        "outputId": "8b8697d6-f161-4e22-acb2-8573c5f5ec5c",
        "colab": {
          "base_uri": "https://localhost:8080/",
          "height": 465
        }
      },
      "outputs": [
        {
          "output_type": "display_data",
          "data": {
            "text/plain": [
              "<Figure size 640x480 with 1 Axes>"
            ],
            "image/png": "[encoded data removed]"
          },
          "metadata": {}
        }
      ],
      "source": [
        "# 그래프 출력\n",
        "\n",
        "\n",
        "\n",
        "\n"
      ]
    },
    {
      "cell_type": "markdown",
      "metadata": {
        "id": "LqMPMYiZWSVU"
      },
      "source": []
    },
    {
      "cell_type": "markdown",
      "source": [
        "## 3.과대적합, 과소적합, 규제 이해"
      ],
      "metadata": {
        "id": "Q3OiiAsL8B9J"
      }
    },
    {
      "cell_type": "code",
      "execution_count": null,
      "metadata": {
        "id": "8qmTS1RzKRKT"
      },
      "outputs": [],
      "source": [
        "# 데이터 읽어오기 (fish_full.csv, to_numpy()로 변경)\n",
        "import pandas as pd\n",
        "\n"
      ]
    },
    {
      "cell_type": "code",
      "source": [
        "import numpy as np\n",
        "\n",
        "fish_weight = np.array(\n",
        "    [5.9, 32.0, 40.0, 51.5, 70.0, 100.0, 78.0, 80.0, 85.0, 85.0,\n",
        "     110.0, 115.0, 125.0, 130.0, 120.0, 120.0, 130.0, 135.0, 110.0,\n",
        "     130.0, 150.0, 145.0, 150.0, 170.0, 225.0, 145.0, 188.0, 180.0,\n",
        "     197.0, 218.0, 300.0, 260.0, 265.0, 250.0, 250.0, 300.0, 320.0,\n",
        "     514.0, 556.0, 840.0, 685.0, 700.0, 700.0, 690.0, 900.0, 650.0,\n",
        "     820.0, 850.0, 900.0, 1015.0, 820.0, 1100.0, 1000.0, 1100.0,\n",
        "     1000.0, 1000.0]\n",
        "     )"
      ],
      "metadata": {
        "id": "3lZwUCkWBID_"
      },
      "execution_count": null,
      "outputs": []
    },
    {
      "cell_type": "code",
      "execution_count": null,
      "metadata": {
        "id": "cRKkoWoZ9J0m"
      },
      "outputs": [],
      "source": [
        "# 훈련 및 테스트 세트 분리\n",
        "\n",
        "\n"
      ]
    },
    {
      "cell_type": "code",
      "execution_count": null,
      "metadata": {
        "id": "__kE6eJdNZfm"
      },
      "outputs": [],
      "source": [
        "# PolynomialFeatures로 9개의 특성 생성\n",
        "\n",
        "\n",
        "\n"
      ]
    },
    {
      "cell_type": "code",
      "execution_count": null,
      "metadata": {
        "id": "2a_lmkKle4kF"
      },
      "outputs": [],
      "source": [
        "# shape 출력하여 크기 확인\n"
      ]
    },
    {
      "cell_type": "code",
      "execution_count": null,
      "metadata": {
        "id": "X6GUwfXTfKbl"
      },
      "outputs": [],
      "source": [
        "# 생성된 다항 특성들 확인 (get_feature_names_out())\n",
        "\n"
      ]
    },
    {
      "cell_type": "code",
      "execution_count": null,
      "metadata": {
        "id": "DJMPxe2mgbOo"
      },
      "outputs": [],
      "source": [
        "# test 데이터 변환(transform())\n",
        "\n"
      ]
    },
    {
      "cell_type": "code",
      "execution_count": null,
      "metadata": {
        "id": "E9ygy-8WOvIP"
      },
      "outputs": [],
      "source": [
        "# 다중 회귀 모델로 훈련\n",
        "\n",
        "\n",
        "\n"
      ]
    },
    {
      "cell_type": "code",
      "execution_count": null,
      "metadata": {
        "id": "hCC7wKy3QQrE"
      },
      "outputs": [],
      "source": [
        "# 규제 적용\n"
      ]
    },
    {
      "cell_type": "code",
      "execution_count": null,
      "metadata": {
        "id": "LdNuDNQGQipv"
      },
      "outputs": [],
      "source": [
        "# 릿지 회귀 적용\n"
      ]
    },
    {
      "cell_type": "code",
      "execution_count": null,
      "metadata": {
        "id": "Ymu-jmekh0IK"
      },
      "outputs": [],
      "source": [
        "# 라쏘 회귀 적용\n"
      ]
    }
  ]
}