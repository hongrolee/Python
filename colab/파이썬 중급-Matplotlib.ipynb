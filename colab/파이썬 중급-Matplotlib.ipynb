{
  "nbformat": 4,
  "nbformat_minor": 0,
  "metadata": {
    "colab": {
      "provenance": [],
      "toc_visible": true,
      "authorship_tag": "ABX9TyMaxfpH9ROBzC4HcMI/n38L",
      "include_colab_link": true
    },
    "kernelspec": {
      "name": "python3",
      "display_name": "Python 3"
    },
    "language_info": {
      "name": "python"
    }
  },
  "cells": [
    {
      "cell_type": "markdown",
      "metadata": {
        "id": "view-in-github",
        "colab_type": "text"
      },
      "source": [
        "<a href=\"https://colab.research.google.com/github/hongrolee/Python-Basic/blob/main/colab/%ED%8C%8C%EC%9D%B4%EC%8D%AC%20%EC%A4%91%EA%B8%89-Matplotlib.ipynb\" target=\"_parent\"><img src=\"https://colab.research.google.com/assets/colab-badge.svg\" alt=\"Open In Colab\"/></a>"
      ]
    },
    {
      "cell_type": "markdown",
      "source": [
        "# matplotlib 개념\n",
        "* 그래프나 차트를 생성할 때 사용하는 라이브러리\n",
        "*‘데이터 시각화’를 위한 라이브러리\n",
        "* 넘파이나 판다스에서 처리된 결과를 시각적으로 표현할 때 추가로 사용하는 라이브러리 \n",
        "* 막대 그래프, 선 그래프, 원 그래프, 히스토그램, 산점도 등 통계 그래프 및 지도를 그릴 때 편리"
      ],
      "metadata": {
        "id": "ox9z_Woc523o"
      }
    },
    {
      "cell_type": "markdown",
      "source": [
        "# 기본 사용법"
      ],
      "metadata": {
        "id": "ouLKlp466PPE"
      }
    },
    {
      "cell_type": "markdown",
      "source": [
        "## 라이브러리 설치"
      ],
      "metadata": {
        "id": "2c_KgyVl6apC"
      }
    },
    {
      "cell_type": "code",
      "source": [
        "!pip install matplotlib"
      ],
      "metadata": {
        "id": "gvKP6cA06e7K"
      },
      "execution_count": null,
      "outputs": []
    },
    {
      "cell_type": "markdown",
      "source": [],
      "metadata": {
        "id": "DzVisT5k6eDd"
      }
    }
  ]
}