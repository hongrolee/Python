{
  "nbformat": 4,
  "nbformat_minor": 0,
  "metadata": {
    "colab": {
      "provenance": [],
      "toc_visible": true,
      "mount_file_id": "1oyDbLlF73m6hV-TaVDLE4xYsDtm45CQz",
      "authorship_tag": "ABX9TyOaCVrF7bKVV+gFoUljnVTw",
      "include_colab_link": true
    },
    "kernelspec": {
      "name": "python3",
      "display_name": "Python 3"
    },
    "language_info": {
      "name": "python"
    }
  },
  "cells": [
    {
      "cell_type": "markdown",
      "metadata": {
        "id": "view-in-github",
        "colab_type": "text"
      },
      "source": [
        "<a href=\"https://colab.research.google.com/github/hongrolee/Python-Basic/blob/main/colab/%ED%8C%8C%EC%9D%B4%EC%8D%AC_%EA%B8%B0%EC%B4%88.ipynb\" target=\"_parent\"><img src=\"https://colab.research.google.com/assets/colab-badge.svg\" alt=\"Open In Colab\"/></a>"
      ]
    },
    {
      "cell_type": "markdown",
      "source": [
        "# 파이썬 기초"
      ],
      "metadata": {
        "id": "gGReaEsd9Jp4"
      }
    },
    {
      "cell_type": "markdown",
      "source": [
        "## 파이썬 개요"
      ],
      "metadata": {
        "id": "JwanIx1z9YfA"
      }
    },
    {
      "cell_type": "markdown",
      "source": [
        "### 파이썬의 장점\n",
        "\n",
        "\n",
        "*   비전공자도 쉽게 배울 수 있음\n",
        "*   다양한 분야에서 활용 가능\n",
        "*   대분의 운영체제에서 호환\n",
        "*   다양한 라이브러리 활용 가능 (데이터분석, 머신러닝, 인공지능 등)"
      ],
      "metadata": {
        "id": "e83MqHmu9gNO"
      }
    },
    {
      "cell_type": "markdown",
      "source": [
        "### 파이썬의 단점\n",
        "\n",
        "\n",
        "*   C언에 비해 느림 (10배~350배)\n",
        "\n"
      ],
      "metadata": {
        "id": "lJlhVXZI9744"
      }
    },
    {
      "cell_type": "markdown",
      "source": [
        "## 기본 문법"
      ],
      "metadata": {
        "id": "3nH9xhoA_GBJ"
      }
    },
    {
      "cell_type": "markdown",
      "source": [
        "### 주석 (#)"
      ],
      "metadata": {
        "id": "-pKCMZdbARHY"
      }
    },
    {
      "cell_type": "code",
      "source": [
        "print(\"반갑습니다.\")"
      ],
      "metadata": {
        "colab": {
          "base_uri": "https://localhost:8080/"
        },
        "id": "OEEO80Oi9eb1",
        "outputId": "083b5384-0751-4b47-8f09-60900135a02f"
      },
      "execution_count": null,
      "outputs": [
        {
          "output_type": "stream",
          "name": "stdout",
          "text": [
            "반갑습니다.\n"
          ]
        }
      ]
    },
    {
      "cell_type": "markdown",
      "source": [
        "### 기본 자료형\n",
        "\n",
        "*   int : 정수형\n",
        "*   float : 실수형\n",
        "*   str : 문자열\n",
        "*   boolean : True 또는 False\n",
        "*   type()"
      ],
      "metadata": {
        "id": "PIFuB_KgBmfg"
      }
    },
    {
      "cell_type": "code",
      "source": [],
      "metadata": {
        "id": "eKFhITNhDGRT"
      },
      "execution_count": null,
      "outputs": []
    },
    {
      "cell_type": "markdown",
      "source": [
        "### 출력\n",
        "*   print(값)\n",
        "*   print(\"OOO{},{}OOO\".format(값))\n",
        "\n"
      ],
      "metadata": {
        "id": "kAds-3ah6f7m"
      }
    },
    {
      "cell_type": "code",
      "source": [],
      "metadata": {
        "id": "6u6vPAhO6nkT"
      },
      "execution_count": null,
      "outputs": []
    },
    {
      "cell_type": "markdown",
      "source": [
        "### 연산자\n",
        "\n",
        "*   사칙연산 : +, -, *, /\n",
        "*   나머지 연산자 : %\n",
        "*   제곱 연산자 : **\n",
        "*   복합 대입 연산자 : +=, -=, *=, /=, %=, ***=\n",
        "*   우선순위 : 곱셈, 나눗셈 > 덧셈, 뺄셈 ( ( )가 있으면 최우선)\n",
        "*   비교 연산자 : ==, !=, <, >, <=, >=\n",
        "*   논리 연산자 : and, or, not\n"
      ],
      "metadata": {
        "id": "X7v63X1rAmSQ"
      }
    },
    {
      "cell_type": "code",
      "source": [],
      "metadata": {
        "id": "0b8DluD7PycI"
      },
      "execution_count": null,
      "outputs": []
    },
    {
      "cell_type": "markdown",
      "source": [
        "### 문자열\n",
        "\n",
        "*   형식 : \"2023년 AI중급과정\", '2023년 AI중급과정'\n",
        "*   이스케이프 문자 : \\\\\", \\\\', \\\\n, \\\\t, \\\\\\\n",
        "*   문자열 연산자 : +, *, in\n",
        "*   인덱싱 및 슬라이싱 : [ ], [:], [-]\n",
        "\n",
        "\n"
      ],
      "metadata": {
        "id": "TYkiqTcxDHhb"
      }
    },
    {
      "cell_type": "code",
      "source": [],
      "metadata": {
        "id": "jB0vGlx-DMy5"
      },
      "execution_count": null,
      "outputs": []
    },
    {
      "cell_type": "markdown",
      "source": [
        "### 문자열 함수\n",
        "\n",
        "*   len() : 문자열 길이 측정\n",
        "*   format(), upper(), lower(), strip() : 문자 형태 변경\n",
        "*   isalnum() : 알파벳 또는 숫자 포함 여부\n",
        "*   isalpha() : 알파벳 포함 여부\n",
        "*   isidentifier() : 식별자 사용가능 여부\n",
        "*   isdecimal() : 정수 여부\n",
        "*   isdigit() : 숫자 인식 여부\n",
        "*   isspace() : 공백으로만 구성 여부\n",
        "*   islower() : 소문자만으로 구성 여부\n",
        "*   isupper() : 대문자만으로 구성 여부\n",
        "*   find()    : 특정 문자열의 왼쪽 부터의 인덱스\n",
        "*   rfind()   : 특정 문자열의 오른쪽 부터의 인덱스\n",
        "*   split()   : 특정 문자로 자름"
      ],
      "metadata": {
        "id": "mE2fx4mdMPpF"
      }
    },
    {
      "cell_type": "code",
      "source": [],
      "metadata": {
        "id": "29OQWJPSAW5C"
      },
      "execution_count": null,
      "outputs": []
    },
    {
      "cell_type": "markdown",
      "source": [
        "### 사용자 입력\n",
        "\n",
        "*   input()"
      ],
      "metadata": {
        "id": "JVikariOHb5j"
      }
    },
    {
      "cell_type": "code",
      "source": [],
      "metadata": {
        "id": "WQhKZ844HlUN"
      },
      "execution_count": null,
      "outputs": []
    },
    {
      "cell_type": "markdown",
      "source": [
        "### 형 변환 (cast)\n",
        "\n",
        "*   int()\n",
        "*   float()\n",
        "*   str()\n",
        "\n"
      ],
      "metadata": {
        "id": "tMmhWY7LIa1f"
      }
    },
    {
      "cell_type": "code",
      "source": [],
      "metadata": {
        "id": "UjUAllUxJHyq"
      },
      "execution_count": null,
      "outputs": []
    },
    {
      "cell_type": "markdown",
      "source": [
        "### 날짜 및 시간\n",
        "- import datetime\n",
        "*   datetime.datetime.now()\n",
        "*   year, month, day, hour, minute, second\n",
        "\n"
      ],
      "metadata": {
        "id": "NzqkGm_fSEGM"
      }
    },
    {
      "cell_type": "code",
      "source": [],
      "metadata": {
        "id": "I9U90_cQGlzT"
      },
      "execution_count": null,
      "outputs": []
    },
    {
      "cell_type": "markdown",
      "source": [
        "## 조건문"
      ],
      "metadata": {
        "id": "3Vc6GYa1Raeu"
      }
    },
    {
      "cell_type": "markdown",
      "source": [
        "### if, if-else, if-elif-else"
      ],
      "metadata": {
        "id": "6WRooyj9R7MG"
      }
    },
    {
      "cell_type": "code",
      "source": [],
      "metadata": {
        "id": "3YtwdfESR-rR"
      },
      "execution_count": null,
      "outputs": []
    },
    {
      "cell_type": "markdown",
      "source": [
        "### if-in"
      ],
      "metadata": {
        "id": "2IAIsFmWS9yI"
      }
    },
    {
      "cell_type": "code",
      "source": [],
      "metadata": {
        "id": "Dts4ORliT2EY"
      },
      "execution_count": null,
      "outputs": []
    },
    {
      "cell_type": "markdown",
      "source": [
        "### pass"
      ],
      "metadata": {
        "id": "xC13BiszSBYQ"
      }
    },
    {
      "cell_type": "code",
      "source": [],
      "metadata": {
        "id": "oRWx_gXEUJ4L"
      },
      "execution_count": null,
      "outputs": []
    },
    {
      "cell_type": "markdown",
      "source": [
        "## 반복문"
      ],
      "metadata": {
        "id": "b_7NgSJ9Ha5V"
      }
    },
    {
      "cell_type": "markdown",
      "source": [
        "### range\n",
        "\n",
        "*   range(A)\n",
        "*   range(A,B)\n",
        "*   range(A,B,C)\n",
        "\n"
      ],
      "metadata": {
        "id": "ko6Ps05IuGV_"
      }
    },
    {
      "cell_type": "code",
      "source": [
        "a = list(range(10))\n",
        "b = list(range(5,10))\n",
        "c = list(range(0,10,2))\n",
        "print(a)\n",
        "print(b)\n",
        "print(c)"
      ],
      "metadata": {
        "colab": {
          "base_uri": "https://localhost:8080/"
        },
        "id": "xLuHF_btyh7T",
        "outputId": "7292a88b-1aa7-4231-dac1-9ec164ca7398"
      },
      "execution_count": null,
      "outputs": [
        {
          "output_type": "stream",
          "name": "stdout",
          "text": [
            "[0, 1, 2, 3, 4, 5, 6, 7, 8, 9]\n",
            "[5, 6, 7, 8, 9]\n",
            "[0, 2, 4, 6, 8]\n"
          ]
        }
      ]
    },
    {
      "cell_type": "markdown",
      "source": [
        "### for 반복문\n",
        "\n",
        "*   for i in 리스트\n",
        "*   for i in range(횟수)\n",
        "\n"
      ],
      "metadata": {
        "id": "hRHdKwSeFOHm"
      }
    },
    {
      "cell_type": "code",
      "source": [
        "list = [2,5,6,7,8]\n",
        "for value in list:\n",
        "  print(value)"
      ],
      "metadata": {
        "id": "3eeve4A7HEWJ",
        "colab": {
          "base_uri": "https://localhost:8080/"
        },
        "outputId": "386b0e0a-7d4a-4da0-8c14-6e9996d22821"
      },
      "execution_count": null,
      "outputs": [
        {
          "output_type": "stream",
          "name": "stdout",
          "text": [
            "2\n",
            "5\n",
            "6\n",
            "7\n",
            "8\n"
          ]
        }
      ]
    },
    {
      "cell_type": "code",
      "source": [
        "for i in range(8):\n",
        "  print()\n",
        "  for j in range(9) :\n",
        "    print(str(i+2)+\"x\"+str(j+1)+\"=\"+str((i+2)*(j+1)))"
      ],
      "metadata": {
        "colab": {
          "base_uri": "https://localhost:8080/"
        },
        "id": "za0WWDbDrjTI",
        "outputId": "f0d64edd-5b93-4ca1-88dd-0526af8f4e13"
      },
      "execution_count": null,
      "outputs": [
        {
          "output_type": "stream",
          "name": "stdout",
          "text": [
            "\n",
            "2x1=2\n",
            "2x2=4\n",
            "2x3=6\n",
            "2x4=8\n",
            "2x5=10\n",
            "2x6=12\n",
            "2x7=14\n",
            "2x8=16\n",
            "2x9=18\n",
            "\n",
            "3x1=3\n",
            "3x2=6\n",
            "3x3=9\n",
            "3x4=12\n",
            "3x5=15\n",
            "3x6=18\n",
            "3x7=21\n",
            "3x8=24\n",
            "3x9=27\n",
            "\n",
            "4x1=4\n",
            "4x2=8\n",
            "4x3=12\n",
            "4x4=16\n",
            "4x5=20\n",
            "4x6=24\n",
            "4x7=28\n",
            "4x8=32\n",
            "4x9=36\n",
            "\n",
            "5x1=5\n",
            "5x2=10\n",
            "5x3=15\n",
            "5x4=20\n",
            "5x5=25\n",
            "5x6=30\n",
            "5x7=35\n",
            "5x8=40\n",
            "5x9=45\n",
            "\n",
            "6x1=6\n",
            "6x2=12\n",
            "6x3=18\n",
            "6x4=24\n",
            "6x5=30\n",
            "6x6=36\n",
            "6x7=42\n",
            "6x8=48\n",
            "6x9=54\n",
            "\n",
            "7x1=7\n",
            "7x2=14\n",
            "7x3=21\n",
            "7x4=28\n",
            "7x5=35\n",
            "7x6=42\n",
            "7x7=49\n",
            "7x8=56\n",
            "7x9=63\n",
            "\n",
            "8x1=8\n",
            "8x2=16\n",
            "8x3=24\n",
            "8x4=32\n",
            "8x5=40\n",
            "8x6=48\n",
            "8x7=56\n",
            "8x8=64\n",
            "8x9=72\n",
            "\n",
            "9x1=9\n",
            "9x2=18\n",
            "9x3=27\n",
            "9x4=36\n",
            "9x5=45\n",
            "9x6=54\n",
            "9x7=63\n",
            "9x8=72\n",
            "9x9=81\n"
          ]
        }
      ]
    },
    {
      "cell_type": "markdown",
      "source": [
        "### while 반복문\n",
        "*   while <조건식> : 문장\n",
        "*   while value in <리스트>: 문장\n",
        "*   while <시간조건> : 문장\n",
        "\n"
      ],
      "metadata": {
        "id": "KZpmVHDO3wCi"
      }
    },
    {
      "cell_type": "code",
      "source": [
        "i=0\n",
        "while i<10 :\n",
        "  print(i)\n",
        "  i += 1"
      ],
      "metadata": {
        "id": "5qFoKT2x3yC0",
        "outputId": "5e0f6a6a-6cf0-48c0-9860-00110965ba2f",
        "colab": {
          "base_uri": "https://localhost:8080/"
        }
      },
      "execution_count": null,
      "outputs": [
        {
          "output_type": "stream",
          "name": "stdout",
          "text": [
            "0\n",
            "1\n",
            "2\n",
            "3\n",
            "4\n",
            "5\n",
            "6\n",
            "7\n",
            "8\n",
            "9\n"
          ]
        }
      ]
    },
    {
      "cell_type": "code",
      "source": [
        "list = [1,23,4,5,6]\n",
        "value = 23\n",
        "while value in list:\n",
        "  list.remove(value)\n",
        "\n",
        "print(list)"
      ],
      "metadata": {
        "id": "BlBzLzlm4HS0",
        "outputId": "27798b08-5c16-44bf-b2dc-c31328e74871",
        "colab": {
          "base_uri": "https://localhost:8080/"
        }
      },
      "execution_count": null,
      "outputs": [
        {
          "output_type": "stream",
          "name": "stdout",
          "text": [
            "[1, 4, 5, 6]\n"
          ]
        }
      ]
    },
    {
      "cell_type": "code",
      "source": [
        "import time\n",
        "cnt = 0\n",
        "tick = time.time() + 5\n",
        "while time.time() < tick:\n",
        "  cnt += 1;\n",
        "print(cnt)"
      ],
      "metadata": {
        "id": "5j4RFQRv5m6z",
        "outputId": "701013c7-8d2e-4c7e-c92d-670a47a074ca",
        "colab": {
          "base_uri": "https://localhost:8080/"
        }
      },
      "execution_count": null,
      "outputs": [
        {
          "output_type": "stream",
          "name": "stdout",
          "text": [
            "26569270\n"
          ]
        }
      ]
    },
    {
      "cell_type": "markdown",
      "source": [
        "### break 및 continue\n",
        " - break : 반복문을 벗어날 때 사용하는 키워드\n",
        " - continue : 반복을 skip\n",
        "\n"
      ],
      "metadata": {
        "id": "jFf15Dq27HeH"
      }
    },
    {
      "cell_type": "code",
      "source": [
        "x = 10;\n",
        "while True : \n",
        " x -= 1\n",
        " if x<0:\n",
        "  break\n",
        "print(x)\n"
      ],
      "metadata": {
        "id": "_2Ra2ihX7MXB",
        "outputId": "09bb1816-2279-4249-c761-48886d031cef",
        "colab": {
          "base_uri": "https://localhost:8080/"
        }
      },
      "execution_count": null,
      "outputs": [
        {
          "output_type": "stream",
          "name": "stdout",
          "text": [
            "-1\n"
          ]
        }
      ]
    },
    {
      "cell_type": "code",
      "source": [
        "list = [2,5,3,1,0]\n",
        "for num in list:\n",
        "  if num != 0:\n",
        "    continue\n",
        "  print(num)\n"
      ],
      "metadata": {
        "id": "7h4wOa2F74hn",
        "outputId": "65fb5ee2-f729-4e33-b297-ad8ea1136ebf",
        "colab": {
          "base_uri": "https://localhost:8080/"
        }
      },
      "execution_count": null,
      "outputs": [
        {
          "output_type": "stream",
          "name": "stdout",
          "text": [
            "0\n"
          ]
        }
      ]
    },
    {
      "cell_type": "markdown",
      "source": [
        "## 리스트\n",
        "* 여러가지 자료를 저장할 수 있는 데이터 구조체\n",
        "* 요소 : 리스트 내의 데이터를 의미\n",
        "\n",
        "\n"
      ],
      "metadata": {
        "id": "9RWQe0BvUrqV"
      }
    },
    {
      "cell_type": "markdown",
      "source": [
        "### 일차원 리스트"
      ],
      "metadata": {
        "id": "sTRvDH5q-7fF"
      }
    },
    {
      "cell_type": "code",
      "source": [],
      "metadata": {
        "id": "XNGbmGog--dr"
      },
      "execution_count": null,
      "outputs": []
    },
    {
      "cell_type": "markdown",
      "source": [
        "### 다차원 리스트\n",
        "\n",
        "*   [[ ],[ ],[ ]]\n",
        "\n"
      ],
      "metadata": {
        "id": "f-TIHxqM_Zgi"
      }
    },
    {
      "cell_type": "code",
      "source": [],
      "metadata": {
        "id": "6lwFSotCBb-k"
      },
      "execution_count": null,
      "outputs": []
    },
    {
      "cell_type": "markdown",
      "source": [
        "### 인덱스\n",
        "\n",
        "*   숫자 0부터 시작\n",
        "*   array[숫자] : 특정 인덱스의 값 접근\n",
        "*   array[숫자:숫자] : 특정 범위의 값 접근\n",
        "*   array[-숫자] : 뒤에서 부터 접근\n",
        "*   array[숫자][숫자] : 다차원 리스트 접근\n",
        "*   범위를 벗어난 인덱스 접근시 error 발생\n",
        "\n",
        "\n"
      ],
      "metadata": {
        "id": "9DJgjN22-_F4"
      }
    },
    {
      "cell_type": "code",
      "source": [],
      "metadata": {
        "id": "r90LjLgtARmB"
      },
      "execution_count": null,
      "outputs": []
    },
    {
      "cell_type": "markdown",
      "source": [
        "### 리스트 연산자\n",
        "\n",
        "*   \\+ : 리스트 합치기\n",
        "*   \\* : 리스트 반복하기\n",
        "*   in : 특정 값 포함 여부 확인, True 또는 False 출력\n",
        "*   not in : 특정 값 불포함 여부 확인, True 또는 False 출력\n"
      ],
      "metadata": {
        "id": "eBw2w6WLBj84"
      }
    },
    {
      "cell_type": "code",
      "source": [
        "list = [1,2,3]\n",
        "list = list*3\n",
        "list"
      ],
      "metadata": {
        "colab": {
          "base_uri": "https://localhost:8080/"
        },
        "id": "AyWUlfzQAi0m",
        "outputId": "55b1a447-9a62-40cf-aa0a-85ff2a44e36b"
      },
      "execution_count": null,
      "outputs": [
        {
          "output_type": "execute_result",
          "data": {
            "text/plain": [
              "[1, 2, 3, 1, 2, 3, 1, 2, 3]"
            ]
          },
          "metadata": {},
          "execution_count": 2
        }
      ]
    },
    {
      "cell_type": "markdown",
      "source": [
        "### 리스트 관련 함수\n",
        "\n",
        "*   len(리스트) : 리스트의 길이 측정\n",
        "*   append(요소) : 리스트에 요소 추가\n",
        "*   insert(인덱스, 요소) : 리스트 특정 인덱스에 추가\n",
        "*   extend(리스트) : 리스트 뒤에 확장 또는 추가, + 연산자와 동일\n",
        "*   del 리스트[인덱스] : 리스트 내 하나의 요소 제거\n",
        "*   del 리스트[인덱스:인덱스] : 특정 범위의 요소들 제거\n",
        "*   del 리스트[:인덱스] : 처음부터 인덱스 바로 직전까지 제거\n",
        "*   pop(인덱스) : 리스트 내 하나의 요소 제거, del과 유사\n",
        "*   remove(요소값) : 특정 값을 지정하여 제거, 단 처음 하나만 제거\n",
        "*   clear() : 요소들 모두 제거\n",
        "\n"
      ],
      "metadata": {
        "id": "UWqEWI7RB4PV"
      }
    },
    {
      "cell_type": "code",
      "source": [
        "list = [1,2,3,4,5,2]\n",
        "list.remove(2)\n",
        "list"
      ],
      "metadata": {
        "colab": {
          "base_uri": "https://localhost:8080/"
        },
        "id": "0rmEOSDcDMG8",
        "outputId": "5ecf46a0-c52f-4c71-b3f7-862e1093bbeb"
      },
      "execution_count": null,
      "outputs": [
        {
          "output_type": "execute_result",
          "data": {
            "text/plain": [
              "[1, 3, 4, 5, 2]"
            ]
          },
          "metadata": {},
          "execution_count": 1
        }
      ]
    },
    {
      "cell_type": "markdown",
      "source": [
        "## 딕셔너리\n",
        "\n",
        "*   key를 기반으로 value 저장\n",
        "*   value에는 list가 올 수 있음\n",
        "*   {key:value, key:value, ..., key:value}\n",
        "*   <중요> key는 반드시 변수로 지정해야 함"
      ],
      "metadata": {
        "id": "XkJm0qG3HgKD"
      }
    },
    {
      "cell_type": "code",
      "source": [
        "name = \"이름\"\n",
        "sn = \"학번\"\n",
        "dict = {name:\"홍로\", sn:12345 }\n",
        "dict"
      ],
      "metadata": {
        "colab": {
          "base_uri": "https://localhost:8080/"
        },
        "id": "h1IwWRScIRlf",
        "outputId": "aa640d0c-4804-44af-e599-dc8d5f16aef2"
      },
      "execution_count": null,
      "outputs": [
        {
          "output_type": "execute_result",
          "data": {
            "text/plain": [
              "{'이름': '홍로', '학번': 12345}"
            ]
          },
          "metadata": {},
          "execution_count": 4
        }
      ]
    },
    {
      "cell_type": "markdown",
      "source": [
        "### 출력\n",
        "*   딕셔너리명[key]\n"
      ],
      "metadata": {
        "id": "R3ppIR-jIQMi"
      }
    },
    {
      "cell_type": "code",
      "source": [
        "dict[name]"
      ],
      "metadata": {
        "colab": {
          "base_uri": "https://localhost:8080/",
          "height": 35
        },
        "id": "fIvb48o8IQAu",
        "outputId": "f2e009ee-728b-438e-d644-8e8c3d6c748b"
      },
      "execution_count": null,
      "outputs": [
        {
          "output_type": "execute_result",
          "data": {
            "text/plain": [
              "'홍로'"
            ],
            "application/vnd.google.colaboratory.intrinsic+json": {
              "type": "string"
            }
          },
          "metadata": {},
          "execution_count": 5
        }
      ]
    },
    {
      "cell_type": "markdown",
      "source": [
        "## 문자열, 리스트, 딕셔너리 관련 기본함수"
      ],
      "metadata": {
        "id": "kdJIsKHd9F0J"
      }
    },
    {
      "cell_type": "markdown",
      "source": [
        "## 튜플"
      ],
      "metadata": {
        "id": "CU45yH5d_TtS"
      }
    },
    {
      "cell_type": "markdown",
      "source": [
        "## 람다"
      ],
      "metadata": {
        "id": "s-GUREAz_aBy"
      }
    },
    {
      "cell_type": "markdown",
      "source": [
        "## 함수"
      ],
      "metadata": {
        "id": "_EjyAN0-9g77"
      }
    },
    {
      "cell_type": "markdown",
      "source": [
        "### 매개변수"
      ],
      "metadata": {
        "id": "9yYu8yOR-ZjY"
      }
    },
    {
      "cell_type": "markdown",
      "source": [
        "### 리턴"
      ],
      "metadata": {
        "id": "Mt5eMEID-gEb"
      }
    },
    {
      "cell_type": "markdown",
      "source": [
        "### 가변 매개변수"
      ],
      "metadata": {
        "id": "fcDn0_AP-kNG"
      }
    },
    {
      "cell_type": "markdown",
      "source": [
        "### 기본 매개변수"
      ],
      "metadata": {
        "id": "nbOILheM-WOY"
      }
    },
    {
      "cell_type": "markdown",
      "source": [
        "### 재귀함수"
      ],
      "metadata": {
        "id": "VyioW0fe-u2k"
      }
    },
    {
      "cell_type": "markdown",
      "source": [
        "## 파일처리"
      ],
      "metadata": {
        "id": "MlG9owKO_xqc"
      }
    },
    {
      "cell_type": "markdown",
      "source": [
        "## 제너레이터"
      ],
      "metadata": {
        "id": "gy7mWjOM_8QC"
      }
    },
    {
      "cell_type": "markdown",
      "source": [
        "## 모듈"
      ],
      "metadata": {
        "id": "apxQih6PAqmZ"
      }
    },
    {
      "cell_type": "markdown",
      "source": [
        "## 클래스"
      ],
      "metadata": {
        "id": "JW35qkeyAu0B"
      }
    },
    {
      "cell_type": "code",
      "source": [],
      "metadata": {
        "id": "rO7sTuDrApXP"
      },
      "execution_count": null,
      "outputs": []
    }
  ]
}