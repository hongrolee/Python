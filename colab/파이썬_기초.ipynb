{
  "nbformat": 4,
  "nbformat_minor": 0,
  "metadata": {
    "colab": {
      "provenance": [],
      "toc_visible": true,
      "mount_file_id": "1oyDbLlF73m6hV-TaVDLE4xYsDtm45CQz",
      "authorship_tag": "ABX9TyNbVmfADOltmFhgtviM0LVW",
      "include_colab_link": true
    },
    "kernelspec": {
      "name": "python3",
      "display_name": "Python 3"
    },
    "language_info": {
      "name": "python"
    }
  },
  "cells": [
    {
      "cell_type": "markdown",
      "metadata": {
        "id": "view-in-github",
        "colab_type": "text"
      },
      "source": [
        "<a href=\"https://colab.research.google.com/github/hongrolee/Python/blob/main/colab/%ED%8C%8C%EC%9D%B4%EC%8D%AC_%EA%B8%B0%EC%B4%88.ipynb\" target=\"_parent\"><img src=\"https://colab.research.google.com/assets/colab-badge.svg\" alt=\"Open In Colab\"/></a>"
      ]
    },
    {
      "cell_type": "markdown",
      "source": [
        "# 파이썬 기초"
      ],
      "metadata": {
        "id": "gGReaEsd9Jp4"
      }
    },
    {
      "cell_type": "markdown",
      "source": [
        "## 파이썬 개요"
      ],
      "metadata": {
        "id": "JwanIx1z9YfA"
      }
    },
    {
      "cell_type": "code",
      "source": [],
      "metadata": {
        "id": "BMPlwpOmz90U"
      },
      "execution_count": null,
      "outputs": []
    },
    {
      "cell_type": "markdown",
      "source": [
        "### 파이썬의 장점\n",
        "\n",
        "\n",
        "*   비전공자도 쉽게 배울 수 있음\n",
        "*   다양한 분야에서 활용 가능\n",
        "*   대분의 운영체제에서 호환\n",
        "*   다양한 라이브러리 활용 가능 (데이터분석, 머신러닝, 인공지능 등)"
      ],
      "metadata": {
        "id": "e83MqHmu9gNO"
      }
    },
    {
      "cell_type": "markdown",
      "source": [
        "### 파이썬의 단점\n",
        "\n",
        "\n",
        "*   C언에 비해 느림 (10배~350배)\n",
        "\n"
      ],
      "metadata": {
        "id": "lJlhVXZI9744"
      }
    },
    {
      "cell_type": "markdown",
      "source": [
        "## 기본 문법"
      ],
      "metadata": {
        "id": "3nH9xhoA_GBJ"
      }
    },
    {
      "cell_type": "markdown",
      "source": [
        "### 주석 (#)"
      ],
      "metadata": {
        "id": "-pKCMZdbARHY"
      }
    },
    {
      "cell_type": "code",
      "source": [
        "# 안녕하세요."
      ],
      "metadata": {
        "id": "OEEO80Oi9eb1"
      },
      "execution_count": 1,
      "outputs": []
    },
    {
      "cell_type": "markdown",
      "source": [
        "### 기본 자료형\n",
        "\n",
        "*   int : 정수형\n",
        "*   float : 실수형\n",
        "*   str : 문자열\n",
        "*   bool : True 또는 False\n",
        "*   type()"
      ],
      "metadata": {
        "id": "PIFuB_KgBmfg"
      }
    },
    {
      "cell_type": "code",
      "source": [],
      "metadata": {
        "id": "eKFhITNhDGRT"
      },
      "execution_count": null,
      "outputs": []
    },
    {
      "cell_type": "markdown",
      "source": [
        "### 출력\n",
        "*   print(값)\n",
        "*   print(\"OOO{},{}OOO\".format(값))\n",
        "\n"
      ],
      "metadata": {
        "id": "kAds-3ah6f7m"
      }
    },
    {
      "cell_type": "code",
      "source": [],
      "metadata": {
        "id": "6u6vPAhO6nkT"
      },
      "execution_count": null,
      "outputs": []
    },
    {
      "cell_type": "markdown",
      "source": [
        "### 연산자\n",
        "\n",
        "*   사칙연산 : +, -, *, /\n",
        "*   나머지 연산자 : %\n",
        "*   제곱 연산자 : **\n",
        "*   복합 대입 연산자 : +=, -=, * =, /=, %=, **=\n",
        "*   우선순위 : 곱셈, 나눗셈 > 덧셈, 뺄셈 ( ( )가 있으면 최우선)\n",
        "*   비교 연산자 : ==, !=, <, >, <=, >=\n",
        "*   논리 연산자 : and, or, not\n"
      ],
      "metadata": {
        "id": "X7v63X1rAmSQ"
      }
    },
    {
      "cell_type": "code",
      "source": [],
      "metadata": {
        "id": "0b8DluD7PycI"
      },
      "execution_count": null,
      "outputs": []
    },
    {
      "cell_type": "markdown",
      "source": [
        "### 문자열\n",
        "\n",
        "*   형식 : \"2023년 AI중급과정\", '2023년 AI중급과정'\n",
        "*   이스케이프 문자 : \\\\\", \\\\', \\\\n, \\\\t, \\\\\\\n",
        "*   문자열 연산자 : +, *, in\n",
        "*   인덱싱 및 슬라이싱 : [ ], [:], [-]\n",
        "\n",
        "\n"
      ],
      "metadata": {
        "id": "TYkiqTcxDHhb"
      }
    },
    {
      "cell_type": "code",
      "source": [],
      "metadata": {
        "id": "jB0vGlx-DMy5"
      },
      "execution_count": null,
      "outputs": []
    },
    {
      "cell_type": "markdown",
      "source": [
        "### 문자열 함수\n",
        "\n",
        "*   len() : 문자열 길이 측정\n",
        "*   format(), upper(), lower(), strip() : 문자 형태 변경\n",
        "*   isalnum() : 알파벳 또는 숫자 포함 여부\n",
        "*   isalpha() : 알파벳 포함 여부\n",
        "*   isidentifier() : 식별자 사용가능 여부\n",
        "*   isdecimal() : 정수 여부\n",
        "*   isdigit() : 숫자 인식 여부(2²)\n",
        "*   isspace() : 공백으로만 구성 여부\n",
        "*   islower() : 소문자만으로 구성 여부\n",
        "*   isupper() : 대문자만으로 구성 여부\n",
        "*   find()    : 특정 문자열의 왼쪽 부터의 인덱스\n",
        "*   rfind()   : 특정 문자열의 오른쪽 부터의 인덱스\n",
        "*   split()   : 특정 문자로 자름"
      ],
      "metadata": {
        "id": "mE2fx4mdMPpF"
      }
    },
    {
      "cell_type": "code",
      "source": [
        "x = \"Hello \"\n",
        "print(\"안녕하세요를 영어로 {}라고 합니다.\".format(x))\n",
        "print(x.isalnum())\n",
        "print(x.isalpha())\n",
        "print(x.isidentifier())\n",
        "x = \"12341²\"\n",
        "print(x.isdecimal())\n",
        "print(x.isdigit())\n",
        "print(x.rfind(\"1\"))"
      ],
      "metadata": {
        "id": "29OQWJPSAW5C",
        "outputId": "7725d64b-96a0-4ef6-a5ae-7abba13f6eab",
        "colab": {
          "base_uri": "https://localhost:8080/"
        }
      },
      "execution_count": 56,
      "outputs": [
        {
          "output_type": "stream",
          "name": "stdout",
          "text": [
            "안녕하세요를 영어로 Hello 라고 합니다.\n",
            "False\n",
            "False\n",
            "False\n",
            "False\n",
            "True\n",
            "4\n"
          ]
        }
      ]
    },
    {
      "cell_type": "markdown",
      "source": [
        "### 사용자 입력\n",
        "\n",
        "*   input()"
      ],
      "metadata": {
        "id": "JVikariOHb5j"
      }
    },
    {
      "cell_type": "code",
      "source": [],
      "metadata": {
        "id": "WQhKZ844HlUN"
      },
      "execution_count": null,
      "outputs": []
    },
    {
      "cell_type": "markdown",
      "source": [
        "### 형 변환 (cast)\n",
        "\n",
        "*   int()\n",
        "*   float()\n",
        "*   str()\n",
        "\n"
      ],
      "metadata": {
        "id": "tMmhWY7LIa1f"
      }
    },
    {
      "cell_type": "code",
      "source": [],
      "metadata": {
        "id": "UjUAllUxJHyq"
      },
      "execution_count": null,
      "outputs": []
    },
    {
      "cell_type": "markdown",
      "source": [
        "### 날짜 및 시간\n",
        "- import datetime\n",
        "*   datetime.datetime.now()\n",
        "*   year, month, day, hour, minute, second\n",
        "\n"
      ],
      "metadata": {
        "id": "NzqkGm_fSEGM"
      }
    },
    {
      "cell_type": "code",
      "source": [
        "import datetime\n",
        "today = datetime.datetime.now()\n",
        "print(today.second)"
      ],
      "metadata": {
        "id": "I9U90_cQGlzT",
        "outputId": "cc4dca52-ebc0-4fd1-9d39-5e6ff95fc81b",
        "colab": {
          "base_uri": "https://localhost:8080/"
        }
      },
      "execution_count": 14,
      "outputs": [
        {
          "output_type": "stream",
          "name": "stdout",
          "text": [
            "47\n"
          ]
        }
      ]
    },
    {
      "cell_type": "markdown",
      "source": [
        "## 조건문"
      ],
      "metadata": {
        "id": "3Vc6GYa1Raeu"
      }
    },
    {
      "cell_type": "markdown",
      "source": [
        "### if, if-else, if-elif-else"
      ],
      "metadata": {
        "id": "6WRooyj9R7MG"
      }
    },
    {
      "cell_type": "code",
      "source": [],
      "metadata": {
        "id": "3YtwdfESR-rR"
      },
      "execution_count": null,
      "outputs": []
    },
    {
      "cell_type": "markdown",
      "source": [
        "### if-in"
      ],
      "metadata": {
        "id": "2IAIsFmWS9yI"
      }
    },
    {
      "cell_type": "code",
      "source": [
        "x = [1,2,3,4]\n",
        "if 4 in x :\n",
        "  print(\"데이터가 있습니다.\")"
      ],
      "metadata": {
        "id": "Dts4ORliT2EY",
        "outputId": "3a54b761-75eb-4595-c9e2-360608c19892",
        "colab": {
          "base_uri": "https://localhost:8080/"
        }
      },
      "execution_count": 15,
      "outputs": [
        {
          "output_type": "stream",
          "name": "stdout",
          "text": [
            "데이터가 있습니다.\n"
          ]
        }
      ]
    },
    {
      "cell_type": "markdown",
      "source": [
        "### pass"
      ],
      "metadata": {
        "id": "xC13BiszSBYQ"
      }
    },
    {
      "cell_type": "code",
      "source": [
        "x = 4\n",
        "if x==4 :\n",
        "  pass\n",
        "else :\n",
        "  print(\"패스가 아닙니다.\")"
      ],
      "metadata": {
        "id": "oRWx_gXEUJ4L"
      },
      "execution_count": 16,
      "outputs": []
    },
    {
      "cell_type": "markdown",
      "source": [
        "## 반복문"
      ],
      "metadata": {
        "id": "b_7NgSJ9Ha5V"
      }
    },
    {
      "cell_type": "markdown",
      "source": [
        "### range\n",
        "\n",
        "*   range(A)\n",
        "*   range(A,B)\n",
        "*   range(A,B,C)\n",
        "\n"
      ],
      "metadata": {
        "id": "ko6Ps05IuGV_"
      }
    },
    {
      "cell_type": "code",
      "source": [
        "x = range(2,10,2)\n",
        "print(list(x))"
      ],
      "metadata": {
        "colab": {
          "base_uri": "https://localhost:8080/"
        },
        "id": "xLuHF_btyh7T",
        "outputId": "219c6870-e622-45db-8372-e1cc8cb02d75"
      },
      "execution_count": 21,
      "outputs": [
        {
          "output_type": "stream",
          "name": "stdout",
          "text": [
            "[2, 4, 6, 8]\n"
          ]
        }
      ]
    },
    {
      "cell_type": "markdown",
      "source": [
        "### for 반복문\n",
        "\n",
        "*   for i in 리스트\n",
        "*   for i in range(횟수)\n",
        "\n"
      ],
      "metadata": {
        "id": "hRHdKwSeFOHm"
      }
    },
    {
      "cell_type": "code",
      "source": [
        "x = range(20)\n",
        "for a in x :\n",
        "  print(a)"
      ],
      "metadata": {
        "id": "3eeve4A7HEWJ"
      },
      "execution_count": null,
      "outputs": []
    },
    {
      "cell_type": "code",
      "source": [
        "for a in range(20) :\n",
        "  print(a)"
      ],
      "metadata": {
        "id": "za0WWDbDrjTI"
      },
      "execution_count": null,
      "outputs": []
    },
    {
      "cell_type": "markdown",
      "source": [
        "### while 반복문\n",
        "*   while <조건식> : 문장\n",
        "*   while value in <리스트>: 문장\n",
        "\n"
      ],
      "metadata": {
        "id": "KZpmVHDO3wCi"
      }
    },
    {
      "cell_type": "code",
      "source": [
        "x = 1\n",
        "while x<5 :\n",
        "  x += 1\n",
        "  print(x)\n",
        "print(\"마지막 x : \"+str(x))"
      ],
      "metadata": {
        "id": "5qFoKT2x3yC0",
        "outputId": "609ff2f0-f431-42aa-8dfd-7d886f10870d",
        "colab": {
          "base_uri": "https://localhost:8080/"
        }
      },
      "execution_count": 27,
      "outputs": [
        {
          "output_type": "stream",
          "name": "stdout",
          "text": [
            "2\n",
            "3\n",
            "4\n",
            "5\n",
            "마지막 x : 5\n"
          ]
        }
      ]
    },
    {
      "cell_type": "code",
      "source": [
        "value = 1\n",
        "while value in [1,2,3,4] :\n",
        ""
      ],
      "metadata": {
        "id": "o83821AxEJpy"
      },
      "execution_count": null,
      "outputs": []
    },
    {
      "cell_type": "markdown",
      "source": [
        "### break 및 continue\n",
        " - break : 반복문을 벗어날 때 사용하는 키워드\n",
        " - continue : 반복을 skip\n",
        "\n"
      ],
      "metadata": {
        "id": "jFf15Dq27HeH"
      }
    },
    {
      "cell_type": "code",
      "source": [
        "x = 5\n",
        "while True :\n",
        "  x -= 1\n",
        "  print(x)\n",
        "  if x<0 :\n",
        "    break\n",
        "\n",
        "\n",
        "\n"
      ],
      "metadata": {
        "id": "_2Ra2ihX7MXB",
        "outputId": "47b68fcf-73c4-49a8-fc9d-5a5dda175787",
        "colab": {
          "base_uri": "https://localhost:8080/"
        }
      },
      "execution_count": 35,
      "outputs": [
        {
          "output_type": "stream",
          "name": "stdout",
          "text": [
            "4\n",
            "3\n",
            "2\n",
            "1\n",
            "0\n",
            "-1\n"
          ]
        }
      ]
    },
    {
      "cell_type": "code",
      "source": [
        "x = 5\n",
        "while x > 0 :\n",
        "  x -= 1\n",
        "  if x==3 :\n",
        "    continue\n",
        "  print(x)\n"
      ],
      "metadata": {
        "id": "7h4wOa2F74hn",
        "outputId": "3285ed2e-82b8-4f77-9858-6f5fc64d0a54",
        "colab": {
          "base_uri": "https://localhost:8080/"
        }
      },
      "execution_count": 37,
      "outputs": [
        {
          "output_type": "stream",
          "name": "stdout",
          "text": [
            "4\n",
            "2\n",
            "1\n",
            "0\n"
          ]
        }
      ]
    },
    {
      "cell_type": "markdown",
      "source": [
        "## 리스트\n",
        "* 여러가지 자료를 저장할 수 있는 데이터 구조체\n",
        "* 요소 : 리스트 내의 데이터를 의미\n",
        "\n",
        "\n"
      ],
      "metadata": {
        "id": "9RWQe0BvUrqV"
      }
    },
    {
      "cell_type": "markdown",
      "source": [
        "### 일차원 리스트"
      ],
      "metadata": {
        "id": "sTRvDH5q-7fF"
      }
    },
    {
      "cell_type": "code",
      "source": [
        "x = [1,2,3,4,5,6]\n",
        "y = [1,2,3,4,5,6]"
      ],
      "metadata": {
        "id": "XNGbmGog--dr"
      },
      "execution_count": null,
      "outputs": []
    },
    {
      "cell_type": "markdown",
      "source": [
        "### 다차원 리스트\n",
        "\n",
        "*   [[ ],[ ],[ ]]\n",
        "\n"
      ],
      "metadata": {
        "id": "f-TIHxqM_Zgi"
      }
    },
    {
      "cell_type": "code",
      "source": [
        "x = [[[1,2],3],\n",
        "     [4,[5,6]]]\n",
        "print(x)"
      ],
      "metadata": {
        "id": "6lwFSotCBb-k",
        "outputId": "73eee1dd-0f74-4613-8209-eaa78e93ea50",
        "colab": {
          "base_uri": "https://localhost:8080/"
        }
      },
      "execution_count": 42,
      "outputs": [
        {
          "output_type": "stream",
          "name": "stdout",
          "text": [
            "[[[1, 2], 3], [4, [5, 6]]]\n"
          ]
        }
      ]
    },
    {
      "cell_type": "markdown",
      "source": [
        "### 인덱스\n",
        "\n",
        "*   숫자 0부터 시작\n",
        "*   array[숫자] : 특정 인덱스의 값 접근\n",
        "*   array[숫자:숫자] : 특정 범위의 값 접근\n",
        "*   array[-숫자] : 뒤에서 부터 접근\n",
        "*   array[숫자][숫자] : 다차원 리스트 접근\n",
        "*   범위를 벗어난 인덱스 접근시 error 발생\n",
        "\n",
        "\n"
      ],
      "metadata": {
        "id": "9DJgjN22-_F4"
      }
    },
    {
      "cell_type": "code",
      "source": [
        "array = [[1,2,3],[4,5,6]]\n",
        "print(array[0][3])"
      ],
      "metadata": {
        "id": "r90LjLgtARmB",
        "outputId": "73263150-12b2-42d7-dd09-0734cb6dd666",
        "colab": {
          "base_uri": "https://localhost:8080/",
          "height": 225
        }
      },
      "execution_count": 49,
      "outputs": [
        {
          "output_type": "error",
          "ename": "IndexError",
          "evalue": "ignored",
          "traceback": [
            "\u001b[0;31m---------------------------------------------------------------------------\u001b[0m",
            "\u001b[0;31mIndexError\u001b[0m                                Traceback (most recent call last)",
            "\u001b[0;32m<ipython-input-49-dca675879b3b>\u001b[0m in \u001b[0;36m<cell line: 2>\u001b[0;34m()\u001b[0m\n\u001b[1;32m      1\u001b[0m \u001b[0marray\u001b[0m \u001b[0;34m=\u001b[0m \u001b[0;34m[\u001b[0m\u001b[0;34m[\u001b[0m\u001b[0;36m1\u001b[0m\u001b[0;34m,\u001b[0m\u001b[0;36m2\u001b[0m\u001b[0;34m,\u001b[0m\u001b[0;36m3\u001b[0m\u001b[0;34m]\u001b[0m\u001b[0;34m,\u001b[0m\u001b[0;34m[\u001b[0m\u001b[0;36m4\u001b[0m\u001b[0;34m,\u001b[0m\u001b[0;36m5\u001b[0m\u001b[0;34m,\u001b[0m\u001b[0;36m6\u001b[0m\u001b[0;34m]\u001b[0m\u001b[0;34m]\u001b[0m\u001b[0;34m\u001b[0m\u001b[0;34m\u001b[0m\u001b[0m\n\u001b[0;32m----> 2\u001b[0;31m \u001b[0mprint\u001b[0m\u001b[0;34m(\u001b[0m\u001b[0marray\u001b[0m\u001b[0;34m[\u001b[0m\u001b[0;36m0\u001b[0m\u001b[0;34m]\u001b[0m\u001b[0;34m[\u001b[0m\u001b[0;36m3\u001b[0m\u001b[0;34m]\u001b[0m\u001b[0;34m)\u001b[0m\u001b[0;34m\u001b[0m\u001b[0;34m\u001b[0m\u001b[0m\n\u001b[0m",
            "\u001b[0;31mIndexError\u001b[0m: list index out of range"
          ]
        }
      ]
    },
    {
      "cell_type": "markdown",
      "source": [
        "### 리스트 연산자\n",
        "\n",
        "*   \\+ : 리스트 합치기\n",
        "*   \\* : 리스트 반복하기\n",
        "*   in : 특정 값 포함 여부 확인, True 또는 False 출력\n",
        "*   not in : 특정 값 불포함 여부 확인, True 또는 False 출력\n"
      ],
      "metadata": {
        "id": "eBw2w6WLBj84"
      }
    },
    {
      "cell_type": "code",
      "source": [
        "list1 = [1,2,3]\n",
        "list2 = [4,5,6]\n",
        "result = list1 * 3\n",
        "print(result)\n",
        "if 5 not in list1 :\n",
        "  print(\"5가 있습니다.\")"
      ],
      "metadata": {
        "colab": {
          "base_uri": "https://localhost:8080/"
        },
        "id": "AyWUlfzQAi0m",
        "outputId": "62b0d9a2-6b16-4007-c835-ea3cdff1f4b0"
      },
      "execution_count": 57,
      "outputs": [
        {
          "output_type": "stream",
          "name": "stdout",
          "text": [
            "[1, 2, 3, 1, 2, 3, 1, 2, 3]\n",
            "5가 있습니다.\n"
          ]
        }
      ]
    },
    {
      "cell_type": "markdown",
      "source": [
        "### 리스트 관련 함수\n",
        "\n",
        "*   len(리스트) : 리스트의 길이 측정\n",
        "*   append(요소) : 리스트에 요소 추가\n",
        "*   insert(인덱스, 요소) : 리스트 특정 인덱스에 추가\n",
        "*   extend(리스트) : 리스트 뒤에 확장 또는 추가, + 연산자와 동일\n",
        "*   del 리스트[인덱스] : 리스트 내 하나의 요소 제거\n",
        "*   del 리스트[인덱스:인덱스] : 특정 범위의 요소들 제거\n",
        "*   del 리스트[:인덱스] : 처음부터 인덱스 바로 직전까지 제거\n",
        "*   pop(인덱스) : 리스트 내 하나의 요소 제거, del과 유사\n",
        "*   remove(요소값) : 특정 값을 지정하여 제거, 단 처음 하나만 제거\n",
        "*   clear() : 요소들 모두 제거\n",
        "\n"
      ],
      "metadata": {
        "id": "UWqEWI7RB4PV"
      }
    },
    {
      "cell_type": "code",
      "source": [
        "list = [1,2,3,4,5,2]\n",
        "list.remove(2)\n",
        "list"
      ],
      "metadata": {
        "colab": {
          "base_uri": "https://localhost:8080/"
        },
        "id": "0rmEOSDcDMG8",
        "outputId": "5ecf46a0-c52f-4c71-b3f7-862e1093bbeb"
      },
      "execution_count": null,
      "outputs": [
        {
          "output_type": "execute_result",
          "data": {
            "text/plain": [
              "[1, 3, 4, 5, 2]"
            ]
          },
          "metadata": {},
          "execution_count": 1
        }
      ]
    },
    {
      "cell_type": "markdown",
      "source": [
        "## 딕셔너리\n",
        "\n",
        "*   key를 기반으로 value 저장\n",
        "*   value에는 list가 올 수 있음\n",
        "*   {key:value, key:value, ..., key:value}\n",
        "*   <중요> key는 반드시 변수로 지정해야 함"
      ],
      "metadata": {
        "id": "XkJm0qG3HgKD"
      }
    },
    {
      "cell_type": "code",
      "source": [
        "name = \"이름\"\n",
        "sn = \"학번\"\n",
        "dict = {name:\"홍로\", sn:12345 }\n",
        "dict"
      ],
      "metadata": {
        "colab": {
          "base_uri": "https://localhost:8080/"
        },
        "id": "h1IwWRScIRlf",
        "outputId": "aa640d0c-4804-44af-e599-dc8d5f16aef2"
      },
      "execution_count": null,
      "outputs": [
        {
          "output_type": "execute_result",
          "data": {
            "text/plain": [
              "{'이름': '홍로', '학번': 12345}"
            ]
          },
          "metadata": {},
          "execution_count": 4
        }
      ]
    },
    {
      "cell_type": "markdown",
      "source": [
        "### 출력\n",
        "*   딕셔너리명[key]\n"
      ],
      "metadata": {
        "id": "R3ppIR-jIQMi"
      }
    },
    {
      "cell_type": "code",
      "source": [
        "dict[name]"
      ],
      "metadata": {
        "colab": {
          "base_uri": "https://localhost:8080/",
          "height": 35
        },
        "id": "fIvb48o8IQAu",
        "outputId": "f2e009ee-728b-438e-d644-8e8c3d6c748b"
      },
      "execution_count": null,
      "outputs": [
        {
          "output_type": "execute_result",
          "data": {
            "text/plain": [
              "'홍로'"
            ],
            "application/vnd.google.colaboratory.intrinsic+json": {
              "type": "string"
            }
          },
          "metadata": {},
          "execution_count": 5
        }
      ]
    },
    {
      "cell_type": "markdown",
      "source": [
        "## 문자열, 리스트, 딕셔너리 관련 기본함수"
      ],
      "metadata": {
        "id": "kdJIsKHd9F0J"
      }
    },
    {
      "cell_type": "markdown",
      "source": [
        "## 튜플"
      ],
      "metadata": {
        "id": "CU45yH5d_TtS"
      }
    },
    {
      "cell_type": "markdown",
      "source": [
        "## 람다"
      ],
      "metadata": {
        "id": "s-GUREAz_aBy"
      }
    },
    {
      "cell_type": "markdown",
      "source": [
        "## 함수"
      ],
      "metadata": {
        "id": "_EjyAN0-9g77"
      }
    },
    {
      "cell_type": "markdown",
      "source": [
        "### 매개변수"
      ],
      "metadata": {
        "id": "9yYu8yOR-ZjY"
      }
    },
    {
      "cell_type": "markdown",
      "source": [
        "### 리턴"
      ],
      "metadata": {
        "id": "Mt5eMEID-gEb"
      }
    },
    {
      "cell_type": "markdown",
      "source": [
        "### 가변 매개변수"
      ],
      "metadata": {
        "id": "fcDn0_AP-kNG"
      }
    },
    {
      "cell_type": "markdown",
      "source": [
        "### 기본 매개변수"
      ],
      "metadata": {
        "id": "nbOILheM-WOY"
      }
    },
    {
      "cell_type": "markdown",
      "source": [
        "### 재귀함수"
      ],
      "metadata": {
        "id": "VyioW0fe-u2k"
      }
    },
    {
      "cell_type": "markdown",
      "source": [
        "## 파일처리"
      ],
      "metadata": {
        "id": "MlG9owKO_xqc"
      }
    },
    {
      "cell_type": "markdown",
      "source": [
        "## 제너레이터"
      ],
      "metadata": {
        "id": "gy7mWjOM_8QC"
      }
    },
    {
      "cell_type": "markdown",
      "source": [
        "## 모듈"
      ],
      "metadata": {
        "id": "apxQih6PAqmZ"
      }
    },
    {
      "cell_type": "markdown",
      "source": [
        "## 클래스"
      ],
      "metadata": {
        "id": "JW35qkeyAu0B"
      }
    },
    {
      "cell_type": "code",
      "source": [],
      "metadata": {
        "id": "rO7sTuDrApXP"
      },
      "execution_count": null,
      "outputs": []
    }
  ]
}