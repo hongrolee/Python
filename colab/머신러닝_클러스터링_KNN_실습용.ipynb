{
  "nbformat": 4,
  "nbformat_minor": 0,
  "metadata": {
    "colab": {
      "provenance": [],
      "toc_visible": true,
      "mount_file_id": "1877RXbJdsaEPEjNt6ac2z37THAHSaEqg",
      "authorship_tag": "ABX9TyMUXscVB6QmdCOb+VETx9Ue",
      "include_colab_link": true
    },
    "kernelspec": {
      "name": "python3",
      "display_name": "Python 3"
    },
    "language_info": {
      "name": "python"
    }
  },
  "cells": [
    {
      "cell_type": "markdown",
      "metadata": {
        "id": "view-in-github",
        "colab_type": "text"
      },
      "source": [
        "<a href=\"https://colab.research.google.com/github/hongrolee/Python/blob/main/colab/%EB%A8%B8%EC%8B%A0%EB%9F%AC%EB%8B%9D_%ED%81%B4%EB%9F%AC%EC%8A%A4%ED%84%B0%EB%A7%81_KNN_%EC%8B%A4%EC%8A%B5%EC%9A%A9.ipynb\" target=\"_parent\"><img src=\"https://colab.research.google.com/assets/colab-badge.svg\" alt=\"Open In Colab\"/></a>"
      ]
    },
    {
      "cell_type": "markdown",
      "metadata": {
        "id": "1Gog_UfI1M7I"
      },
      "source": [
        "## SetUp"
      ]
    },
    {
      "cell_type": "code",
      "execution_count": null,
      "metadata": {
        "id": "8yDb8xKS1M7J",
        "colab": {
          "base_uri": "https://localhost:8080/"
        },
        "outputId": "24d48ced-ed19-4c23-eebe-f5b77f30fdc0"
      },
      "outputs": [
        {
          "output_type": "stream",
          "name": "stdout",
          "text": [
            "Drive already mounted at /content/drive; to attempt to forcibly remount, call drive.mount(\"/content/drive\", force_remount=True).\n"
          ]
        }
      ],
      "source": [
        "import os\n",
        "import numpy as np\n",
        "import matplotlib\n",
        "import matplotlib.pyplot as plt\n",
        "\n",
        "# 일관된 출력을 위해 유사난수 초기화\n",
        "np.random.seed(42)\n",
        "\n",
        "plt.rcParams['axes.labelsize'] = 14\n",
        "plt.rcParams['xtick.labelsize'] = 12\n",
        "plt.rcParams['ytick.labelsize'] = 12\n",
        "# sn.set()\n",
        "\n",
        "# 폰트출력\n",
        "plt.rcParams['font.family'] = 'serif'\n",
        "plt.rcParams['font.serif'] = ['Times New Roman'] + plt.rcParams['font.serif']\n",
        "\n",
        "# 구글 드라이브 연결\n",
        "from google.colab import drive\n",
        "drive.mount('/content/drive')\n",
        "\n",
        "import warnings\n",
        "warnings.filterwarnings(action='ignore')\n",
        "warnings.filterwarnings(action='ignore', category=DeprecationWarning)"
      ]
    },
    {
      "cell_type": "markdown",
      "source": [
        "# **1. 클러스터링**"
      ],
      "metadata": {
        "id": "iQJo2QPvtLWP"
      }
    },
    {
      "cell_type": "markdown",
      "metadata": {
        "id": "gPJ0mIpixFyO"
      },
      "source": [
        "## 1) 과일 사진 데이터 준비하기"
      ]
    },
    {
      "cell_type": "code",
      "execution_count": null,
      "metadata": {
        "id": "EV7nNSwjy9Ws"
      },
      "outputs": [],
      "source": [
        "# 데이터 읽어오기\n",
        "import numpy as np\n",
        "import matplotlib.pyplot as plt\n",
        "\n",
        "fruits = np.load('/content/drive/MyDrive/Colab Notebooks/csv/fruits_300.npy')"
      ]
    },
    {
      "cell_type": "code",
      "execution_count": null,
      "metadata": {
        "id": "t_2KB59g2uVW"
      },
      "outputs": [],
      "source": [
        "# 데이터 크기 확인(shape)\n"
      ]
    },
    {
      "cell_type": "code",
      "execution_count": null,
      "metadata": {
        "id": "G3sDNCGvuffi"
      },
      "outputs": [],
      "source": [
        "# 데이터 value 확인\n"
      ]
    },
    {
      "cell_type": "code",
      "execution_count": null,
      "metadata": {
        "id": "P5LXzs_W3BKa"
      },
      "outputs": [],
      "source": [
        "# 이미지 출력해 보기\n"
      ]
    },
    {
      "cell_type": "code",
      "execution_count": null,
      "metadata": {
        "id": "BlTcXONjZRlK"
      },
      "outputs": [],
      "source": [
        "# cmap을 바꿔 이미지 출력해 보기(gray_r)\n"
      ]
    },
    {
      "cell_type": "code",
      "source": [
        "# cmap의 종류 알아보기\n"
      ],
      "metadata": {
        "id": "TymBIwO96qcJ"
      },
      "execution_count": null,
      "outputs": []
    },
    {
      "cell_type": "code",
      "execution_count": null,
      "metadata": {
        "id": "e-3XLg26ZonQ"
      },
      "outputs": [],
      "source": [
        "# 클래스 확인\n"
      ]
    },
    {
      "cell_type": "markdown",
      "metadata": {
        "id": "4qRSenHBLmW8"
      },
      "source": [
        "## 2) 픽셀 값 분석하기"
      ]
    },
    {
      "cell_type": "code",
      "execution_count": null,
      "metadata": {
        "id": "oI9jVGjIw2Zk"
      },
      "outputs": [],
      "source": [
        "# 각각의 클래스를 분리 후, 3차원에서 2차원 배열로 변환\n"
      ]
    },
    {
      "cell_type": "code",
      "execution_count": null,
      "metadata": {
        "id": "Pbc4AxxSEFo4"
      },
      "outputs": [],
      "source": [
        "# 잘 변환되었는지 shape 확인\n"
      ]
    },
    {
      "cell_type": "code",
      "execution_count": null,
      "metadata": {
        "id": "we31oqAg0JIl"
      },
      "outputs": [],
      "source": [
        "# 사과 데이터의 평균값 확인\n"
      ]
    },
    {
      "cell_type": "code",
      "execution_count": null,
      "metadata": {
        "id": "6Ty1oMn3wEC8"
      },
      "outputs": [],
      "source": [
        "# 히스토그램 그래프로 각 클래스의 픽셀값 분포 확인\n"
      ]
    },
    {
      "cell_type": "code",
      "execution_count": null,
      "metadata": {
        "id": "ZgZgRydTwTbU"
      },
      "outputs": [],
      "source": [
        "# 각 샘플들의 평균값 분포 확인\n"
      ]
    },
    {
      "cell_type": "code",
      "source": [
        "# 각 클래스의 특성을 기준으로 평균값을 내어 100x100 2차원 배열로 변환\n"
      ],
      "metadata": {
        "id": "_xR4umPCcxhi"
      },
      "execution_count": null,
      "outputs": []
    },
    {
      "cell_type": "code",
      "execution_count": null,
      "metadata": {
        "id": "BkHjtTJBZ6Zk"
      },
      "outputs": [],
      "source": [
        "# 평균값들을 이미지로 출력하여 분석\n"
      ]
    },
    {
      "cell_type": "markdown",
      "metadata": {
        "id": "tG9N3-kirpqA"
      },
      "source": [
        "## 3) 평균값과 가까운 사진 고르기"
      ]
    },
    {
      "cell_type": "code",
      "execution_count": null,
      "metadata": {
        "id": "qfV19WdxS0HI"
      },
      "outputs": [],
      "source": [
        "# 전체 샘플과 사과의 평균값과의 차이를 도출하고 차영상 출력\n"
      ]
    },
    {
      "cell_type": "code",
      "source": [
        "# 차영상들의 평균값 도출\n"
      ],
      "metadata": {
        "id": "0j3u2vkMA3Zl"
      },
      "execution_count": null,
      "outputs": []
    },
    {
      "cell_type": "code",
      "execution_count": null,
      "metadata": {
        "id": "s2cSX4JZh1TJ"
      },
      "outputs": [],
      "source": [
        "# 정렬을 통해 사과와 가장 차이가 적은 인덱스 값들 도출, 그리고 출력\n"
      ]
    },
    {
      "cell_type": "markdown",
      "metadata": {
        "id": "BHE4sBFg71zv"
      },
      "source": [
        "## <실습> 바나나 데이터를 동일하게 적용하여 출력해보기"
      ]
    },
    {
      "cell_type": "code",
      "execution_count": null,
      "metadata": {
        "id": "WdIHbwICMTPq"
      },
      "outputs": [],
      "source": [
        "# 이번에는 바나나 데이터를 동일하게 적용\n"
      ]
    },
    {
      "cell_type": "markdown",
      "source": [
        "## <실습> 파인애플 데이터에 대해서도 동일하게 적용시켜보기"
      ],
      "metadata": {
        "id": "YeO4A3eMegyl"
      }
    },
    {
      "cell_type": "code",
      "source": [
        "# 이번에는 v파인애플 데이터를 동일하게 적용\n"
      ],
      "metadata": {
        "id": "a6J7HIT6s4yw"
      },
      "execution_count": null,
      "outputs": []
    },
    {
      "cell_type": "markdown",
      "metadata": {
        "id": "zEbKQrn9sdN7"
      },
      "source": [
        "# **2. kNN 및 k-Means**"
      ]
    },
    {
      "cell_type": "markdown",
      "source": [
        "## 1) kNN"
      ],
      "metadata": {
        "id": "F6vulQetumVq"
      }
    },
    {
      "cell_type": "code",
      "source": [
        "#import the mnist dastaser from sklearn\n",
        "from sklearn.datasets import fetch_openml\n",
        "mnist = fetch_openml(\"mnist_784\", as_frame=False, version=1)"
      ],
      "metadata": {
        "colab": {
          "base_uri": "https://localhost:8080/"
        },
        "id": "m17CIBJyc1Fa",
        "outputId": "79d644a0-42e1-4d6a-aea7-31e087764ae1"
      },
      "execution_count": null,
      "outputs": [
        {
          "output_type": "stream",
          "name": "stderr",
          "text": [
            "/usr/local/lib/python3.10/dist-packages/sklearn/datasets/_openml.py:968: FutureWarning: The default value of `parser` will change from `'liac-arff'` to `'auto'` in 1.4. You can set `parser='auto'` to silence this warning. Therefore, an `ImportError` will be raised from 1.4 if the dataset is dense and pandas is not installed. Note that the pandas parser may return different data types. See the Notes Section in fetch_openml's API doc for details.\n",
            "  warn(\n"
          ]
        }
      ]
    },
    {
      "cell_type": "code",
      "source": [
        "X,y = mnist[\"data\"], mnist[\"target\"]"
      ],
      "metadata": {
        "id": "sgW0eVJgfW57"
      },
      "execution_count": null,
      "outputs": []
    },
    {
      "cell_type": "code",
      "source": [
        "import matplotlib\n",
        "import matplotlib.pyplot as plt\n",
        "random_digit = X[360]\n",
        "random_digit_image = random_digit.reshape(28,28)\n",
        "plt.imshow(random_digit_image, cmap = matplotlib.cm.binary, interpolation = \"nearest\")\n",
        "plt.axis(\"off\")\n",
        "plt.show()"
      ],
      "metadata": {
        "colab": {
          "base_uri": "https://localhost:8080/",
          "height": 406
        },
        "id": "f56WHtB5fZ7l",
        "outputId": "27bc00cd-80d3-4618-afd1-3122296d5645"
      },
      "execution_count": null,
      "outputs": [
        {
          "output_type": "display_data",
          "data": {
            "text/plain": [
              "<Figure size 640x480 with 1 Axes>"
            ],
            "image/png": "[encoded data removed]"
          },
          "metadata": {}
        }
      ]
    },
    {
      "cell_type": "code",
      "source": [
        "from sklearn.model_selection import train_test_split\n",
        "(train_X, test_X, train_y, test_y) = train_test_split(X, y, test_size=0.25, random_state=42)"
      ],
      "metadata": {
        "id": "_XkO73Vjh782"
      },
      "execution_count": null,
      "outputs": []
    },
    {
      "cell_type": "code",
      "source": [
        "from sklearn.neighbors import KNeighborsClassifier\n",
        "k = 5\n",
        "model = KNeighborsClassifier(n_neighbors = k)\n",
        "model.fit(train_X,train_y)\n",
        "\n",
        "score = model.score(test_X,test_y)\n",
        "print(\" k=\", k, \" and the accuracy is \",score*100)"
      ],
      "metadata": {
        "colab": {
          "base_uri": "https://localhost:8080/"
        },
        "id": "mHULwQ2RiE9_",
        "outputId": "caebfaff-93ed-43e1-fde4-51459d8497da"
      },
      "execution_count": null,
      "outputs": [
        {
          "output_type": "stream",
          "name": "stdout",
          "text": [
            " k= 5  and the accuracy is  96.92571428571428\n"
          ]
        }
      ]
    },
    {
      "cell_type": "markdown",
      "source": [
        "최적의 K값은 어떻게 찾을 것인가?"
      ],
      "metadata": {
        "id": "lQFg3MaclPu1"
      }
    },
    {
      "cell_type": "code",
      "source": [
        "import sklearn\n",
        "from sklearn.metrics import accuracy_score\n",
        "from sklearn.model_selection import GridSearchCV\n",
        "import numpy as np\n",
        "\n",
        "model = KNeighborsClassifier(n_neighbors=2,n_jobs=1)\n",
        "model.fit(train_X, train_y)\n",
        "\n",
        "accuracy = accuracy_score(model.predict(test_X), test_y)\n",
        "print(accuracy)\n",
        "n_neighbors = np.array([7,8,9,10,12,15,20])\n",
        "param_grid = dict(n_neighbors=n_neighbors)\n",
        "grid = GridSearchCV(estimator=model, param_grid=param_grid)\n",
        "grid.fit(train_X, train_y)\n",
        "print(grid.best_score_)\n",
        "print(grid.best_estimator_.n_neighbors)"
      ],
      "metadata": {
        "colab": {
          "base_uri": "https://localhost:8080/"
        },
        "id": "5WJELHbkkw9n",
        "outputId": "16e65632-e7f6-436b-ceb2-ad36f8ebfed4"
      },
      "execution_count": null,
      "outputs": [
        {
          "output_type": "stream",
          "name": "stdout",
          "text": [
            "0.9636571428571429\n",
            "0.9674666666666667\n",
            "7\n"
          ]
        }
      ]
    },
    {
      "cell_type": "code",
      "source": [
        "print(grid.best_estimator_)"
      ],
      "metadata": {
        "colab": {
          "base_uri": "https://localhost:8080/"
        },
        "id": "LBVoaWL6o-bX",
        "outputId": "cc0d6f4f-59ac-43b5-9099-b7f8f6d246b9"
      },
      "execution_count": null,
      "outputs": [
        {
          "output_type": "stream",
          "name": "stdout",
          "text": [
            "KNeighborsClassifier(n_jobs=1, n_neighbors=7)\n"
          ]
        }
      ]
    },
    {
      "cell_type": "markdown",
      "metadata": {
        "id": "jC6ygN4MrOAL"
      },
      "source": [
        "## 2) k-Means"
      ]
    },
    {
      "cell_type": "markdown",
      "source": [
        "### 데이터 로드 및 분석"
      ],
      "metadata": {
        "id": "t6w5mSzvuIzh"
      }
    },
    {
      "cell_type": "code",
      "execution_count": null,
      "metadata": {
        "id": "OS3nLFQrkBpO"
      },
      "outputs": [],
      "source": [
        "# fruits 샘플들을 100x100의 1차원 배열로 변환\n"
      ]
    },
    {
      "cell_type": "code",
      "execution_count": null,
      "metadata": {
        "id": "_IygCpSqk_TS"
      },
      "outputs": [],
      "source": [
        "# KMeans를 적용하여 영상 분류\n"
      ]
    },
    {
      "cell_type": "code",
      "execution_count": null,
      "metadata": {
        "id": "aRmNuAkLsHkv"
      },
      "outputs": [],
      "source": [
        "# 분류된 레이블 확인\n"
      ]
    },
    {
      "cell_type": "code",
      "execution_count": null,
      "metadata": {
        "id": "_DytYz46lJ5F"
      },
      "outputs": [],
      "source": [
        "# 레이블의 종류 및 개수 확인\n"
      ]
    },
    {
      "cell_type": "code",
      "execution_count": null,
      "metadata": {
        "id": "lgA4Yvs2lZt7"
      },
      "outputs": [],
      "source": [
        "# 과일 영상 출력해 보기\n",
        "import matplotlib.pyplot as plt\n",
        "\n",
        "# array를 입력받아 과일 영상들을 출력하는 함수\n",
        "def draw_fruits(arr, ratio=1):\n",
        "\n",
        "    # 샘플 개수 도출\n",
        "    n = len(arr)\n",
        "\n",
        "    # 한 줄에 10개씩 이미지를 그리기 위해 샘플 개수를 10으로 나누어 전체 행 개수를 계산\n",
        "    rows = int(np.ceil(n/10))\n",
        "\n",
        "    # 열의 개수 계산\n",
        "    cols = n if rows < 2 else 10\n",
        "\n",
        "    # subplots 영상 생성\n",
        "    fig, axs = plt.subplots(rows, cols,\n",
        "                            figsize=(cols*ratio, rows*ratio), squeeze=False)\n",
        "\n",
        "    # 반복하며 영상 출력\n",
        "    for i in range(rows):\n",
        "        for j in range(cols):\n",
        "            if i*10 + j < n:    # n 개까지만 출력\n",
        "                axs[i, j].imshow(arr[i*10 + j], cmap='gray_r')\n",
        "            axs[i, j].axis('off')\n",
        "    plt.show()"
      ]
    },
    {
      "cell_type": "code",
      "execution_count": null,
      "metadata": {
        "id": "WHK0oGUPnJpF"
      },
      "outputs": [],
      "source": [
        "# 레이블이 0인 영상들 출력\n"
      ]
    },
    {
      "cell_type": "code",
      "execution_count": null,
      "metadata": {
        "id": "LuFUaspuof6U"
      },
      "outputs": [],
      "source": [
        "# 레이블이 1인 영상들 출력\n"
      ]
    },
    {
      "cell_type": "code",
      "execution_count": null,
      "metadata": {
        "id": "YKvXpsGSoBc6"
      },
      "outputs": [],
      "source": [
        "# 레이블이 2인 영상들 출력\n"
      ]
    },
    {
      "cell_type": "markdown",
      "metadata": {
        "id": "K3vxqJSX4icI"
      },
      "source": [
        "### 클러스터 중심"
      ]
    },
    {
      "cell_type": "code",
      "execution_count": null,
      "metadata": {
        "colab": {
          "base_uri": "https://localhost:8080/",
          "height": 242
        },
        "id": "3Tvd1KNNunV6",
        "outputId": "8343488e-2d5d-4d66-fe91-04a84063afbb"
      },
      "outputs": [
        {
          "output_type": "display_data",
          "data": {
            "text/plain": [
              "<Figure size 900x300 with 3 Axes>"
            ],
            "image/png": "[encoded data removed]"
          },
          "metadata": {}
        }
      ],
      "source": [
        "# 클래스별 클러스터 중심 영상들 출력\n"
      ]
    },
    {
      "cell_type": "code",
      "execution_count": null,
      "metadata": {
        "id": "KpaCbBizo1aR"
      },
      "outputs": [],
      "source": [
        "# 인덱스 100번 훈련데이터 샘플에서 클러스터 중심까지의 거리 출력\n"
      ]
    },
    {
      "cell_type": "code",
      "execution_count": null,
      "metadata": {
        "id": "G34yvcvtmoqu"
      },
      "outputs": [],
      "source": [
        "# 인덱스 100번 훈련데이터 샘플의 레이블 예측해 보기\n"
      ]
    },
    {
      "cell_type": "code",
      "execution_count": null,
      "metadata": {
        "id": "2jfRhmMOoOEs"
      },
      "outputs": [],
      "source": [
        "# 인덱스 100번 훈련데이터 샘플 영상 출력해 보기\n"
      ]
    },
    {
      "cell_type": "code",
      "execution_count": null,
      "metadata": {
        "id": "BK7urJ9N2Xqt"
      },
      "outputs": [],
      "source": [
        "# 알고리즘이 반복한 횟수 확인\n"
      ]
    },
    {
      "cell_type": "markdown",
      "metadata": {
        "id": "atIPO-MPiCFo"
      },
      "source": [
        "### 최적의 k 찾기\n",
        "* 이너셔(inertia) : 클러스터 중심과 클러스터에 속한 샘플 사이의 거리의 제곱합"
      ]
    },
    {
      "cell_type": "code",
      "execution_count": null,
      "metadata": {
        "id": "FwU_s1Tnu9lS"
      },
      "outputs": [],
      "source": [
        "# 최적의 K를 찾기 위한 그래프 그리기\n"
      ]
    },
    {
      "cell_type": "markdown",
      "metadata": {
        "id": "OYTpQQ5-1I0O"
      },
      "source": [
        "# **3. PCA**"
      ]
    },
    {
      "cell_type": "code",
      "execution_count": null,
      "metadata": {
        "id": "B1tKMFtC4CqL"
      },
      "outputs": [],
      "source": [
        "# PCA를 사용하여 학습\n"
      ]
    },
    {
      "cell_type": "code",
      "execution_count": null,
      "metadata": {
        "id": "jbZoUZmU8GC2"
      },
      "outputs": [],
      "source": [
        "# 주성분 개수 확인\n"
      ]
    },
    {
      "cell_type": "code",
      "execution_count": null,
      "metadata": {
        "id": "Ju7xKMHk8jlN"
      },
      "outputs": [],
      "source": [
        "# 주성분 영상으로 출력해 보기\n"
      ]
    },
    {
      "cell_type": "markdown",
      "source": [
        "> fruits_2d와 fruits_pca 크기 비교해 보기"
      ],
      "metadata": {
        "id": "47F5DU3MrYio"
      }
    },
    {
      "cell_type": "code",
      "execution_count": null,
      "metadata": {
        "id": "vZEw0JyNpa1X"
      },
      "outputs": [],
      "source": [
        "# fruits_2d 크기 확인\n"
      ]
    },
    {
      "cell_type": "code",
      "execution_count": null,
      "metadata": {
        "id": "CH_x8Qom4yKI"
      },
      "outputs": [],
      "source": [
        "# pca 변환 수행\n"
      ]
    },
    {
      "cell_type": "code",
      "execution_count": null,
      "metadata": {
        "id": "fCd2bl-T6FC5"
      },
      "outputs": [],
      "source": [
        "# fruits_pca 크기 확인\n"
      ]
    },
    {
      "cell_type": "markdown",
      "metadata": {
        "id": "lwRn5UOEtiXE"
      },
      "source": [
        "## 1) 원본 데이터 재구성"
      ]
    },
    {
      "cell_type": "code",
      "execution_count": null,
      "metadata": {
        "id": "MiegTreJ9AXw"
      },
      "outputs": [],
      "source": [
        "# pca변환된 데이터를 원본 데이터로 재변환\n"
      ]
    },
    {
      "cell_type": "code",
      "execution_count": null,
      "metadata": {
        "id": "LcKji-ituy3f"
      },
      "outputs": [],
      "source": [
        "# 영상 출력을 위해 reshape(-1,100,100)\n"
      ]
    },
    {
      "cell_type": "code",
      "execution_count": null,
      "metadata": {
        "id": "jjzuc2az9C5e"
      },
      "outputs": [],
      "source": [
        "# 재변환된 영상 출력\n"
      ]
    },
    {
      "cell_type": "markdown",
      "source": [],
      "metadata": {
        "id": "VLtEOUkmqEX8"
      }
    },
    {
      "cell_type": "markdown",
      "metadata": {
        "id": "ARhiLn1m2Ra1"
      },
      "source": [
        "## 2) 설명된 분산\n",
        "* 주성분이 원본 데이터의 분산을 얼마나 잘 나타내는지 기록한 값을 **설명된 분산(explained variance)**라고 함.\n",
        "* PCA클래스의 explained_variance_ratio_에 각 주성분의 설명된 분산 비율이 기록\n",
        "* 첫번째 주성분에 가장 큰 설명된 분산 값이 포함되고, 모두 합산하면 총 분산 비율을 얻을 수 있음"
      ]
    },
    {
      "cell_type": "code",
      "execution_count": null,
      "metadata": {
        "id": "i0667z-Hwx9Y"
      },
      "outputs": [],
      "source": [
        "# 설명된 분산의 합산값 도출\n"
      ]
    },
    {
      "cell_type": "code",
      "execution_count": null,
      "metadata": {
        "id": "MxYkugL84tH8"
      },
      "outputs": [],
      "source": [
        "# 설명된 분산 값 그래프로 출력\n"
      ]
    },
    {
      "cell_type": "markdown",
      "metadata": {
        "id": "7Ekr5U6R6UNO"
      },
      "source": [
        "## 3) 다른 알고리즘과 함께 사용하기\n",
        "* PCA로 축소한 데이터를 지도학습에 적용하여 어떤 차이가 있는지 확인"
      ]
    },
    {
      "cell_type": "markdown",
      "source": [
        "> 로지스틱회귀 모델을 적용하여 분류"
      ],
      "metadata": {
        "id": "np2BG8fv2nCH"
      }
    },
    {
      "cell_type": "code",
      "execution_count": null,
      "metadata": {
        "id": "abEPOUXR6GaQ"
      },
      "outputs": [],
      "source": [
        "# 로지스틱회귀 모델 생성\n"
      ]
    },
    {
      "cell_type": "code",
      "execution_count": null,
      "metadata": {
        "id": "g5AzDXd06PCO"
      },
      "outputs": [],
      "source": [
        "# 타겟값 생성\n"
      ]
    },
    {
      "cell_type": "code",
      "execution_count": null,
      "metadata": {
        "id": "eksgBJHM6TnQ"
      },
      "outputs": [],
      "source": [
        "# 원본 데이터를 이용하고, 교차검증을 통한 성능 측정 (test_score 및 fit_time)\n"
      ]
    },
    {
      "cell_type": "code",
      "execution_count": null,
      "metadata": {
        "id": "v4LViFYT0s-F"
      },
      "outputs": [],
      "source": [
        "# PCA 데이터를 이용하고, 교차검증을 통한 성능 측정 (test_score 및 fit_time)\n"
      ]
    },
    {
      "cell_type": "code",
      "execution_count": null,
      "metadata": {
        "id": "7pYqYMqT7dko"
      },
      "outputs": [],
      "source": [
        "# 주성분의 개수 대신 원하는 <설명된 분산>값의 입력을 통한 PCA 학습\n"
      ]
    },
    {
      "cell_type": "code",
      "execution_count": null,
      "metadata": {
        "id": "lBNLzuvn77aU"
      },
      "outputs": [],
      "source": [
        "# 생성된 PCA컴포넌트 개수 확인\n"
      ]
    },
    {
      "cell_type": "code",
      "execution_count": null,
      "metadata": {
        "id": "fOsFDbdMDYbZ"
      },
      "outputs": [],
      "source": [
        "# 변환된 데이터의 크기 확인\n"
      ]
    },
    {
      "cell_type": "code",
      "execution_count": null,
      "metadata": {
        "id": "0vkCS3_Q7-0M"
      },
      "outputs": [],
      "source": [
        "# 교차검증을 통한 성능 측정('test_score', 'fit_time')\n"
      ]
    },
    {
      "cell_type": "markdown",
      "source": [
        "> k-means 알고리즘을 적용하여 분류"
      ],
      "metadata": {
        "id": "QlOwLZPt2bS-"
      }
    },
    {
      "cell_type": "code",
      "execution_count": null,
      "metadata": {
        "id": "AbgpgCl0DC4E"
      },
      "outputs": [],
      "source": [
        "# k-means 모델 생성 및 훈련\n"
      ]
    },
    {
      "cell_type": "code",
      "execution_count": null,
      "metadata": {
        "id": "h3pYRKL5DOV2"
      },
      "outputs": [],
      "source": [
        "# 도출된 레이블 및 개수 확인\n"
      ]
    },
    {
      "cell_type": "code",
      "execution_count": null,
      "metadata": {
        "id": "wAtTYK9zDRF9"
      },
      "outputs": [],
      "source": [
        "# 결과 영상 모두 출력\n"
      ]
    },
    {
      "cell_type": "code",
      "execution_count": null,
      "metadata": {
        "id": "alRxf4FNEKlC"
      },
      "outputs": [],
      "source": [
        "# 그래프로 3개의 클래스 출력\n"
      ]
    }
  ]
}