{
  "nbformat": 4,
  "nbformat_minor": 0,
  "metadata": {
    "colab": {
      "provenance": [],
      "mount_file_id": "1tetyHG35AslyJR156Ln7HkXjM3BuaTuT",
      "authorship_tag": "ABX9TyO2u3bsU/nPAa78hMbE/HW1",
      "include_colab_link": true
    },
    "kernelspec": {
      "name": "python3",
      "display_name": "Python 3"
    },
    "language_info": {
      "name": "python"
    }
  },
  "cells": [
    {
      "cell_type": "markdown",
      "metadata": {
        "id": "view-in-github",
        "colab_type": "text"
      },
      "source": [
        "<a href=\"https://colab.research.google.com/github/hongrolee/Python/blob/main/colab/%EB%A8%B8%EC%8B%A0%EB%9F%AC%EB%8B%9D_ML_%EB%AA%A8%EB%8D%B8%EC%9D%84_%EC%9D%B4%EC%9A%A9%ED%95%9C_%EC%9B%B9%EC%84%9C%EB%B9%84%EC%8A%A4_%EC%8B%A4%EC%8A%B5%EC%9A%A9.ipynb\" target=\"_parent\"><img src=\"https://colab.research.google.com/assets/colab-badge.svg\" alt=\"Open In Colab\"/></a>"
      ]
    },
    {
      "cell_type": "markdown",
      "source": [
        "# **<실습> 물고기의 무게를 예측해 주는 웹서비스를 제작해 봅시다.**\n",
        "\n",
        "*   입력 : 물고기 길이, 높이, 두께\n",
        "*   출력 : 물고기 무게\n",
        "\n"
      ],
      "metadata": {
        "id": "LsVJfVpUuZec"
      }
    },
    {
      "cell_type": "code",
      "execution_count": null,
      "metadata": {
        "id": "h_z3eAOcuXwY"
      },
      "outputs": [],
      "source": [
        "import pandas as pd\n",
        "import numpy as np\n",
        "\n",
        "df = pd.read_csv('/content/drive/MyDrive/Colab Notebooks/csv/fish_full.csv')\n",
        "fish_full = df.to_numpy()\n",
        "\n",
        "fish_weight = np.array(\n",
        "    [5.9, 32.0, 40.0, 51.5, 70.0, 100.0, 78.0, 80.0, 85.0, 85.0,\n",
        "     110.0, 115.0, 125.0, 130.0, 120.0, 120.0, 130.0, 135.0, 110.0,\n",
        "     130.0, 150.0, 145.0, 150.0, 170.0, 225.0, 145.0, 188.0, 180.0,\n",
        "     197.0, 218.0, 300.0, 260.0, 265.0, 250.0, 250.0, 300.0, 320.0,\n",
        "     514.0, 556.0, 840.0, 685.0, 700.0, 700.0, 690.0, 900.0, 650.0,\n",
        "     820.0, 850.0, 900.0, 1015.0, 820.0, 1100.0, 1000.0, 1100.0,\n",
        "     1000.0, 1000.0]\n",
        "     )\n",
        "\n",
        "# 훈련 및 테스트 세트 분리\n",
        "from sklearn.model_selection import train_test_split\n",
        "X_train, X_test, y_train, y_test = train_test_split(\n",
        "    fish_full, fish_weight, random_state=42)\n",
        "\n",
        "# # 선형 회귀 모델로 학습\n",
        "# from sklearn.linear_model import LinearRegression\n",
        "# model = LinearRegression()\n",
        "# model.fit(X_train, y_train)\n",
        "# print(model.score(X_train, y_train))\n",
        "# print(model.score(X_test, y_test))\n",
        "\n",
        "# PolynomialFeatures로 다항 파라미터 생성\n",
        "from sklearn.preprocessing import PolynomialFeatures\n",
        "poly = PolynomialFeatures(degree=5, include_bias=False)\n",
        "poly.fit(X_train)\n",
        "train_poly = poly.transform(X_train)\n",
        "test_poly = poly.transform(X_test)\n",
        "\n",
        "# 규제 적용\n",
        "from sklearn.preprocessing import StandardScaler\n",
        "ss = StandardScaler()\n",
        "ss.fit(train_poly)\n",
        "train_scaled = ss.transform(train_poly)\n",
        "test_scaled = ss.transform(test_poly)\n",
        "\n",
        "# 릿지 회귀 적용\n",
        "from sklearn.linear_model import Ridge\n",
        "model = Ridge()\n",
        "model.fit(train_scaled, y_train)\n",
        "print(model.score(train_scaled, y_train))\n",
        "\n",
        "# 모델 저장하기\n",
        "import joblib\n",
        "joblib.dump(model, \"fish_weight_model.pkl\")\n",
        "joblib.dump(ss, \"fish_weight_std.pkl\")\n",
        "joblib.dump(ss, \"fish_weight_poly.pkl\")\n"
      ]
    }
  ]
}