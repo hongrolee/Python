{
  "nbformat": 4,
  "nbformat_minor": 0,
  "metadata": {
    "colab": {
      "provenance": [],
      "toc_visible": true,
      "authorship_tag": "ABX9TyMgZZzu3dSgBKfQC7cKn1L2",
      "include_colab_link": true
    },
    "kernelspec": {
      "name": "python3",
      "display_name": "Python 3"
    },
    "language_info": {
      "name": "python"
    }
  },
  "cells": [
    {
      "cell_type": "markdown",
      "metadata": {
        "id": "view-in-github",
        "colab_type": "text"
      },
      "source": [
        "<a href=\"https://colab.research.google.com/github/hongrolee/Python-Basic/blob/main/colab/%ED%8C%8C%EC%9D%B4%EC%8D%AC%20%EC%A4%91%EA%B8%89-numpy.ipynb\" target=\"_parent\"><img src=\"https://colab.research.google.com/assets/colab-badge.svg\" alt=\"Open In Colab\"/></a>"
      ]
    },
    {
      "cell_type": "markdown",
      "source": [
        "# Numpy 기초"
      ],
      "metadata": {
        "id": "y-3ErRH4VGoj"
      }
    },
    {
      "cell_type": "markdown",
      "source": [
        "## Numpy 개념\n",
        "\n",
        "* Numerical Python의 약자\n",
        "* 파이썬에서 배열 처리에 유용한 라이브러리\n",
        "* 배열 계산에 최적화된 방식과 빠른 처리 속도를 자랑함\n",
        "\n"
      ],
      "metadata": {
        "id": "vOd6SonrS5Dz"
      }
    },
    {
      "cell_type": "markdown",
      "source": [
        "## Numpy 특징\n",
        "\n",
        "* 처리 속도가 빠르며, 유연한 연산 제공\n",
        "* 배열 내용을 한번에 디스크에 저장 및 불러오기 기능 제공\n",
        "* C/C++로 작성한 코드와 연결 가능\n",
        "* pandas, OpenCV 등 유명한 라이브러리가 numpy를 기반으로 작성\n",
        "\n"
      ],
      "metadata": {
        "id": "gOKh_QQlS8R5"
      }
    },
    {
      "cell_type": "markdown",
      "source": [
        "## Numpy 설치\n",
        "- pip install numpy"
      ],
      "metadata": {
        "id": "ui0_xQfcUOjF"
      }
    },
    {
      "cell_type": "code",
      "execution_count": 2,
      "metadata": {
        "id": "uLg5K_xFR5Cn",
        "outputId": "280342e7-7b7c-415d-99b8-106706bbd438",
        "colab": {
          "base_uri": "https://localhost:8080/"
        }
      },
      "outputs": [
        {
          "output_type": "stream",
          "name": "stdout",
          "text": [
            "Looking in indexes: https://pypi.org/simple, https://us-python.pkg.dev/colab-wheels/public/simple/\n",
            "Requirement already satisfied: numpy in /usr/local/lib/python3.10/dist-packages (1.22.4)\n"
          ]
        }
      ],
      "source": [
        "!pip install numpy"
      ]
    },
    {
      "cell_type": "markdown",
      "source": [
        "## import"
      ],
      "metadata": {
        "id": "MYQK6R84U_0O"
      }
    },
    {
      "cell_type": "code",
      "source": [
        "import numpy as np"
      ],
      "metadata": {
        "id": "0eu19qQBXXsk"
      },
      "execution_count": 3,
      "outputs": []
    },
    {
      "cell_type": "markdown",
      "source": [
        "## 생성\n",
        "\n",
        "*   np.array() : 리스트를 넘파이 배열로 변환\n",
        "*   np.arange() : 연속된 값 생성, range와 유사\n",
        "*   np.one() : 1로 구성된 배열 생성\n",
        "*   np.zeros() : 0으로 구성된 배열 생성\n",
        "*   np.empty() : 빈 배열 생성(쓰레기값 포함)\n",
        "*   np.full() : 배열 생성시 파라미터 값으로 초기화\n",
        "*   np.identity() : 단위행렬 생성(대각선이 1로 채워짐)\n",
        "*   np.random.randint() : 임의의 정수값으로 생성, randint(0,255,size=(2,3))\n",
        "*   np.random.rand() : 임의의 실수값으로 생성(0~0.9999)\n",
        "\n",
        "*   생성시, 데이터 타입 지정 가능 : 예> dtype=np.float32\n",
        " - int8 ~ int64 : 부호있는 정수형\n",
        " - uint8 ~ uint64 : 부호없는 정수형\n",
        " - float16 ~ float128 : 부동 소수점\n",
        " - bool : True 또는 False\n",
        " - string_ : 영문 문자열\n",
        " - unicode_ : 한글을 포함한 기타 언어 문자열\n",
        "\n",
        "*   데이터 정보 확인 : 예>array.dtype\n",
        " - dtype : 데이터 타입\n",
        " - ndim : 배열의 차원\n",
        " - shape : 배열의 크기\n",
        "\n",
        "\n"
      ],
      "metadata": {
        "id": "N4JeDZTXVaMR"
      }
    },
    {
      "cell_type": "code",
      "source": [
        "list = [1,2,3,4,5]\n",
        "# print(list)\n",
        "# print(np.array(list))\n",
        "\n",
        "# print(np.arange(0,100,10))\n",
        "# print(np.ones((10,10))\n",
        "# print(np.zeros((10,10)))\n",
        "# print(np.empty((10,10)))\n",
        "# print(np.full(5,33))\n",
        "# print(np.identity(10))\n",
        "print(np.random.randint(0,255,size=(2,3)))\n",
        "# print(np.random.rand(10))\n",
        "\n",
        "# print(np.ones((10,10),dtype=np.float16))"
      ],
      "metadata": {
        "id": "-J2NdHmfXQz0",
        "outputId": "4d484963-4ca5-4ac8-aec5-ad6fe21c7e61",
        "colab": {
          "base_uri": "https://localhost:8080/"
        }
      },
      "execution_count": 51,
      "outputs": [
        {
          "output_type": "stream",
          "name": "stdout",
          "text": [
            "[[241  69  59]\n",
            " [ 80 174  71]]\n"
          ]
        }
      ]
    },
    {
      "cell_type": "markdown",
      "source": [
        "## 삽입\n",
        "*   리스트와 동일\n",
        "*   인덱스 활용\n",
        "\n"
      ],
      "metadata": {
        "id": "6oNTZvApeUU_"
      }
    },
    {
      "cell_type": "code",
      "source": [
        "array = np.arange(5,10,1)\n",
        "print(array)\n",
        "array[0] = 100\n",
        "print(array)"
      ],
      "metadata": {
        "id": "pfiWoy-eexWu",
        "outputId": "1fee8d5a-e568-40d0-f7dc-8793545d2e45",
        "colab": {
          "base_uri": "https://localhost:8080/"
        }
      },
      "execution_count": 62,
      "outputs": [
        {
          "output_type": "stream",
          "name": "stdout",
          "text": [
            "[5 6 7 8 9]\n",
            "[100   6   7   8   9]\n"
          ]
        }
      ]
    },
    {
      "cell_type": "markdown",
      "source": [
        "## 슬라이싱"
      ],
      "metadata": {
        "id": "duFJErf6ckl0"
      }
    },
    {
      "cell_type": "code",
      "source": [],
      "metadata": {
        "id": "kkqcPkweu6Kf"
      },
      "execution_count": null,
      "outputs": []
    },
    {
      "cell_type": "markdown",
      "source": [
        "# 유용한 함수"
      ],
      "metadata": {
        "id": "HlxtWilauDyj"
      }
    },
    {
      "cell_type": "markdown",
      "source": [
        "## reshape()\n",
        "- 1차원 배열을 2차원으로 변경 또는 2차원 배열을 1차원 배열로 변경\n",
        "\n",
        "*   1차원 -> 2차원 : reshape(행,열)\n",
        "*   2차원 -> 1차원 : reshape(크기)\n",
        "\n"
      ],
      "metadata": {
        "id": "jJnFRf5QXFeX"
      }
    }
  ]
}