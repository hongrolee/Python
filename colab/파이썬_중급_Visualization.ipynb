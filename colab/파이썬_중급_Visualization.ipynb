{
  "nbformat": 4,
  "nbformat_minor": 0,
  "metadata": {
    "colab": {
      "provenance": [],
      "authorship_tag": "ABX9TyPHyFm7PjpL6sbNZPUsHtki",
      "include_colab_link": true
    },
    "kernelspec": {
      "name": "python3",
      "display_name": "Python 3"
    },
    "language_info": {
      "name": "python"
    }
  },
  "cells": [
    {
      "cell_type": "markdown",
      "metadata": {
        "id": "view-in-github",
        "colab_type": "text"
      },
      "source": [
        "<a href=\"https://colab.research.google.com/github/hongrolee/Python/blob/main/colab/%ED%8C%8C%EC%9D%B4%EC%8D%AC_%EC%A4%91%EA%B8%89_Visualization.ipynb\" target=\"_parent\"><img src=\"https://colab.research.google.com/assets/colab-badge.svg\" alt=\"Open In Colab\"/></a>"
      ]
    },
    {
      "cell_type": "markdown",
      "source": [
        "# 1. Matplotlib"
      ],
      "metadata": {
        "id": "Q-FiRLp_Z620"
      }
    },
    {
      "cell_type": "markdown",
      "source": [
        "##1) 직선 그래프"
      ],
      "metadata": {
        "id": "NmyhJE1QaAgE"
      }
    },
    {
      "cell_type": "markdown",
      "source": [
        "##2) 점선 그래프"
      ],
      "metadata": {
        "id": "NbLqXk2FaCWJ"
      }
    },
    {
      "cell_type": "markdown",
      "source": [
        "##3) 막대 그래프"
      ],
      "metadata": {
        "id": "MFx-qa_taRyG"
      }
    },
    {
      "cell_type": "markdown",
      "source": [
        "##4) 3차원 그래프"
      ],
      "metadata": {
        "id": "nEX2plL1aWVB"
      }
    }
  ]
}