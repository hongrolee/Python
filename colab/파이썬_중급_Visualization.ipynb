{
  "nbformat": 4,
  "nbformat_minor": 0,
  "metadata": {
    "colab": {
      "provenance": [],
      "toc_visible": true,
      "authorship_tag": "ABX9TyMITJEl7LgY3T72t7VJZJoQ",
      "include_colab_link": true
    },
    "kernelspec": {
      "name": "python3",
      "display_name": "Python 3"
    },
    "language_info": {
      "name": "python"
    }
  },
  "cells": [
    {
      "cell_type": "markdown",
      "metadata": {
        "id": "view-in-github",
        "colab_type": "text"
      },
      "source": [
        "<a href=\"https://colab.research.google.com/github/hongrolee/Python/blob/main/colab/%ED%8C%8C%EC%9D%B4%EC%8D%AC_%EC%A4%91%EA%B8%89_Visualization.ipynb\" target=\"_parent\"><img src=\"https://colab.research.google.com/assets/colab-badge.svg\" alt=\"Open In Colab\"/></a>"
      ]
    },
    {
      "cell_type": "markdown",
      "source": [
        "# 1. Matplotlib\n",
        "\n",
        "*   데이터의 시각화를 위한 라이브러리\n",
        "*   장점 : 파이썬 기본 모듈, 무료이며 오픈소스, MATLAB의 강점 표방\n"
      ],
      "metadata": {
        "id": "Q-FiRLp_Z620"
      }
    },
    {
      "cell_type": "markdown",
      "source": [
        "##1) 직선 그래프\n",
        "\n",
        "*   <기본문법><br>plt.plot(x_list,y_list)<br>plt.show()\n",
        "\n",
        "*   제목 표시하기 : plt.title(str)\n",
        "\n",
        "*   X축 Y축 레이블 : plt.xlabel(str), plt.ylabel(str)\n",
        "\n",
        "*   레전드 표시하기: plt.legend(loc)\n",
        "     - upper left, upper right, upper center\n",
        "     - lower left, lower right, lower center\n",
        "     - right, center, center left, center right\n",
        "\n",
        "*   그리드 그리기 : plt.grid(True)\n",
        "*   축 범위 지정하기  : plt.axis([0, 1, -1.2, 1.2])\n",
        "*   2개의 그래프 Overlay : plt.plot(a_x_list, a_y_list, b_x_list, b_y_list)"
      ],
      "metadata": {
        "id": "NmyhJE1QaAgE"
      }
    },
    {
      "cell_type": "markdown",
      "source": [
        "### <실습 1> 다음 수식의 그래프를 그려보시오."
      ],
      "metadata": {
        "id": "bbOSuVqi5-5-"
      }
    },
    {
      "cell_type": "markdown",
      "source": [
        "$$y = ax+b$$"
      ],
      "metadata": {
        "id": "fQid2-6R9Yg8"
      }
    },
    {
      "cell_type": "markdown",
      "source": [
        "### <실습 2> 다음 수식의 그래프를 그려보시오."
      ],
      "metadata": {
        "id": "BcApHW7j9FQq"
      }
    },
    {
      "cell_type": "markdown",
      "source": [
        "$$y = \\sin(8 \\pi x)e^{-{9\\over5}x}$$"
      ],
      "metadata": {
        "id": "WXXCWlK29h6n"
      }
    },
    {
      "cell_type": "markdown",
      "source": [
        "##2) 점선 그래프\n",
        "*   <기본문법><br>plt.plot(x_list,y_list,\"marker and color\")<br>plt.show()\n",
        "*   marker: '-', '*', 'o', '.', 'D', 'v' 등\n",
        "*   color : r, g, b, y, m, c 등"
      ],
      "metadata": {
        "id": "NbLqXk2FaCWJ"
      }
    },
    {
      "cell_type": "markdown",
      "source": [
        "##3) 막대 그래프\n",
        "\n",
        "*   <기본문법><br>plt.bar(X,Y)<br>plt.show()  "
      ],
      "metadata": {
        "id": "MFx-qa_taRyG"
      }
    },
    {
      "cell_type": "markdown",
      "source": [
        "##4) 3차원 그래프\n",
        "\n",
        "*   <기본문법><br>axes = plt.axes(projection='3d')<br>plt.show()<br>axes.plot3D(X,Y,Z)\n",
        "   - Z = np.linespace(0,1,100)\n",
        "   - X = Z * np.sin(30*Z)\n",
        "   - Y = Z * np.cos(30*Z)\n",
        "\n"
      ],
      "metadata": {
        "id": "nEX2plL1aWVB"
      }
    },
    {
      "cell_type": "markdown",
      "source": [
        "## 5) 산점도\n",
        "\n",
        "*   plt.scatter(x_array, y_array)\n",
        "\n"
      ],
      "metadata": {
        "id": "j01CkT_9QDOx"
      }
    }
  ]
}