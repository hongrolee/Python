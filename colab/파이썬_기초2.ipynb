{
  "nbformat": 4,
  "nbformat_minor": 0,
  "metadata": {
    "colab": {
      "provenance": [],
      "toc_visible": true,
      "mount_file_id": "1oyDbLlF73m6hV-TaVDLE4xYsDtm45CQz",
      "authorship_tag": "ABX9TyORyeUhUt61SUVA17rFk2SB",
      "include_colab_link": true
    },
    "kernelspec": {
      "name": "python3",
      "display_name": "Python 3"
    },
    "language_info": {
      "name": "python"
    }
  },
  "cells": [
    {
      "cell_type": "markdown",
      "metadata": {
        "id": "view-in-github",
        "colab_type": "text"
      },
      "source": [
        "<a href=\"https://colab.research.google.com/github/hongrolee/Python/blob/main/colab/%ED%8C%8C%EC%9D%B4%EC%8D%AC_%EA%B8%B0%EC%B4%882.ipynb\" target=\"_parent\"><img src=\"https://colab.research.google.com/assets/colab-badge.svg\" alt=\"Open In Colab\"/></a>"
      ]
    },
    {
      "cell_type": "markdown",
      "source": [
        "## **리스트**\n",
        "* 여러가지 자료를 저장할 수 있는 데이터 구조체\n",
        "* 요소 : 리스트 내의 데이터를 의미\n",
        "\n",
        "\n"
      ],
      "metadata": {
        "id": "9RWQe0BvUrqV"
      }
    },
    {
      "cell_type": "markdown",
      "source": [
        "### 일차원 리스트"
      ],
      "metadata": {
        "id": "sTRvDH5q-7fF"
      }
    },
    {
      "cell_type": "markdown",
      "source": [
        "### 다차원 리스트\n",
        "\n",
        "*   [[ ],[ ],[ ]]\n",
        "\n"
      ],
      "metadata": {
        "id": "f-TIHxqM_Zgi"
      }
    },
    {
      "cell_type": "markdown",
      "source": [
        "### 인덱스\n",
        "\n",
        "*   숫자 0부터 시작\n",
        "*   array[숫자] : 특정 인덱스의 값 접근\n",
        "*   array[숫자:숫자] : 특정 범위의 값 접근\n",
        "*   array[-숫자] : 뒤에서 부터 접근\n",
        "*   array[숫자][숫자] : 다차원 리스트 접근\n",
        "*   범위를 벗어난 인덱스 접근시 error 발생\n",
        "\n",
        "\n"
      ],
      "metadata": {
        "id": "9DJgjN22-_F4"
      }
    },
    {
      "cell_type": "markdown",
      "source": [
        "### 리스트 연산자\n",
        "\n",
        "*   \\+ : 리스트 합치기\n",
        "*   \\* : 리스트 반복하기\n",
        "*   in : 특정 값 포함 여부 확인, True 또는 False 출력\n",
        "*   not in : 특정 값 불포함 여부 확인, True 또는 False 출력\n"
      ],
      "metadata": {
        "id": "eBw2w6WLBj84"
      }
    },
    {
      "cell_type": "markdown",
      "source": [
        "### 리스트 관련 함수\n",
        "\n",
        "*   len(리스트) : 리스트의 길이 측정\n",
        "*   리스티.append(요소) : 리스트에 요소 추가\n",
        "*   리스트.insert(인덱스, 요소) : 리스트 특정 인덱스에 추가\n",
        "*   리스트.extend(리스트) : 리스트 뒤에 확장 또는 추가, + 연산자와 동일\n",
        "*   del 리스트[인덱스] : 리스트 내 하나의 요소 제거\n",
        "*   del 리스트[인덱스:인덱스] : 특정 범위의 요소들 제거\n",
        "*   del 리스트[:인덱스] : 처음부터 인덱스 바로 직전까지 제거\n",
        "*   리스트.pop(인덱스) : 리스트 내 하나의 요소 제거, del과 유사\n",
        "*   리스트.remove(요소값) : 특정 값을 지정하여 제거, 단 처음 하나만 제거\n",
        "*   리스트.clear() : 요소들 모두 제거\n",
        "\n"
      ],
      "metadata": {
        "id": "UWqEWI7RB4PV"
      }
    },
    {
      "cell_type": "markdown",
      "source": [
        "### 디폴트 인수\n",
        "*   함수의 매개변수가 기본값을 가질 수 있음\n",
        "*   **순서가 정확해야 함**\n",
        "*   예> 함수명(10, 20, 30)\n",
        "\n"
      ],
      "metadata": {
        "id": "8sT_y_wMoRpv"
      }
    },
    {
      "cell_type": "markdown",
      "source": [
        "### 키워드 인수\n",
        "*  변수의 이름에 값을 직접 대입하여 전달\n",
        "*  **순서가 바뀌어도 무관**\n",
        "*  예> 함수명(x=10, y=20, z=30)"
      ],
      "metadata": {
        "id": "-hxHdJOmpDL1"
      }
    },
    {
      "cell_type": "markdown",
      "source": [
        "### 가변 인수\n",
        "*  전달하는 input의 개수를 명시하지 않는 경우(* 사용)\n",
        "*  **개수가 가변적이어도 상관없음**\n",
        "*  딕셔너리 형태로 전달도 가능 (**사용)\n",
        "*  예> 함수명(10), 함수명(10,20), 함수명(10,20,30)"
      ],
      "metadata": {
        "id": "9-s4OhNQq4l-"
      }
    },
    {
      "cell_type": "markdown",
      "source": [
        "### 지역변수, 전역변수\n",
        "* 전역변수 : 함수 외에 선언된 변수\n",
        "* 지역변수 : 함수 내에 선언된 변수\n",
        "* 함수 내 전역변수 접근 : global 변수명"
      ],
      "metadata": {
        "id": "HZ18MxBaT4SS"
      }
    },
    {
      "cell_type": "markdown",
      "source": [
        "### <실습>\n",
        "* 섭씨, 화씨 변환 프로그램을 함수를 활용하여 작성해 보세요.\n"
      ],
      "metadata": {
        "id": "lhUt4HGPSlxo"
      }
    },
    {
      "cell_type": "markdown",
      "source": [
        "## **튜플**"
      ],
      "metadata": {
        "id": "CU45yH5d_TtS"
      }
    },
    {
      "cell_type": "markdown",
      "source": [
        "## **딕셔너리**\n",
        "\n",
        "*   key를 기반으로 value 저장\n",
        "*   value에는 list가 올 수 있음\n",
        "*   {key:value, key:value, ..., key:value}\n",
        "*   key는 변수로 지정 가능\n",
        "\n",
        "### 출력\n",
        "*   딕셔너리명[key]\n",
        "\n",
        "### 수정 및 추가\n",
        "*   딕셔너리명[key] = value\n",
        "*   딕셔너리1.update(딕셔너리2) : 여러개를 한꺼번에 수정\n",
        "\n",
        "### 삭제\n",
        "*   del(딕셔너리명[key])"
      ],
      "metadata": {
        "id": "XkJm0qG3HgKD"
      }
    },
    {
      "cell_type": "markdown",
      "source": [
        "## **파일처리**"
      ],
      "metadata": {
        "id": "MlG9owKO_xqc"
      }
    },
    {
      "cell_type": "markdown",
      "source": [
        "## 제너레이터"
      ],
      "metadata": {
        "id": "gy7mWjOM_8QC"
      }
    },
    {
      "cell_type": "markdown",
      "source": [
        "## 모듈"
      ],
      "metadata": {
        "id": "apxQih6PAqmZ"
      }
    },
    {
      "cell_type": "markdown",
      "source": [
        "## 클래스"
      ],
      "metadata": {
        "id": "JW35qkeyAu0B"
      }
    },
    {
      "cell_type": "code",
      "source": [],
      "metadata": {
        "id": "rO7sTuDrApXP"
      },
      "execution_count": null,
      "outputs": []
    }
  ]
}