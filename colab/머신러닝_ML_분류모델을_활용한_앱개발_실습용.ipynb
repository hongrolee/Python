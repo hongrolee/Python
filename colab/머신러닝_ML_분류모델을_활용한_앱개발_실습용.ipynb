{
  "nbformat": 4,
  "nbformat_minor": 0,
  "metadata": {
    "colab": {
      "provenance": [],
      "mount_file_id": "1FSk4shckBsVFy55qfPGfGy5bTzqLboeZ",
      "authorship_tag": "ABX9TyMPK1tycNJltdSdgOlPzTWr",
      "include_colab_link": true
    },
    "kernelspec": {
      "name": "python3",
      "display_name": "Python 3"
    },
    "language_info": {
      "name": "python"
    }
  },
  "cells": [
    {
      "cell_type": "markdown",
      "metadata": {
        "id": "view-in-github",
        "colab_type": "text"
      },
      "source": [
        "<a href=\"https://colab.research.google.com/github/hongrolee/Python/blob/main/colab/%EB%A8%B8%EC%8B%A0%EB%9F%AC%EB%8B%9D_ML_%EB%B6%84%EB%A5%98%EB%AA%A8%EB%8D%B8%EC%9D%84_%ED%99%9C%EC%9A%A9%ED%95%9C_%EC%95%B1%EA%B0%9C%EB%B0%9C_%EC%8B%A4%EC%8A%B5%EC%9A%A9.ipynb\" target=\"_parent\"><img src=\"https://colab.research.google.com/assets/colab-badge.svg\" alt=\"Open In Colab\"/></a>"
      ]
    },
    {
      "cell_type": "markdown",
      "source": [
        "# 안드로이드 앱 서비스에 사용할 모델 만들기\n",
        "* 앱 주제 : 와인 데이터를 입력으로 받아, 와인의 종류를 분류하는 안드로이드 앱 개발\n",
        "* 입력 데이터 : alcohol, sugar, pH\n",
        "* 여기에서는 모델만 생성하여 다운로드한다."
      ],
      "metadata": {
        "id": "8jMQFMw1jm93"
      }
    },
    {
      "cell_type": "code",
      "execution_count": null,
      "metadata": {
        "id": "4bk_C5ypJ71m"
      },
      "outputs": [],
      "source": [
        "import numpy as np\n",
        "import pandas as pd\n",
        "from sklearn.model_selection import train_test_split\n",
        "from sklearn.ensemble import HistGradientBoostingClassifier\n",
        "\n",
        "# 와인 데이터 읽어오기 (wine.csv)\n",
        "\n",
        "\n",
        "# 훈련 및 테스트 데이터 분리\n",
        "\n",
        "\n",
        "# 모델 생성 및 훈련(, HistGradientBoostingClassifier)\n",
        "\n",
        "\n"
      ]
    },
    {
      "cell_type": "code",
      "source": [
        "# 예측하여 분류 결과 보기 (입력 : [12.2 , 12.8 ,  3.26])\n",
        "\n",
        "\n"
      ],
      "metadata": {
        "id": "GaS_O8EOLjXq"
      },
      "execution_count": null,
      "outputs": []
    },
    {
      "cell_type": "code",
      "source": [
        "# 성능 측정\n",
        "\n",
        "\n"
      ],
      "metadata": {
        "id": "yXQVp5sqlvGx"
      },
      "execution_count": null,
      "outputs": []
    },
    {
      "cell_type": "code",
      "source": [
        "# 모델 다운로드하기 (joblib.dump(모델, '파일명'))\n",
        "\n",
        "\n"
      ],
      "metadata": {
        "id": "PTzbmbXTUFn8"
      },
      "execution_count": null,
      "outputs": []
    }
  ]
}