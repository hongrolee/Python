{
  "nbformat": 4,
  "nbformat_minor": 0,
  "metadata": {
    "colab": {
      "provenance": [],
      "toc_visible": true,
      "mount_file_id": "1oyDbLlF73m6hV-TaVDLE4xYsDtm45CQz",
      "authorship_tag": "ABX9TyOBWKf4fbPkse7jfSPkopLq",
      "include_colab_link": true
    },
    "kernelspec": {
      "name": "python3",
      "display_name": "Python 3"
    },
    "language_info": {
      "name": "python"
    }
  },
  "cells": [
    {
      "cell_type": "markdown",
      "metadata": {
        "id": "view-in-github",
        "colab_type": "text"
      },
      "source": [
        "<a href=\"https://colab.research.google.com/github/hongrolee/Python/blob/main/colab/%ED%8C%8C%EC%9D%B4%EC%8D%AC_%EA%B8%B0%EC%B4%884.ipynb\" target=\"_parent\"><img src=\"https://colab.research.google.com/assets/colab-badge.svg\" alt=\"Open In Colab\"/></a>"
      ]
    },
    {
      "cell_type": "markdown",
      "source": [
        "# **Python 객체지향 프로그래밍**"
      ],
      "metadata": {
        "id": "xlPcXwh9L7t3"
      }
    },
    {
      "cell_type": "markdown",
      "source": [
        "## **1. 객체지향 프로그래밍 개요**"
      ],
      "metadata": {
        "id": "6DTUk00NMYtb"
      }
    },
    {
      "cell_type": "markdown",
      "source": [
        "### (1) 정의"
      ],
      "metadata": {
        "id": "A7nDrO1PMe4f"
      }
    },
    {
      "cell_type": "markdown",
      "source": [
        "### (2) 특징"
      ],
      "metadata": {
        "id": "LIrxMYBJNCgC"
      }
    },
    {
      "cell_type": "markdown",
      "source": [
        "## **2. 클래스**"
      ],
      "metadata": {
        "id": "5OalqwOjNNxQ"
      }
    },
    {
      "cell_type": "markdown",
      "source": [
        "### (1) 클래스 기본 구조"
      ],
      "metadata": {
        "id": "nEFKR0ZPNny4"
      }
    },
    {
      "cell_type": "markdown",
      "source": [
        "### (2) 멤버변수\n",
        "\n",
        "*   인스턴스 변수\n",
        "*   클래스 변수\n",
        "\n"
      ],
      "metadata": {
        "id": "DpfpH97mNtVO"
      }
    },
    {
      "cell_type": "markdown",
      "source": [
        "### (3) 생성자"
      ],
      "metadata": {
        "id": "IS9-aza2NzNx"
      }
    },
    {
      "cell_type": "markdown",
      "source": [
        "### (4) 메소드"
      ],
      "metadata": {
        "id": "bL03AGz3N5vj"
      }
    },
    {
      "cell_type": "markdown",
      "source": [
        "## **3. 객체지향 특성들**"
      ],
      "metadata": {
        "id": "laBRWq9POtd3"
      }
    },
    {
      "cell_type": "markdown",
      "source": [
        "###(1) 상속"
      ],
      "metadata": {
        "id": "6s7g-9SCPwWw"
      }
    },
    {
      "cell_type": "markdown",
      "source": [
        "### (2) Parent and Child Class"
      ],
      "metadata": {
        "id": "nUj0u4CCO4sx"
      }
    },
    {
      "cell_type": "markdown",
      "source": [
        "###(3) Method Overriding"
      ],
      "metadata": {
        "id": "hgBuntEjPE-1"
      }
    },
    {
      "cell_type": "markdown",
      "source": [
        "### (4) 다형성과 동적바인딩"
      ],
      "metadata": {
        "id": "3V4m8Jt9PW2d"
      }
    },
    {
      "cell_type": "markdown",
      "source": [
        "### (5) Object Class"
      ],
      "metadata": {
        "id": "IS7_26q1P9Ie"
      }
    },
    {
      "cell_type": "markdown",
      "source": [
        "##**4. 모듈**"
      ],
      "metadata": {
        "id": "t-bLNxHdRJvf"
      }
    },
    {
      "cell_type": "markdown",
      "source": [
        "###(1) 모듈의 개념"
      ],
      "metadata": {
        "id": "6JGuC2JyRPvc"
      }
    },
    {
      "cell_type": "markdown",
      "source": [
        "###(2) 유용한 모듈들"
      ],
      "metadata": {
        "id": "XWZAqWZyRUky"
      }
    }
  ]
}