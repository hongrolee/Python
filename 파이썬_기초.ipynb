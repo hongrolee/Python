{
  "nbformat": 4,
  "nbformat_minor": 0,
  "metadata": {
    "colab": {
      "provenance": [],
      "mount_file_id": "1oyDbLlF73m6hV-TaVDLE4xYsDtm45CQz",
      "authorship_tag": "ABX9TyM24GjowT5UxTlbBOyuv2MN",
      "include_colab_link": true
    },
    "kernelspec": {
      "name": "python3",
      "display_name": "Python 3"
    },
    "language_info": {
      "name": "python"
    }
  },
  "cells": [
    {
      "cell_type": "markdown",
      "metadata": {
        "id": "view-in-github",
        "colab_type": "text"
      },
      "source": [
        "<a href=\"https://colab.research.google.com/github/hongrolee/Python-Basic/blob/main/%ED%8C%8C%EC%9D%B4%EC%8D%AC_%EA%B8%B0%EC%B4%88.ipynb\" target=\"_parent\"><img src=\"https://colab.research.google.com/assets/colab-badge.svg\" alt=\"Open In Colab\"/></a>"
      ]
    },
    {
      "cell_type": "markdown",
      "source": [
        "# 파이썬 기초-modified"
      ],
      "metadata": {
        "id": "gGReaEsd9Jp4"
      }
    },
    {
      "cell_type": "code",
      "source": [],
      "metadata": {
        "id": "ubmbGfkkXCPA"
      },
      "execution_count": null,
      "outputs": []
    },
    {
      "cell_type": "markdown",
      "source": [
        "## 파이썬 개요"
      ],
      "metadata": {
        "id": "JwanIx1z9YfA"
      }
    },
    {
      "cell_type": "markdown",
      "source": [
        "### 파이썬의 장점\n",
        "\n",
        "\n",
        "*   비전공자도 쉽게 배울 수 있음\n",
        "*   다양한 분야에서 활용 가능\n",
        "*   대분의 운영체제에서 호환\n",
        "*   다양한 라이브러리 활용 가능 (데이터분석, 머신러닝, 인공지능 등)"
      ],
      "metadata": {
        "id": "e83MqHmu9gNO"
      }
    },
    {
      "cell_type": "markdown",
      "source": [
        "### 파이썬의 단점\n",
        "\n",
        "\n",
        "*   C언에 비해 느림 (10배~350배)\n",
        "\n"
      ],
      "metadata": {
        "id": "lJlhVXZI9744"
      }
    },
    {
      "cell_type": "markdown",
      "source": [
        "## 기본 문법"
      ],
      "metadata": {
        "id": "3nH9xhoA_GBJ"
      }
    },
    {
      "cell_type": "markdown",
      "source": [
        "### 주석 (#)"
      ],
      "metadata": {
        "id": "-pKCMZdbARHY"
      }
    },
    {
      "cell_type": "code",
      "source": [
        "print(\"반갑습니다.\")"
      ],
      "metadata": {
        "colab": {
          "base_uri": "https://localhost:8080/"
        },
        "id": "OEEO80Oi9eb1",
        "outputId": "083b5384-0751-4b47-8f09-60900135a02f"
      },
      "execution_count": null,
      "outputs": [
        {
          "output_type": "stream",
          "name": "stdout",
          "text": [
            "반갑습니다.\n"
          ]
        }
      ]
    },
    {
      "cell_type": "markdown",
      "source": [
        "### 기본 자료형\n",
        "\n",
        "*   int : 정수형\n",
        "*   float : 실수형\n",
        "*   str : 문자열\n",
        "*   boolean : True 또는 False\n",
        "*   type()"
      ],
      "metadata": {
        "id": "PIFuB_KgBmfg"
      }
    },
    {
      "cell_type": "code",
      "source": [],
      "metadata": {
        "id": "eKFhITNhDGRT"
      },
      "execution_count": null,
      "outputs": []
    },
    {
      "cell_type": "markdown",
      "source": [
        "### 연산자\n",
        "\n",
        "*   사칙연산 : +, -, *, /\n",
        "*   나머지 연산자 : %\n",
        "*   제곱 연산자 : **\n",
        "*   복합 대입 연산자 : +=, -=, *=, /=, %=, ***=\n",
        "*   우선순위 : 곱셈, 나눗셈 > 덧셈, 뺄셈 ( ( )가 있으면 최우선)\n",
        "*   비교 연산자 : ==, !=, <, >, <=, >=\n",
        "*   논리 연산자 : and, or, not\n"
      ],
      "metadata": {
        "id": "X7v63X1rAmSQ"
      }
    },
    {
      "cell_type": "code",
      "source": [],
      "metadata": {
        "id": "0b8DluD7PycI"
      },
      "execution_count": null,
      "outputs": []
    },
    {
      "cell_type": "markdown",
      "source": [
        "### 문자열\n",
        "\n",
        "*   형식 : \"2023년 AI중급과정\", '2023년 AI중급과정'\n",
        "*   이스케이프 문자 : \\\\\", \\\\', \\\\n, \\\\t, \\\\\\\n",
        "*   문자열 연산자 : +, *, in\n",
        "*   인덱싱 및 슬라이싱 : [ ], [:], [-]\n",
        "\n",
        "\n"
      ],
      "metadata": {
        "id": "TYkiqTcxDHhb"
      }
    },
    {
      "cell_type": "code",
      "source": [],
      "metadata": {
        "id": "jB0vGlx-DMy5"
      },
      "execution_count": null,
      "outputs": []
    },
    {
      "cell_type": "markdown",
      "source": [
        "### 문자열 함수\n",
        "\n",
        "*   len() : 문자열 길이 측정\n",
        "*   format(), upper(), lower(), strip() : 문자 형태 변경\n",
        "*   isalnum() : 알파벳 또는 숫자 포함 여부\n",
        "*   isalpha() : 알파벳 포함 여부\n",
        "*   isidentifier() : 식별자 사용가능 여부\n",
        "*   isdecimal() : 정수 여부\n",
        "*   isdigit() : 숫자 인식 여부\n",
        "*   isspace() : 공백으로만 구성 여부\n",
        "*   islower() : 소문자만으로 구성 여부\n",
        "*   isupper() : 대문자만으로 구성 여부\n",
        "*   find()    : 특정 문자열의 왼쪽 부터의 인덱스\n",
        "*   rfind()   : 특정 문자열의 오른쪽 부터의 인덱스\n",
        "*   split()   : 특정 문자로 자름"
      ],
      "metadata": {
        "id": "mE2fx4mdMPpF"
      }
    },
    {
      "cell_type": "code",
      "source": [],
      "metadata": {
        "id": "29OQWJPSAW5C"
      },
      "execution_count": null,
      "outputs": []
    },
    {
      "cell_type": "markdown",
      "source": [
        "### 사용자 입력\n",
        "\n",
        "*   input()"
      ],
      "metadata": {
        "id": "JVikariOHb5j"
      }
    },
    {
      "cell_type": "code",
      "source": [],
      "metadata": {
        "id": "WQhKZ844HlUN"
      },
      "execution_count": null,
      "outputs": []
    },
    {
      "cell_type": "markdown",
      "source": [
        "### 형 변환 (cast)\n",
        "\n",
        "*   int()\n",
        "*   float()\n",
        "*   str()\n",
        "\n"
      ],
      "metadata": {
        "id": "tMmhWY7LIa1f"
      }
    },
    {
      "cell_type": "code",
      "source": [],
      "metadata": {
        "id": "UjUAllUxJHyq"
      },
      "execution_count": null,
      "outputs": []
    },
    {
      "cell_type": "markdown",
      "source": [
        "### 날짜 및 시간\n",
        "- import datetime\n",
        "*   datetime.datetime.now()\n",
        "*   year, month, day, hour, minute, second\n",
        "\n"
      ],
      "metadata": {
        "id": "NzqkGm_fSEGM"
      }
    },
    {
      "cell_type": "code",
      "source": [],
      "metadata": {
        "id": "I9U90_cQGlzT"
      },
      "execution_count": null,
      "outputs": []
    },
    {
      "cell_type": "markdown",
      "source": [
        "## 조건문"
      ],
      "metadata": {
        "id": "3Vc6GYa1Raeu"
      }
    },
    {
      "cell_type": "markdown",
      "source": [
        "### if, if-else, if-elif-else"
      ],
      "metadata": {
        "id": "6WRooyj9R7MG"
      }
    },
    {
      "cell_type": "code",
      "source": [],
      "metadata": {
        "id": "3YtwdfESR-rR"
      },
      "execution_count": null,
      "outputs": []
    },
    {
      "cell_type": "markdown",
      "source": [
        "### if-in"
      ],
      "metadata": {
        "id": "2IAIsFmWS9yI"
      }
    },
    {
      "cell_type": "code",
      "source": [],
      "metadata": {
        "id": "Dts4ORliT2EY"
      },
      "execution_count": null,
      "outputs": []
    },
    {
      "cell_type": "markdown",
      "source": [
        "### pass"
      ],
      "metadata": {
        "id": "xC13BiszSBYQ"
      }
    },
    {
      "cell_type": "code",
      "source": [],
      "metadata": {
        "id": "oRWx_gXEUJ4L"
      },
      "execution_count": null,
      "outputs": []
    },
    {
      "cell_type": "markdown",
      "source": [
        "## 리스트\n",
        "* 여러가지 자료를 저장할 수 있는 데이터 구조체\n",
        "* 요소 : 리스트 내의 데이터를 의미\n",
        "\n",
        "\n"
      ],
      "metadata": {
        "id": "9RWQe0BvUrqV"
      }
    },
    {
      "cell_type": "markdown",
      "source": [
        "### 일차원 리스트"
      ],
      "metadata": {
        "id": "sTRvDH5q-7fF"
      }
    },
    {
      "cell_type": "code",
      "source": [],
      "metadata": {
        "id": "XNGbmGog--dr"
      },
      "execution_count": null,
      "outputs": []
    },
    {
      "cell_type": "markdown",
      "source": [
        "### 다차원 리스트\n",
        "\n",
        "*   [[ ],[ ],[ ]]\n",
        "\n"
      ],
      "metadata": {
        "id": "f-TIHxqM_Zgi"
      }
    },
    {
      "cell_type": "code",
      "source": [],
      "metadata": {
        "id": "6lwFSotCBb-k"
      },
      "execution_count": null,
      "outputs": []
    },
    {
      "cell_type": "markdown",
      "source": [
        "### 인덱스\n",
        "\n",
        "*   숫자 0부터 시작\n",
        "*   array[숫자] : 특정 인덱스의 값 접근\n",
        "*   array[숫자:숫자] : 특정 범위의 값 접근\n",
        "*   array[-숫자] : 뒤에서 부터 접근\n",
        "*   array[숫자][숫자] : 다차원 리스트 접근\n",
        "*   범위를 벗어난 인덱스 접근시 error 발생\n",
        "\n",
        "\n"
      ],
      "metadata": {
        "id": "9DJgjN22-_F4"
      }
    },
    {
      "cell_type": "code",
      "source": [],
      "metadata": {
        "id": "r90LjLgtARmB"
      },
      "execution_count": null,
      "outputs": []
    },
    {
      "cell_type": "markdown",
      "source": [
        "### 리스트 연산자\n",
        "\n",
        "*   \\+ : 리스트 합치기\n",
        "*   \\* : 리스트 반복하기\n",
        "*   in : 특정 값 포함 여부 확인, True 또는 False 출력\n",
        "*   not in : 특정 값 불포함 여부 확인, True 또는 False 출력\n"
      ],
      "metadata": {
        "id": "eBw2w6WLBj84"
      }
    },
    {
      "cell_type": "code",
      "source": [
        "list = [1,2,3]\n",
        "list = list*3\n",
        "list"
      ],
      "metadata": {
        "colab": {
          "base_uri": "https://localhost:8080/"
        },
        "id": "AyWUlfzQAi0m",
        "outputId": "55b1a447-9a62-40cf-aa0a-85ff2a44e36b"
      },
      "execution_count": null,
      "outputs": [
        {
          "output_type": "execute_result",
          "data": {
            "text/plain": [
              "[1, 2, 3, 1, 2, 3, 1, 2, 3]"
            ]
          },
          "metadata": {},
          "execution_count": 2
        }
      ]
    },
    {
      "cell_type": "markdown",
      "source": [
        "### 리스트 관련 함수\n",
        "\n",
        "*   len(리스트) : 리스트의 길이 측정\n",
        "*   append(요소) : 리스트에 요소 추가\n",
        "*   insert(인덱스, 요소) : 리스트 특정 인덱스에 추가\n",
        "*   extend(리스트) : 리스트 뒤에 확장 또는 추가, + 연산자와 동일\n",
        "*   del 리스트[인덱스] : 리스트 내 하나의 요소 제거\n",
        "*   del 리스트[인덱스:인덱스] : 특정 범위의 요소들 제거\n",
        "*   del 리스트[:인덱스] : 처음부터 인덱스 바로 직전까지 제거\n",
        "*   pop(인덱스) : 리스트 내 하나의 요소 제거, del과 유사\n",
        "*   remove(요소값) : 특정 값을 지정하여 제거, 단 처음 하나만 제거\n",
        "*   clear() : 요소들 모두 제거\n",
        "\n"
      ],
      "metadata": {
        "id": "UWqEWI7RB4PV"
      }
    },
    {
      "cell_type": "code",
      "source": [
        "list = [1,2,3,4,5,2]\n",
        "list.remove(2)\n",
        "list"
      ],
      "metadata": {
        "colab": {
          "base_uri": "https://localhost:8080/"
        },
        "id": "0rmEOSDcDMG8",
        "outputId": "5ecf46a0-c52f-4c71-b3f7-862e1093bbeb"
      },
      "execution_count": null,
      "outputs": [
        {
          "output_type": "execute_result",
          "data": {
            "text/plain": [
              "[1, 3, 4, 5, 2]"
            ]
          },
          "metadata": {},
          "execution_count": 1
        }
      ]
    },
    {
      "cell_type": "markdown",
      "source": [
        "## 딕셔너리\n",
        "\n",
        "*   key를 기반으로 value 저장\n",
        "*   value에는 list가 올 수 있음\n",
        "*   {key:value, key:value, ..., key:value}\n",
        "*   <중요> key는 반드시 변수로 지정해야 함"
      ],
      "metadata": {
        "id": "XkJm0qG3HgKD"
      }
    },
    {
      "cell_type": "code",
      "source": [
        "name = \"이름\"\n",
        "sn = \"학번\"\n",
        "dict = {name:\"홍로\", sn:12345 }\n",
        "dict"
      ],
      "metadata": {
        "colab": {
          "base_uri": "https://localhost:8080/"
        },
        "id": "h1IwWRScIRlf",
        "outputId": "aa640d0c-4804-44af-e599-dc8d5f16aef2"
      },
      "execution_count": null,
      "outputs": [
        {
          "output_type": "execute_result",
          "data": {
            "text/plain": [
              "{'이름': '홍로', '학번': 12345}"
            ]
          },
          "metadata": {},
          "execution_count": 4
        }
      ]
    },
    {
      "cell_type": "markdown",
      "source": [
        "### 출력\n",
        "*   딕셔너리명[key]\n"
      ],
      "metadata": {
        "id": "R3ppIR-jIQMi"
      }
    },
    {
      "cell_type": "code",
      "source": [
        "dict[name]"
      ],
      "metadata": {
        "colab": {
          "base_uri": "https://localhost:8080/",
          "height": 35
        },
        "id": "fIvb48o8IQAu",
        "outputId": "f2e009ee-728b-438e-d644-8e8c3d6c748b"
      },
      "execution_count": null,
      "outputs": [
        {
          "output_type": "execute_result",
          "data": {
            "text/plain": [
              "'홍로'"
            ],
            "application/vnd.google.colaboratory.intrinsic+json": {
              "type": "string"
            }
          },
          "metadata": {},
          "execution_count": 5
        }
      ]
    },
    {
      "cell_type": "markdown",
      "source": [
        "## 반복문"
      ],
      "metadata": {
        "id": "b_7NgSJ9Ha5V"
      }
    },
    {
      "cell_type": "markdown",
      "source": [
        "### 리스트 반복문\n",
        "\n",
        "*   for i in 리스트\n",
        "*   for i in range(횟수)\n",
        "\n"
      ],
      "metadata": {
        "id": "hRHdKwSeFOHm"
      }
    },
    {
      "cell_type": "code",
      "source": [],
      "metadata": {
        "id": "3eeve4A7HEWJ"
      },
      "execution_count": null,
      "outputs": []
    }
  ]
}